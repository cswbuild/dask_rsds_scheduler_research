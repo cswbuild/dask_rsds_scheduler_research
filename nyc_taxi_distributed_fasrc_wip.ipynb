{
 "cells": [
  {
   "cell_type": "markdown",
   "id": "94161fe2",
   "metadata": {},
   "source": [
    "# PIP INSTALL DEPENDENCIES - ONLY RUN THE FIRST TIME IN FASRC"
   ]
  },
  {
   "cell_type": "code",
   "execution_count": null,
   "id": "3d294c9b",
   "metadata": {},
   "outputs": [],
   "source": [
    "!pip install pyarrow"
   ]
  },
  {
   "cell_type": "code",
   "execution_count": null,
   "id": "7293d9f9",
   "metadata": {},
   "outputs": [],
   "source": [
    "!pip install git+https://github.com/gjoseph92/scheduler-profilers.git\n"
   ]
  },
  {
   "cell_type": "code",
   "execution_count": null,
   "id": "ff48047f",
   "metadata": {},
   "outputs": [],
   "source": [
    "!pip install git+https://github.com/mlkimmins/distributed.git@explore-worker-queue-2"
   ]
  },
  {
   "cell_type": "code",
   "execution_count": null,
   "id": "ecb44cd5",
   "metadata": {
    "scrolled": true
   },
   "outputs": [],
   "source": [
    "!pip install -r requirements.txt"
   ]
  },
  {
   "cell_type": "code",
   "execution_count": null,
   "id": "d3147df1",
   "metadata": {},
   "outputs": [],
   "source": [
    "!pip install py-spy "
   ]
  },
  {
   "cell_type": "markdown",
   "id": "df5f2b57",
   "metadata": {},
   "source": [
    "# MUST RESTART THE KERNEL FROM HERE"
   ]
  },
  {
   "cell_type": "code",
   "execution_count": null,
   "id": "6820030c",
   "metadata": {},
   "outputs": [],
   "source": []
  },
  {
   "cell_type": "code",
   "execution_count": null,
   "id": "4d8fe3b6",
   "metadata": {},
   "outputs": [],
   "source": []
  },
  {
   "cell_type": "markdown",
   "id": "c4cff520",
   "metadata": {},
   "source": [
    "Step 1: download and convert dataset from CSV to Parquet"
   ]
  },
  {
   "cell_type": "code",
   "execution_count": 1,
   "id": "d599ba3e",
   "metadata": {},
   "outputs": [],
   "source": [
    "from scheduler_profilers import pyspy_on_scheduler, viztrace_scheduler"
   ]
  },
  {
   "cell_type": "code",
   "execution_count": 2,
   "id": "a0bde071",
   "metadata": {},
   "outputs": [],
   "source": [
    "from dask.distributed import Client, LocalCluster\n",
    "import dask.distributed"
   ]
  },
  {
   "cell_type": "code",
   "execution_count": 3,
   "id": "a77e566e",
   "metadata": {},
   "outputs": [
    {
     "name": "stdout",
     "output_type": "stream",
     "text": [
      "dask distributed version: 2022.3.0+44.gcc96a43d\n"
     ]
    }
   ],
   "source": [
    "print('dask distributed version: %s' % dask.distributed.__version__)"
   ]
  },
  {
   "cell_type": "code",
   "execution_count": null,
   "id": "413bb2ba",
   "metadata": {},
   "outputs": [],
   "source": []
  },
  {
   "cell_type": "code",
   "execution_count": 4,
   "id": "d3ffc5e5",
   "metadata": {},
   "outputs": [],
   "source": [
    "import pandas as pd\n",
    "import pyarrow as pa\n",
    "import pyarrow.parquet as pq"
   ]
  },
  {
   "cell_type": "code",
   "execution_count": 5,
   "id": "2f183f6d",
   "metadata": {},
   "outputs": [],
   "source": [
    "import dask.dataframe as dd\n",
    "import pandas as pd\n",
    "import numpy as np\n",
    "from dask.distributed import Client, LocalCluster\n",
    "import dask\n",
    "from dask.distributed import get_task_stream"
   ]
  },
  {
   "cell_type": "code",
   "execution_count": 6,
   "id": "d99d2540",
   "metadata": {},
   "outputs": [],
   "source": [
    "import time"
   ]
  },
  {
   "cell_type": "code",
   "execution_count": 7,
   "id": "507c0db9",
   "metadata": {},
   "outputs": [
    {
     "name": "stdout",
     "output_type": "stream",
     "text": [
      "pandas version: 1.3.2\n",
      "numpy version: 1.19.5\n",
      "dask version: 2022.04.0\n"
     ]
    }
   ],
   "source": [
    "print('pandas version: %s' % pd.__version__)\n",
    "print('numpy version: %s' % np.__version__)\n",
    "print('dask version: %s' % dask.__version__)"
   ]
  },
  {
   "cell_type": "code",
   "execution_count": 8,
   "id": "af2316be",
   "metadata": {},
   "outputs": [
    {
     "name": "stdout",
     "output_type": "stream",
     "text": [
      "dask distributed version: 2022.3.0+44.gcc96a43d\n"
     ]
    }
   ],
   "source": [
    "print('dask distributed version: %s' % dask.distributed.__version__)"
   ]
  },
  {
   "cell_type": "markdown",
   "id": "61e2b761",
   "metadata": {},
   "source": [
    "https://docs.databricks.com/_static/notebooks/koalas-benchmark-distributed-execution.html?_ga=2.216403934.95291449.1648935555-599276868.1645477063"
   ]
  },
  {
   "cell_type": "code",
   "execution_count": null,
   "id": "d7122ef5",
   "metadata": {},
   "outputs": [],
   "source": [
    "filename = \"taxi_dataset.txt\""
   ]
  },
  {
   "cell_type": "code",
   "execution_count": null,
   "id": "1621fe95",
   "metadata": {},
   "outputs": [],
   "source": [
    "with open(filename) as file:\n",
    "    csv_files = [line.rstrip() for line in file]\n",
    "# only choose yellow taxis\n",
    "yellow = list(filter(lambda x: \"yellow\" in x, csv_files))"
   ]
  },
  {
   "cell_type": "code",
   "execution_count": null,
   "id": "f414529f",
   "metadata": {},
   "outputs": [],
   "source": []
  },
  {
   "cell_type": "code",
   "execution_count": null,
   "id": "b7268bbf",
   "metadata": {},
   "outputs": [],
   "source": []
  },
  {
   "cell_type": "code",
   "execution_count": null,
   "id": "7a4ecb40",
   "metadata": {
    "scrolled": true
   },
   "outputs": [],
   "source": [
    "# make the list small for now\n",
    "yellow = ['https://s3.amazonaws.com/nyc-tlc/trip+data/yellow_tripdata_2013-11.csv']"
   ]
  },
  {
   "cell_type": "code",
   "execution_count": null,
   "id": "7836d2a7",
   "metadata": {},
   "outputs": [],
   "source": [
    "yellow"
   ]
  },
  {
   "cell_type": "code",
   "execution_count": null,
   "id": "24e01ad8",
   "metadata": {},
   "outputs": [],
   "source": [
    "import re\n",
    "pattern = '/[^\\/]*\\.csv$/gm'\n",
    "\n",
    "for csv_url in yellow:\n",
    "#     get the filename only so I can sort by month / year\n",
    "    csv_name = re.findall(r\"[^\\/]*\\.csv$\",csv_url)\n",
    "    df = dd.read_csv(csv_url,dtype={'tolls_amount': 'float64'})\n",
    "\n",
    "    df = df.repartition(npartitions=4)\n",
    "    df.to_parquet(f'./tmp/trip_data_{csv_name}', write_index=False)\n"
   ]
  },
  {
   "cell_type": "code",
   "execution_count": null,
   "id": "50492a32",
   "metadata": {},
   "outputs": [],
   "source": []
  },
  {
   "cell_type": "markdown",
   "id": "377a7e5a",
   "metadata": {},
   "source": [
    "Read in parquet to dask"
   ]
  },
  {
   "cell_type": "code",
   "execution_count": null,
   "id": "2965a651",
   "metadata": {},
   "outputs": [],
   "source": []
  },
  {
   "cell_type": "code",
   "execution_count": null,
   "id": "b99424fc",
   "metadata": {},
   "outputs": [],
   "source": []
  },
  {
   "cell_type": "code",
   "execution_count": 9,
   "id": "9e6e7929",
   "metadata": {},
   "outputs": [],
   "source": [
    "from dask.distributed import get_task_stream\n",
    "\n",
    "client = Client()"
   ]
  },
  {
   "cell_type": "code",
   "execution_count": null,
   "id": "b5588aca",
   "metadata": {
    "scrolled": true
   },
   "outputs": [],
   "source": []
  },
  {
   "cell_type": "code",
   "execution_count": null,
   "id": "d0a9f44e",
   "metadata": {
    "scrolled": true
   },
   "outputs": [],
   "source": []
  },
  {
   "cell_type": "code",
   "execution_count": null,
   "id": "5bfc0a06",
   "metadata": {},
   "outputs": [],
   "source": []
  },
  {
   "cell_type": "code",
   "execution_count": null,
   "id": "d4a4a4d5",
   "metadata": {},
   "outputs": [],
   "source": []
  },
  {
   "cell_type": "code",
   "execution_count": null,
   "id": "e88df266",
   "metadata": {},
   "outputs": [],
   "source": []
  },
  {
   "cell_type": "code",
   "execution_count": null,
   "id": "7d9605b0",
   "metadata": {},
   "outputs": [],
   "source": []
  },
  {
   "cell_type": "markdown",
   "id": "9f53d078",
   "metadata": {},
   "source": [
    "# set up testbench"
   ]
  },
  {
   "cell_type": "code",
   "execution_count": null,
   "id": "3911e95e",
   "metadata": {},
   "outputs": [],
   "source": [
    "def benchmark(f, df, benchmarks, task_name, **kwargs):\n",
    "    \"\"\"Benchmark the given function against the given DataFrame.\n",
    "    \n",
    "    Parameters\n",
    "    ----------\n",
    "    f: function to benchmark\n",
    "    df: data frame\n",
    "    benchmarks: container for benchmark results\n",
    "    name: task name\n",
    "    \n",
    "    Returns\n",
    "    -------\n",
    "    Duration (in seconds) of the given operation\n",
    "    \"\"\"\n",
    "    ret_benchmark_vals = {}\n",
    "    with get_task_stream(plot='save', filename=\"task-stream.html\") as ts:\n",
    "        start_time = time.time()\n",
    "        ret = f(df, **kwargs)\n",
    "        ret_benchmark_vals['raw_duration'] = time.time() - start_time\n",
    "        ret_benchmark_vals['history'] = ts.data\n",
    "    benchmarks[task_name] = ret_benchmark_vals\n",
    "    print(f\"{task_name} took: {benchmarks[task_name].get('raw_duration')} seconds\")\n",
    "    return benchmarks[task_name].get(\"raw_duration\")"
   ]
  },
  {
   "cell_type": "code",
   "execution_count": null,
   "id": "6c13e8a2",
   "metadata": {},
   "outputs": [],
   "source": []
  },
  {
   "cell_type": "code",
   "execution_count": 10,
   "id": "89828334",
   "metadata": {},
   "outputs": [],
   "source": [
    "import collections\n",
    "dask_benchmarks = collections.defaultdict(dict)\n",
    "# benchmarks = {\"task1\" : {\"stat1\": val, \"stat2\": val}}"
   ]
  },
  {
   "cell_type": "code",
   "execution_count": null,
   "id": "35e71a90",
   "metadata": {},
   "outputs": [],
   "source": []
  },
  {
   "cell_type": "code",
   "execution_count": null,
   "id": "37ec87ce",
   "metadata": {},
   "outputs": [],
   "source": []
  },
  {
   "cell_type": "markdown",
   "id": "b1f1c4e6",
   "metadata": {},
   "source": [
    "# Define benchmark tasks"
   ]
  },
  {
   "cell_type": "code",
   "execution_count": null,
   "id": "f10b340f",
   "metadata": {},
   "outputs": [],
   "source": [
    "all_tasks = []"
   ]
  },
  {
   "cell_type": "code",
   "execution_count": null,
   "id": "99183ef3",
   "metadata": {},
   "outputs": [],
   "source": [
    "# sum, then means = simple mapreduce\n",
    "def read_to_basic_ETL(df = None):\n",
    "    df = dd.read_parquet(\n",
    "    \"./tmp/\", \n",
    "    storage_options={\"anon\": True, 'use_ssl': True})    \n",
    "    return (df.fare_amount + df.tip_amount).mean().compute()\n",
    "all_tasks.append(read_to_basic_ETL)"
   ]
  },
  {
   "cell_type": "code",
   "execution_count": null,
   "id": "9d415f3c",
   "metadata": {},
   "outputs": [],
   "source": [
    "# counts of values seen = simple map, groupby, reduce\n",
    "def count_values(df):\n",
    "    return df.fare_amount.value_counts().compute()\n",
    "all_tasks.append(count_values)"
   ]
  },
  {
   "cell_type": "code",
   "execution_count": null,
   "id": "5b859b0e",
   "metadata": {},
   "outputs": [],
   "source": [
    "# cpu heavy arithmetic : mapreduce\n",
    "def complicated_arithmetic_operation(df):\n",
    "    theta_1 = df.pickup_longitude\n",
    "    phi_1 = df.pickup_latitude\n",
    "    theta_2 = df.dropoff_longitude\n",
    "    phi_2 = df.dropoff_latitude\n",
    "    temp = (np.sin((theta_2-theta_1)/2*np.pi/180)**2\n",
    "           + np.cos(theta_1*np.pi/180)*np.cos(theta_2*np.pi/180) * np.sin((phi_2-phi_1)/2*np.pi/180)**2)\n",
    "    ret = 2 * np.arctan2(np.sqrt(temp), np.sqrt(1-temp))\n",
    "    return ret.compute()\n",
    "all_tasks.append(complicated_arithmetic_operation)"
   ]
  },
  {
   "cell_type": "code",
   "execution_count": null,
   "id": "70d1ad3a",
   "metadata": {},
   "outputs": [],
   "source": [
    "def groupby_statistics(df):\n",
    "    return df.groupby(by='passenger_count').agg(\n",
    "      {\n",
    "        'total_amount': ['mean', 'std'], \n",
    "        'tip_amount': ['mean', 'std']\n",
    "      }\n",
    "    ).compute()\n",
    "all_tasks.append(complicated_arithmetic_operation)"
   ]
  },
  {
   "cell_type": "code",
   "execution_count": null,
   "id": "9f8c1c01",
   "metadata": {},
   "outputs": [],
   "source": [
    "# join two datasets\n",
    "def join_data(df):\n",
    "    return dd.merge(df, other, left_index=True, right_index=True).compute()\n",
    "all_tasks.append(complicated_arithmetic_operation)"
   ]
  },
  {
   "cell_type": "code",
   "execution_count": null,
   "id": "6500dfca",
   "metadata": {},
   "outputs": [],
   "source": []
  },
  {
   "cell_type": "code",
   "execution_count": null,
   "id": "fe12fe0a",
   "metadata": {},
   "outputs": [],
   "source": []
  },
  {
   "cell_type": "code",
   "execution_count": null,
   "id": "2ed0b6aa",
   "metadata": {},
   "outputs": [],
   "source": []
  },
  {
   "cell_type": "markdown",
   "id": "b09a06a4",
   "metadata": {},
   "source": [
    "# run the tasks"
   ]
  },
  {
   "cell_type": "code",
   "execution_count": 11,
   "id": "cfc56652",
   "metadata": {
    "scrolled": true
   },
   "outputs": [],
   "source": [
    "df = dd.read_parquet(\n",
    "    \"./tmp/\", \n",
    "    storage_options={\"anon\": True, 'use_ssl': True})"
   ]
  },
  {
   "cell_type": "code",
   "execution_count": 12,
   "id": "b5a36d5b",
   "metadata": {
    "scrolled": true
   },
   "outputs": [],
   "source": [
    "# for task in all_tasks:\n",
    "#     benchmark(task, df=df, benchmarks = dask_benchmarks, task_name = task.__name__)"
   ]
  },
  {
   "cell_type": "code",
   "execution_count": null,
   "id": "3c7f6792",
   "metadata": {},
   "outputs": [],
   "source": []
  },
  {
   "cell_type": "code",
   "execution_count": 13,
   "id": "16960821",
   "metadata": {
    "scrolled": true
   },
   "outputs": [
    {
     "name": "stdout",
     "output_type": "stream",
     "text": [
      "Saving report to /tmp/tmp4w3mw6x2viztracer..json ...Loading finish                                        \n",
      "\n",
      "Dumping trace data to json, total entries: 1211, estimated json file size: 141.9KiB\n",
      "Report saved.\n"
     ]
    }
   ],
   "source": [
    "with (\n",
    "#     pyspy_on_scheduler(\"pyspy2.json\"),\n",
    "    # ^ Saves a speedscope profile to `pyspy.json` locally\n",
    "    viztrace_scheduler(\n",
    "        \"viztracer.json\", trace_sparse=\"distributed.Scheduler.update_graph_hlg\"\n",
    "    ),\n",
    "    # ^ Saves a Chrome trace to `viztracer.json` locally\n",
    "):\n",
    "    df.fare_amount.value_counts().compute()"
   ]
  },
  {
   "cell_type": "code",
   "execution_count": null,
   "id": "38b0d0eb",
   "metadata": {},
   "outputs": [],
   "source": [
    "import sys\n",
    "print(sys.executable)\n",
    "print(sys.version)\n",
    "print(sys.version_info)"
   ]
  },
  {
   "cell_type": "code",
   "execution_count": null,
   "id": "a23e6564",
   "metadata": {},
   "outputs": [],
   "source": [
    "df.fare_amount.value_counts().compute()"
   ]
  },
  {
   "cell_type": "code",
   "execution_count": null,
   "id": "d84f9543",
   "metadata": {},
   "outputs": [],
   "source": []
  },
  {
   "cell_type": "code",
   "execution_count": null,
   "id": "adcec4c8",
   "metadata": {},
   "outputs": [],
   "source": []
  },
  {
   "cell_type": "code",
   "execution_count": null,
   "id": "9fb2bedc",
   "metadata": {},
   "outputs": [],
   "source": []
  },
  {
   "cell_type": "code",
   "execution_count": null,
   "id": "8dd3c069",
   "metadata": {},
   "outputs": [],
   "source": []
  },
  {
   "cell_type": "code",
   "execution_count": null,
   "id": "88c05286",
   "metadata": {},
   "outputs": [],
   "source": [
    "[benchmark(task, df=df, benchmarks = dask_benchmarks, task_name = task.__name__) for task in all_tasks]"
   ]
  },
  {
   "cell_type": "code",
   "execution_count": null,
   "id": "cb2664e0",
   "metadata": {},
   "outputs": [],
   "source": []
  },
  {
   "cell_type": "code",
   "execution_count": null,
   "id": "99ef0066",
   "metadata": {},
   "outputs": [],
   "source": []
  },
  {
   "cell_type": "markdown",
   "id": "91975620",
   "metadata": {},
   "source": [
    "# history groking"
   ]
  },
  {
   "cell_type": "code",
   "execution_count": null,
   "id": "832cd0c7",
   "metadata": {},
   "outputs": [],
   "source": [
    "# add the analyzed dataframes\n",
    "\n",
    "for task_name, output_values in dask_benchmarks.items():\n",
    "    dask_hx = output_values.get(\"history\")\n",
    "    hx_df = pd.DataFrame (dask_hx, columns = ['worker','status','nbytes', 'thread', 'type', 'typename', 'metadata', 'startstops', 'key'])\n",
    "    hx_ddf = dd.from_pandas(hx_df, npartitions=1)\n",
    "    exploded_df = hx_ddf.explode(\"startstops\")\n",
    "    exploded_df['action'] = exploded_df['startstops'].apply(lambda x: x['action'], meta = (\"action\", str))\n",
    "    exploded_df['start'] = exploded_df['startstops'].apply(lambda x: x['start'], meta = (\"start\", np.float64))\n",
    "    exploded_df['end'] = exploded_df['startstops'].apply(lambda x: x['stop'], meta = (\"stop\", np.float64))\n",
    "    exploded_df['action_duration'] = exploded_df['end'] - exploded_df['start']\n",
    "    exploded_df_only_agg_fields = exploded_df[['worker', 'action', 'action_duration']]\n",
    "    time_per_worker_and_action = exploded_df_only_agg_fields.groupby(['worker','action']).agg(\"sum\")\n",
    "    nbytes_per_worker = hx_ddf[['worker', 'nbytes']].groupby([\"worker\"]).agg(\"sum\")\n",
    "    output_values[\"time_per_worker_and_action\"] = time_per_worker_and_action.compute()\n",
    "    output_values[\"nbytes_per_worker\"] = nbytes_per_worker.compute()"
   ]
  },
  {
   "cell_type": "code",
   "execution_count": null,
   "id": "ea94d49b",
   "metadata": {},
   "outputs": [],
   "source": []
  },
  {
   "cell_type": "code",
   "execution_count": null,
   "id": "90acecce",
   "metadata": {
    "scrolled": true
   },
   "outputs": [],
   "source": [
    "# access the analyzed dataframes like so:\n",
    "dask_benchmarks['read_to_basic_ETL'][\"time_per_worker_and_action\"]\n",
    "dask_benchmarks['read_to_basic_ETL'][\"nbytes_per_worker\"]"
   ]
  },
  {
   "cell_type": "code",
   "execution_count": null,
   "id": "09b4c199",
   "metadata": {},
   "outputs": [],
   "source": []
  },
  {
   "cell_type": "code",
   "execution_count": null,
   "id": "5a0887bb",
   "metadata": {},
   "outputs": [],
   "source": []
  },
  {
   "cell_type": "code",
   "execution_count": null,
   "id": "b8088fb9",
   "metadata": {},
   "outputs": [],
   "source": []
  },
  {
   "cell_type": "code",
   "execution_count": null,
   "id": "386dee5e",
   "metadata": {},
   "outputs": [],
   "source": []
  },
  {
   "cell_type": "code",
   "execution_count": null,
   "id": "4fc0e4c4",
   "metadata": {},
   "outputs": [],
   "source": []
  },
  {
   "cell_type": "code",
   "execution_count": null,
   "id": "4fafe8bc",
   "metadata": {},
   "outputs": [],
   "source": []
  },
  {
   "cell_type": "code",
   "execution_count": null,
   "id": "c9f03614",
   "metadata": {},
   "outputs": [],
   "source": []
  },
  {
   "cell_type": "code",
   "execution_count": null,
   "id": "99559b1a",
   "metadata": {},
   "outputs": [],
   "source": []
  },
  {
   "cell_type": "code",
   "execution_count": null,
   "id": "44cfa366",
   "metadata": {},
   "outputs": [],
   "source": []
  },
  {
   "cell_type": "code",
   "execution_count": null,
   "id": "7b6d5b13",
   "metadata": {},
   "outputs": [],
   "source": []
  },
  {
   "cell_type": "code",
   "execution_count": null,
   "id": "10dab5f3",
   "metadata": {},
   "outputs": [],
   "source": []
  },
  {
   "cell_type": "code",
   "execution_count": null,
   "id": "07364a24",
   "metadata": {},
   "outputs": [],
   "source": []
  },
  {
   "cell_type": "code",
   "execution_count": null,
   "id": "647e6f18",
   "metadata": {},
   "outputs": [],
   "source": []
  },
  {
   "cell_type": "code",
   "execution_count": null,
   "id": "a3304837",
   "metadata": {},
   "outputs": [],
   "source": []
  },
  {
   "cell_type": "markdown",
   "id": "93e2416a",
   "metadata": {},
   "source": [
    "# try to do something fancy with the history"
   ]
  },
  {
   "cell_type": "code",
   "execution_count": null,
   "id": "2d44b9a0",
   "metadata": {},
   "outputs": [],
   "source": [
    "hx = dask_benchmarks.get(\"read_to_basic_ETL\").get(\"history\")"
   ]
  },
  {
   "cell_type": "code",
   "execution_count": null,
   "id": "c9a31471",
   "metadata": {},
   "outputs": [],
   "source": []
  },
  {
   "cell_type": "markdown",
   "id": "0919e7d5",
   "metadata": {},
   "source": [
    "use dask to do dask :D"
   ]
  },
  {
   "cell_type": "code",
   "execution_count": null,
   "id": "f441ebef",
   "metadata": {},
   "outputs": [],
   "source": [
    "import pandas as pd\n",
    "pd.set_option('display.max_colwidth', None)"
   ]
  },
  {
   "cell_type": "code",
   "execution_count": null,
   "id": "4cb39872",
   "metadata": {},
   "outputs": [],
   "source": [
    "hx_df = pd.DataFrame (hx, columns = ['worker','status','nbytes', 'thread', 'type', 'typename', 'metadata', 'startstops', 'key'])"
   ]
  },
  {
   "cell_type": "code",
   "execution_count": null,
   "id": "5f8f73da",
   "metadata": {
    "scrolled": true
   },
   "outputs": [],
   "source": [
    "hx_ddf = dd.from_pandas(hx_df, npartitions=1)"
   ]
  },
  {
   "cell_type": "code",
   "execution_count": null,
   "id": "d460e357",
   "metadata": {
    "scrolled": true
   },
   "outputs": [],
   "source": [
    "# the startstops are nested. we need to unnest this for action stuff only. but use nested for all other\n",
    "hx_ddf.head(20)"
   ]
  },
  {
   "cell_type": "code",
   "execution_count": null,
   "id": "b8edd718",
   "metadata": {},
   "outputs": [],
   "source": [
    "# the startstops are nested. we need to unnest this for action stuff only.\n",
    "exploded_df = hx_ddf.explode(\"startstops\")"
   ]
  },
  {
   "cell_type": "code",
   "execution_count": null,
   "id": "227a03dc",
   "metadata": {},
   "outputs": [],
   "source": [
    "# AAAAGH THIS TOOK FOREVER TO FIGURE OUT O_O\n",
    "exploded_df['action'] = exploded_df['startstops'].apply(lambda x: x['action'], meta = (\"action\", str))\n",
    "exploded_df['start'] = exploded_df['startstops'].apply(lambda x: x['start'], meta = (\"start\", np.float64))\n",
    "exploded_df['end'] = exploded_df['startstops'].apply(lambda x: x['stop'], meta = (\"stop\", np.float64))\n",
    "exploded_df['action_duration'] = exploded_df['end'] - exploded_df['start']"
   ]
  },
  {
   "cell_type": "code",
   "execution_count": null,
   "id": "42906156",
   "metadata": {},
   "outputs": [],
   "source": []
  },
  {
   "cell_type": "code",
   "execution_count": null,
   "id": "c6b9515b",
   "metadata": {},
   "outputs": [],
   "source": [
    "exploded_df_only_agg_fields = exploded_df[['worker', 'action', 'action_duration']]"
   ]
  },
  {
   "cell_type": "code",
   "execution_count": null,
   "id": "b29658bf",
   "metadata": {
    "scrolled": true
   },
   "outputs": [],
   "source": [
    "time_per_worker_and_action = exploded_df_only_agg_fields.groupby(['worker','action']).agg(\"sum\")"
   ]
  },
  {
   "cell_type": "markdown",
   "id": "130e96cb",
   "metadata": {},
   "source": [
    "This is final for time_per_worker_and_action"
   ]
  },
  {
   "cell_type": "code",
   "execution_count": null,
   "id": "3223ede4",
   "metadata": {},
   "outputs": [],
   "source": [
    "time_per_worker_and_action.head(20)"
   ]
  },
  {
   "cell_type": "code",
   "execution_count": null,
   "id": "7ca4f2ab",
   "metadata": {},
   "outputs": [],
   "source": []
  },
  {
   "cell_type": "code",
   "execution_count": null,
   "id": "f5a4d67d",
   "metadata": {},
   "outputs": [],
   "source": [
    "# now get nbytes per worker"
   ]
  },
  {
   "cell_type": "code",
   "execution_count": null,
   "id": "30b2dfd3",
   "metadata": {},
   "outputs": [],
   "source": [
    "nbytes_per_worker = hx_ddf[['worker', 'nbytes']].groupby([\"worker\"]).agg(\"sum\")"
   ]
  },
  {
   "cell_type": "code",
   "execution_count": null,
   "id": "12d27fd7",
   "metadata": {
    "scrolled": true
   },
   "outputs": [],
   "source": [
    "nbytes_per_worker.head(20)"
   ]
  },
  {
   "cell_type": "code",
   "execution_count": null,
   "id": "3ad1f118",
   "metadata": {},
   "outputs": [],
   "source": []
  },
  {
   "cell_type": "code",
   "execution_count": null,
   "id": "4b0af0aa",
   "metadata": {},
   "outputs": [],
   "source": []
  },
  {
   "cell_type": "code",
   "execution_count": null,
   "id": "969f5092",
   "metadata": {},
   "outputs": [],
   "source": []
  },
  {
   "cell_type": "code",
   "execution_count": null,
   "id": "add02559",
   "metadata": {},
   "outputs": [],
   "source": []
  },
  {
   "cell_type": "code",
   "execution_count": null,
   "id": "e1a76404",
   "metadata": {},
   "outputs": [],
   "source": []
  },
  {
   "cell_type": "code",
   "execution_count": null,
   "id": "e1d35b76",
   "metadata": {},
   "outputs": [],
   "source": []
  },
  {
   "cell_type": "code",
   "execution_count": null,
   "id": "0b4c5e70",
   "metadata": {},
   "outputs": [],
   "source": []
  },
  {
   "cell_type": "code",
   "execution_count": null,
   "id": "07b49f55",
   "metadata": {},
   "outputs": [],
   "source": []
  },
  {
   "cell_type": "code",
   "execution_count": null,
   "id": "84b588aa",
   "metadata": {},
   "outputs": [],
   "source": []
  },
  {
   "cell_type": "code",
   "execution_count": null,
   "id": "be310c99",
   "metadata": {},
   "outputs": [],
   "source": []
  },
  {
   "cell_type": "code",
   "execution_count": null,
   "id": "adddd61a",
   "metadata": {},
   "outputs": [],
   "source": []
  },
  {
   "cell_type": "code",
   "execution_count": null,
   "id": "a5616598",
   "metadata": {},
   "outputs": [],
   "source": []
  },
  {
   "cell_type": "code",
   "execution_count": null,
   "id": "3a1e654f",
   "metadata": {},
   "outputs": [],
   "source": []
  },
  {
   "cell_type": "code",
   "execution_count": null,
   "id": "aea007e8",
   "metadata": {},
   "outputs": [],
   "source": []
  },
  {
   "cell_type": "code",
   "execution_count": null,
   "id": "b9af5158",
   "metadata": {},
   "outputs": [],
   "source": []
  },
  {
   "cell_type": "code",
   "execution_count": null,
   "id": "ebf16f10",
   "metadata": {},
   "outputs": [],
   "source": []
  },
  {
   "cell_type": "code",
   "execution_count": null,
   "id": "5645ceec",
   "metadata": {},
   "outputs": [],
   "source": []
  },
  {
   "cell_type": "code",
   "execution_count": null,
   "id": "da0638e0",
   "metadata": {},
   "outputs": [],
   "source": []
  },
  {
   "cell_type": "code",
   "execution_count": null,
   "id": "d2d3175b",
   "metadata": {},
   "outputs": [],
   "source": []
  },
  {
   "cell_type": "code",
   "execution_count": null,
   "id": "c1a0510e",
   "metadata": {},
   "outputs": [],
   "source": []
  },
  {
   "cell_type": "code",
   "execution_count": null,
   "id": "c54c7263",
   "metadata": {},
   "outputs": [],
   "source": []
  },
  {
   "cell_type": "code",
   "execution_count": null,
   "id": "d687cc7e",
   "metadata": {
    "scrolled": true
   },
   "outputs": [],
   "source": []
  },
  {
   "cell_type": "code",
   "execution_count": null,
   "id": "5abd7fc7",
   "metadata": {},
   "outputs": [],
   "source": []
  },
  {
   "cell_type": "code",
   "execution_count": null,
   "id": "0d44097b",
   "metadata": {},
   "outputs": [],
   "source": []
  },
  {
   "cell_type": "code",
   "execution_count": null,
   "id": "2b953a17",
   "metadata": {},
   "outputs": [],
   "source": []
  },
  {
   "cell_type": "code",
   "execution_count": null,
   "id": "4896bddf",
   "metadata": {},
   "outputs": [],
   "source": []
  },
  {
   "cell_type": "code",
   "execution_count": null,
   "id": "5a2c435c",
   "metadata": {},
   "outputs": [],
   "source": []
  },
  {
   "cell_type": "code",
   "execution_count": null,
   "id": "d81ea118",
   "metadata": {},
   "outputs": [],
   "source": []
  },
  {
   "cell_type": "code",
   "execution_count": null,
   "id": "d45b1b4b",
   "metadata": {},
   "outputs": [],
   "source": []
  },
  {
   "cell_type": "code",
   "execution_count": null,
   "id": "7b1d1d19",
   "metadata": {},
   "outputs": [],
   "source": []
  },
  {
   "cell_type": "code",
   "execution_count": null,
   "id": "b6ef19fc",
   "metadata": {},
   "outputs": [],
   "source": []
  },
  {
   "cell_type": "code",
   "execution_count": null,
   "id": "695dc25c",
   "metadata": {},
   "outputs": [],
   "source": []
  },
  {
   "cell_type": "code",
   "execution_count": null,
   "id": "83c0cf24",
   "metadata": {},
   "outputs": [],
   "source": []
  },
  {
   "cell_type": "code",
   "execution_count": null,
   "id": "0e63653f",
   "metadata": {},
   "outputs": [],
   "source": []
  },
  {
   "cell_type": "code",
   "execution_count": null,
   "id": "c3850678",
   "metadata": {},
   "outputs": [],
   "source": []
  },
  {
   "cell_type": "code",
   "execution_count": null,
   "id": "f57cd51e",
   "metadata": {},
   "outputs": [],
   "source": []
  },
  {
   "cell_type": "code",
   "execution_count": null,
   "id": "9d8ae75d",
   "metadata": {},
   "outputs": [],
   "source": []
  },
  {
   "cell_type": "code",
   "execution_count": null,
   "id": "98ae1bba",
   "metadata": {},
   "outputs": [],
   "source": []
  },
  {
   "cell_type": "code",
   "execution_count": null,
   "id": "84a98ab2",
   "metadata": {},
   "outputs": [],
   "source": []
  },
  {
   "cell_type": "code",
   "execution_count": null,
   "id": "5782d676",
   "metadata": {},
   "outputs": [],
   "source": []
  },
  {
   "cell_type": "code",
   "execution_count": null,
   "id": "fd16da4a",
   "metadata": {},
   "outputs": [],
   "source": []
  },
  {
   "cell_type": "code",
   "execution_count": null,
   "id": "af5dd106",
   "metadata": {},
   "outputs": [],
   "source": []
  },
  {
   "cell_type": "code",
   "execution_count": null,
   "id": "6108bcb1",
   "metadata": {},
   "outputs": [],
   "source": []
  },
  {
   "cell_type": "code",
   "execution_count": null,
   "id": "06885a1a",
   "metadata": {},
   "outputs": [],
   "source": []
  },
  {
   "cell_type": "code",
   "execution_count": null,
   "id": "e862bee0",
   "metadata": {},
   "outputs": [],
   "source": []
  },
  {
   "cell_type": "code",
   "execution_count": null,
   "id": "0a8f3e1e",
   "metadata": {},
   "outputs": [],
   "source": []
  },
  {
   "cell_type": "code",
   "execution_count": null,
   "id": "c29dd68f",
   "metadata": {},
   "outputs": [],
   "source": []
  },
  {
   "cell_type": "code",
   "execution_count": null,
   "id": "69e9427e",
   "metadata": {},
   "outputs": [],
   "source": []
  },
  {
   "cell_type": "code",
   "execution_count": null,
   "id": "8eb34371",
   "metadata": {},
   "outputs": [],
   "source": []
  },
  {
   "cell_type": "code",
   "execution_count": null,
   "id": "3a8f760e",
   "metadata": {},
   "outputs": [],
   "source": []
  },
  {
   "cell_type": "code",
   "execution_count": null,
   "id": "0a5063b7",
   "metadata": {},
   "outputs": [],
   "source": []
  },
  {
   "cell_type": "code",
   "execution_count": null,
   "id": "df5e3823",
   "metadata": {},
   "outputs": [],
   "source": []
  },
  {
   "cell_type": "code",
   "execution_count": null,
   "id": "9abd0743",
   "metadata": {},
   "outputs": [],
   "source": []
  },
  {
   "cell_type": "code",
   "execution_count": null,
   "id": "98368bed",
   "metadata": {},
   "outputs": [],
   "source": []
  },
  {
   "cell_type": "code",
   "execution_count": null,
   "id": "de12954b",
   "metadata": {},
   "outputs": [],
   "source": []
  },
  {
   "cell_type": "code",
   "execution_count": null,
   "id": "8c499c16",
   "metadata": {},
   "outputs": [],
   "source": []
  },
  {
   "cell_type": "code",
   "execution_count": null,
   "id": "9f394687",
   "metadata": {},
   "outputs": [],
   "source": []
  },
  {
   "cell_type": "code",
   "execution_count": null,
   "id": "be00fcea",
   "metadata": {},
   "outputs": [],
   "source": []
  },
  {
   "cell_type": "code",
   "execution_count": null,
   "id": "e1875148",
   "metadata": {},
   "outputs": [],
   "source": []
  },
  {
   "cell_type": "code",
   "execution_count": null,
   "id": "c8838550",
   "metadata": {},
   "outputs": [],
   "source": []
  },
  {
   "cell_type": "code",
   "execution_count": null,
   "id": "be7b284d",
   "metadata": {},
   "outputs": [],
   "source": []
  },
  {
   "cell_type": "code",
   "execution_count": null,
   "id": "68f53b9c",
   "metadata": {},
   "outputs": [],
   "source": []
  },
  {
   "cell_type": "code",
   "execution_count": null,
   "id": "cd58f6b6",
   "metadata": {},
   "outputs": [],
   "source": []
  },
  {
   "cell_type": "code",
   "execution_count": null,
   "id": "f7f88a33",
   "metadata": {},
   "outputs": [],
   "source": []
  },
  {
   "cell_type": "code",
   "execution_count": null,
   "id": "11380d8a",
   "metadata": {},
   "outputs": [],
   "source": []
  },
  {
   "cell_type": "code",
   "execution_count": null,
   "id": "dd48db09",
   "metadata": {},
   "outputs": [],
   "source": []
  },
  {
   "cell_type": "code",
   "execution_count": null,
   "id": "31d4ebbc",
   "metadata": {},
   "outputs": [],
   "source": []
  },
  {
   "cell_type": "code",
   "execution_count": null,
   "id": "61274760",
   "metadata": {},
   "outputs": [],
   "source": []
  },
  {
   "cell_type": "code",
   "execution_count": null,
   "id": "465d97e6",
   "metadata": {},
   "outputs": [],
   "source": []
  },
  {
   "cell_type": "code",
   "execution_count": null,
   "id": "6ae56036",
   "metadata": {},
   "outputs": [],
   "source": []
  },
  {
   "cell_type": "code",
   "execution_count": null,
   "id": "4d61fe91",
   "metadata": {},
   "outputs": [],
   "source": []
  },
  {
   "cell_type": "code",
   "execution_count": null,
   "id": "33ed29a1",
   "metadata": {},
   "outputs": [],
   "source": []
  },
  {
   "cell_type": "code",
   "execution_count": null,
   "id": "b1e2742e",
   "metadata": {},
   "outputs": [],
   "source": []
  },
  {
   "cell_type": "code",
   "execution_count": null,
   "id": "f8929e5a",
   "metadata": {},
   "outputs": [],
   "source": []
  },
  {
   "cell_type": "code",
   "execution_count": null,
   "id": "ee35e2f2",
   "metadata": {},
   "outputs": [],
   "source": []
  }
 ],
 "metadata": {
  "kernelspec": {
   "display_name": "Python 3 (ipykernel)",
   "language": "python",
   "name": "python3"
  },
  "language_info": {
   "codemirror_mode": {
    "name": "ipython",
    "version": 3
   },
   "file_extension": ".py",
   "mimetype": "text/x-python",
   "name": "python",
   "nbconvert_exporter": "python",
   "pygments_lexer": "ipython3",
   "version": "3.9.7"
  }
 },
 "nbformat": 4,
 "nbformat_minor": 5
}
