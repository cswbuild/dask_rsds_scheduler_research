{
 "cells": [
  {
   "cell_type": "markdown",
   "id": "94161fe2",
   "metadata": {},
   "source": [
    "Step 1: download and convert dataset from CSV to Parquet"
   ]
  },
  {
   "cell_type": "code",
   "execution_count": 1,
   "id": "d3ffc5e5",
   "metadata": {},
   "outputs": [],
   "source": [
    "import pandas as pd\n",
    "import pyarrow as pa\n",
    "import pyarrow.parquet as pq"
   ]
  },
  {
   "cell_type": "code",
   "execution_count": 2,
   "id": "2f183f6d",
   "metadata": {},
   "outputs": [],
   "source": [
    "import dask.dataframe as dd\n",
    "import pandas as pd\n",
    "import numpy as np\n",
    "from dask.distributed import Client, LocalCluster\n",
    "import dask\n",
    "from dask.distributed import get_task_stream"
   ]
  },
  {
   "cell_type": "code",
   "execution_count": 3,
   "id": "d99d2540",
   "metadata": {},
   "outputs": [],
   "source": [
    "import time"
   ]
  },
  {
   "cell_type": "code",
   "execution_count": 4,
   "id": "507c0db9",
   "metadata": {},
   "outputs": [
    {
     "name": "stdout",
     "output_type": "stream",
     "text": [
      "pandas version: 1.3.4\n",
      "numpy version: 1.20.3\n",
      "dask version: 2021.10.0\n"
     ]
    }
   ],
   "source": [
    "print('pandas version: %s' % pd.__version__)\n",
    "print('numpy version: %s' % np.__version__)\n",
    "print('dask version: %s' % dask.__version__)"
   ]
  },
  {
   "cell_type": "markdown",
   "id": "61e2b761",
   "metadata": {},
   "source": [
    "https://docs.databricks.com/_static/notebooks/koalas-benchmark-distributed-execution.html?_ga=2.216403934.95291449.1648935555-599276868.1645477063"
   ]
  },
  {
   "cell_type": "code",
   "execution_count": 5,
   "id": "d7122ef5",
   "metadata": {},
   "outputs": [],
   "source": [
    "filename = \"taxi_dataset.txt\""
   ]
  },
  {
   "cell_type": "code",
   "execution_count": 6,
   "id": "1621fe95",
   "metadata": {},
   "outputs": [],
   "source": [
    "with open(filename) as file:\n",
    "    csv_files = [line.rstrip() for line in file]\n",
    "# only choose yellow taxis\n",
    "yellow = list(filter(lambda x: \"yellow\" in x, csv_files))"
   ]
  },
  {
   "cell_type": "code",
   "execution_count": null,
   "id": "f414529f",
   "metadata": {},
   "outputs": [],
   "source": []
  },
  {
   "cell_type": "code",
   "execution_count": 7,
   "id": "7a4ecb40",
   "metadata": {
    "scrolled": true
   },
   "outputs": [],
   "source": [
    "# make the list small for now\n",
    "yellow = ['https://s3.amazonaws.com/nyc-tlc/trip+data/yellow_tripdata_2013-11.csv']"
   ]
  },
  {
   "cell_type": "code",
   "execution_count": 8,
   "id": "7836d2a7",
   "metadata": {},
   "outputs": [
    {
     "data": {
      "text/plain": [
       "['https://s3.amazonaws.com/nyc-tlc/trip+data/yellow_tripdata_2013-11.csv']"
      ]
     },
     "execution_count": 8,
     "metadata": {},
     "output_type": "execute_result"
    }
   ],
   "source": [
    "yellow"
   ]
  },
  {
   "cell_type": "code",
   "execution_count": 9,
   "id": "24e01ad8",
   "metadata": {},
   "outputs": [
    {
     "name": "stderr",
     "output_type": "stream",
     "text": [
      "/Users/mk/opt/anaconda3/lib/python3.9/site-packages/dask/dataframe/io/csv.py:125: DtypeWarning: Columns (8) have mixed types.Specify dtype option on import or set low_memory=False.\n",
      "  df = pandas_read_text(\n",
      "/Users/mk/opt/anaconda3/lib/python3.9/site-packages/dask/dataframe/io/csv.py:125: DtypeWarning: Columns (8) have mixed types.Specify dtype option on import or set low_memory=False.\n",
      "  df = pandas_read_text(\n",
      "/Users/mk/opt/anaconda3/lib/python3.9/site-packages/dask/dataframe/io/csv.py:125: DtypeWarning: Columns (8) have mixed types.Specify dtype option on import or set low_memory=False.\n",
      "  df = pandas_read_text(\n"
     ]
    }
   ],
   "source": [
    "import re\n",
    "pattern = '/[^\\/]*\\.csv$/gm'\n",
    "\n",
    "for csv_url in yellow:\n",
    "#     get the filename only so I can sort by month / year\n",
    "    csv_name = re.findall(r\"[^\\/]*\\.csv$\",csv_url)\n",
    "    df = dd.read_csv(csv_url,dtype={'tolls_amount': 'float64'})\n",
    "\n",
    "    df = df.repartition(npartitions=4)\n",
    "    df.to_parquet(f'./tmp/trip_data_{csv_name}', write_index=False)\n"
   ]
  },
  {
   "cell_type": "code",
   "execution_count": null,
   "id": "50492a32",
   "metadata": {},
   "outputs": [],
   "source": []
  },
  {
   "cell_type": "markdown",
   "id": "377a7e5a",
   "metadata": {},
   "source": [
    "Read in parquet to dask"
   ]
  },
  {
   "cell_type": "code",
   "execution_count": null,
   "id": "2965a651",
   "metadata": {},
   "outputs": [],
   "source": []
  },
  {
   "cell_type": "code",
   "execution_count": 7,
   "id": "b99424fc",
   "metadata": {},
   "outputs": [],
   "source": []
  },
  {
   "cell_type": "code",
   "execution_count": 47,
   "id": "9e6e7929",
   "metadata": {},
   "outputs": [
    {
     "data": {
      "text/plain": [
       "{'description': {'filename': '', 'name': '', 'line_number': 0, 'line': ''},\n",
       " 'children': {},\n",
       " 'count': 0,\n",
       " 'identifier': 'root'}"
      ]
     },
     "execution_count": 47,
     "metadata": {},
     "output_type": "execute_result"
    }
   ],
   "source": [
    "from dask.distributed import get_task_stream\n",
    "\n",
    "client = Client()"
   ]
  },
  {
   "cell_type": "code",
   "execution_count": 48,
   "id": "b5588aca",
   "metadata": {
    "scrolled": true
   },
   "outputs": [],
   "source": []
  },
  {
   "cell_type": "code",
   "execution_count": null,
   "id": "d0a9f44e",
   "metadata": {
    "scrolled": true
   },
   "outputs": [],
   "source": []
  },
  {
   "cell_type": "code",
   "execution_count": null,
   "id": "5bfc0a06",
   "metadata": {},
   "outputs": [],
   "source": []
  },
  {
   "cell_type": "code",
   "execution_count": null,
   "id": "d4a4a4d5",
   "metadata": {},
   "outputs": [],
   "source": []
  },
  {
   "cell_type": "code",
   "execution_count": null,
   "id": "e88df266",
   "metadata": {},
   "outputs": [],
   "source": []
  },
  {
   "cell_type": "code",
   "execution_count": null,
   "id": "7d9605b0",
   "metadata": {},
   "outputs": [],
   "source": []
  },
  {
   "cell_type": "markdown",
   "id": "9f53d078",
   "metadata": {},
   "source": [
    "# set up testbench"
   ]
  },
  {
   "cell_type": "code",
   "execution_count": 35,
   "id": "c06b5f50",
   "metadata": {},
   "outputs": [],
   "source": [
    "def benchmark(f, df, benchmarks, task_name, **kwargs):\n",
    "    \"\"\"Benchmark the given function against the given DataFrame.\n",
    "    \n",
    "    Parameters\n",
    "    ----------\n",
    "    f: function to benchmark\n",
    "    df: data frame\n",
    "    benchmarks: container for benchmark results\n",
    "    name: task name\n",
    "    \n",
    "    Returns\n",
    "    -------\n",
    "    Duration (in seconds) of the given operation\n",
    "    \"\"\"\n",
    "    ret_benchmark_vals = {}\n",
    "    with get_task_stream(plot='save', filename=\"task-stream.html\") as ts:\n",
    "        start_time = time.time()\n",
    "        ret = f(df, **kwargs)\n",
    "        ret_benchmark_vals['raw_duration'] = time.time() - start_time\n",
    "        ret_benchmark_vals['history'] = ts.data\n",
    "    benchmarks[task_name] = ret_benchmark_vals\n",
    "    print(f\"{task_name} took: {benchmarks[task_name].get('raw_duration')} seconds\")\n",
    "    return benchmarks[task_name].get(\"raw_duration\")"
   ]
  },
  {
   "cell_type": "code",
   "execution_count": null,
   "id": "0d2bb865",
   "metadata": {},
   "outputs": [],
   "source": []
  },
  {
   "cell_type": "code",
   "execution_count": 31,
   "id": "7ace5b20",
   "metadata": {},
   "outputs": [],
   "source": [
    "import collections\n",
    "dask_benchmarks = collections.defaultdict(dict)\n",
    "# benchmarks = {\"task1\" : {\"stat1\": val, \"stat2\": val}}"
   ]
  },
  {
   "cell_type": "code",
   "execution_count": null,
   "id": "e0ab4684",
   "metadata": {},
   "outputs": [],
   "source": []
  },
  {
   "cell_type": "code",
   "execution_count": null,
   "id": "b59119cc",
   "metadata": {},
   "outputs": [],
   "source": []
  },
  {
   "cell_type": "markdown",
   "id": "a97dc5f7",
   "metadata": {},
   "source": [
    "# Define benchmark tasks"
   ]
  },
  {
   "cell_type": "code",
   "execution_count": 64,
   "id": "259e1111",
   "metadata": {},
   "outputs": [],
   "source": [
    "all_tasks = []"
   ]
  },
  {
   "cell_type": "code",
   "execution_count": 65,
   "id": "99183ef3",
   "metadata": {},
   "outputs": [],
   "source": [
    "# sum, then means = simple mapreduce\n",
    "def read_to_basic_ETL(df = None):\n",
    "    df = dd.read_parquet(\n",
    "    \"./tmp/\", \n",
    "    storage_options={\"anon\": True, 'use_ssl': True})    \n",
    "    return (df.fare_amount + df.tip_amount).mean().compute()\n",
    "all_tasks.append(read_to_basic_ETL)"
   ]
  },
  {
   "cell_type": "code",
   "execution_count": 66,
   "id": "a288fd05",
   "metadata": {},
   "outputs": [],
   "source": [
    "# counts of values seen = simple map, groupby, reduce\n",
    "def count_values(df):\n",
    "    return df.fare_amount.value_counts().compute()\n",
    "all_tasks.append(count_values)"
   ]
  },
  {
   "cell_type": "code",
   "execution_count": 67,
   "id": "f2335146",
   "metadata": {},
   "outputs": [],
   "source": [
    "# cpu heavy arithmetic : mapreduce\n",
    "def complicated_arithmetic_operation(df):\n",
    "    theta_1 = df.pickup_longitude\n",
    "    phi_1 = df.pickup_latitude\n",
    "    theta_2 = df.dropoff_longitude\n",
    "    phi_2 = df.dropoff_latitude\n",
    "    temp = (np.sin((theta_2-theta_1)/2*np.pi/180)**2\n",
    "           + np.cos(theta_1*np.pi/180)*np.cos(theta_2*np.pi/180) * np.sin((phi_2-phi_1)/2*np.pi/180)**2)\n",
    "    ret = 2 * np.arctan2(np.sqrt(temp), np.sqrt(1-temp))\n",
    "    return ret.compute()\n",
    "all_tasks.append(complicated_arithmetic_operation)"
   ]
  },
  {
   "cell_type": "code",
   "execution_count": 68,
   "id": "f999684f",
   "metadata": {},
   "outputs": [],
   "source": [
    "def groupby_statistics(df):\n",
    "    return df.groupby(by='passenger_count').agg(\n",
    "      {\n",
    "        'total_amount': ['mean', 'std'], \n",
    "        'tip_amount': ['mean', 'std']\n",
    "      }\n",
    "    ).compute()\n",
    "all_tasks.append(complicated_arithmetic_operation)"
   ]
  },
  {
   "cell_type": "code",
   "execution_count": 69,
   "id": "95002fb6",
   "metadata": {},
   "outputs": [],
   "source": [
    "# join two datasets\n",
    "def join_data(df):\n",
    "    return dd.merge(df, other, left_index=True, right_index=True).compute()\n",
    "all_tasks.append(complicated_arithmetic_operation)"
   ]
  },
  {
   "cell_type": "code",
   "execution_count": null,
   "id": "986a2559",
   "metadata": {},
   "outputs": [],
   "source": []
  },
  {
   "cell_type": "code",
   "execution_count": null,
   "id": "5be3fab9",
   "metadata": {},
   "outputs": [],
   "source": []
  },
  {
   "cell_type": "code",
   "execution_count": null,
   "id": "3c196fcc",
   "metadata": {},
   "outputs": [],
   "source": []
  },
  {
   "cell_type": "markdown",
   "id": "0223f67d",
   "metadata": {},
   "source": [
    "# run the tasks"
   ]
  },
  {
   "cell_type": "code",
   "execution_count": 70,
   "id": "dc5374fb",
   "metadata": {},
   "outputs": [],
   "source": [
    "df = dd.read_parquet(\n",
    "    \"./tmp/\", \n",
    "    storage_options={\"anon\": True, 'use_ssl': True})"
   ]
  },
  {
   "cell_type": "code",
   "execution_count": 71,
   "id": "5986c218",
   "metadata": {
    "scrolled": true
   },
   "outputs": [
    {
     "name": "stdout",
     "output_type": "stream",
     "text": [
      "read_to_basic_ETL took: 0.4521312713623047 seconds\n",
      "count_values took: 0.34616804122924805 seconds\n",
      "complicated_arithmetic_operation took: 3.579279661178589 seconds\n",
      "complicated_arithmetic_operation took: 2.8689677715301514 seconds\n",
      "complicated_arithmetic_operation took: 2.600781202316284 seconds\n"
     ]
    }
   ],
   "source": [
    "# for task in all_tasks:\n",
    "#     benchmark(task, df=df, benchmarks = dask_benchmarks, task_name = task.__name__)"
   ]
  },
  {
   "cell_type": "code",
   "execution_count": null,
   "id": "0fdc1e78",
   "metadata": {},
   "outputs": [],
   "source": []
  },
  {
   "cell_type": "code",
   "execution_count": 73,
   "id": "7c429678",
   "metadata": {},
   "outputs": [
    {
     "name": "stdout",
     "output_type": "stream",
     "text": [
      "read_to_basic_ETL took: 0.46721887588500977 seconds\n",
      "count_values took: 0.24425888061523438 seconds\n",
      "complicated_arithmetic_operation took: 2.843494176864624 seconds\n",
      "complicated_arithmetic_operation took: 1.7494018077850342 seconds\n",
      "complicated_arithmetic_operation took: 1.8757166862487793 seconds\n"
     ]
    },
    {
     "data": {
      "text/plain": [
       "[0.46721887588500977,\n",
       " 0.24425888061523438,\n",
       " 2.843494176864624,\n",
       " 1.7494018077850342,\n",
       " 1.8757166862487793]"
      ]
     },
     "execution_count": 73,
     "metadata": {},
     "output_type": "execute_result"
    }
   ],
   "source": [
    "[benchmark(task, df=df, benchmarks = dask_benchmarks, task_name = task.__name__) for task in all_tasks]"
   ]
  },
  {
   "cell_type": "code",
   "execution_count": null,
   "id": "9269423f",
   "metadata": {},
   "outputs": [],
   "source": []
  },
  {
   "cell_type": "code",
   "execution_count": null,
   "id": "3f4f642b",
   "metadata": {},
   "outputs": [],
   "source": []
  },
  {
   "cell_type": "markdown",
   "id": "b3ef0885",
   "metadata": {},
   "source": [
    "# try to do something fancy with the history"
   ]
  },
  {
   "cell_type": "code",
   "execution_count": 114,
   "id": "19ba74a0",
   "metadata": {},
   "outputs": [],
   "source": [
    "hx = dask_benchmarks.get(\"read_to_basic_ETL\").get(\"history\")"
   ]
  },
  {
   "cell_type": "code",
   "execution_count": null,
   "id": "568d2292",
   "metadata": {},
   "outputs": [],
   "source": []
  },
  {
   "cell_type": "markdown",
   "id": "43e01ecd",
   "metadata": {},
   "source": [
    "use dask to do dask :D"
   ]
  },
  {
   "cell_type": "code",
   "execution_count": 86,
   "id": "aa1a37d0",
   "metadata": {},
   "outputs": [],
   "source": [
    "import pandas as pd\n",
    "pd.set_option('display.max_colwidth', None)"
   ]
  },
  {
   "cell_type": "code",
   "execution_count": 88,
   "id": "80a0fafb",
   "metadata": {},
   "outputs": [],
   "source": [
    "hx_df = pd.DataFrame (hx, columns = ['worker','status','nbytes', 'thread', 'type', 'typename', 'metadata', 'startstops', 'key'])"
   ]
  },
  {
   "cell_type": "code",
   "execution_count": 97,
   "id": "f7ca281f",
   "metadata": {
    "scrolled": true
   },
   "outputs": [],
   "source": [
    "hx_ddf = dd.from_pandas(hx_df, npartitions=1)"
   ]
  },
  {
   "cell_type": "code",
   "execution_count": 133,
   "id": "444e7b16",
   "metadata": {
    "scrolled": true
   },
   "outputs": [
    {
     "data": {
      "text/html": [
       "<div>\n",
       "<style scoped>\n",
       "    .dataframe tbody tr th:only-of-type {\n",
       "        vertical-align: middle;\n",
       "    }\n",
       "\n",
       "    .dataframe tbody tr th {\n",
       "        vertical-align: top;\n",
       "    }\n",
       "\n",
       "    .dataframe thead th {\n",
       "        text-align: right;\n",
       "    }\n",
       "</style>\n",
       "<table border=\"1\" class=\"dataframe\">\n",
       "  <thead>\n",
       "    <tr style=\"text-align: right;\">\n",
       "      <th></th>\n",
       "      <th>worker</th>\n",
       "      <th>status</th>\n",
       "      <th>nbytes</th>\n",
       "      <th>thread</th>\n",
       "      <th>type</th>\n",
       "      <th>typename</th>\n",
       "      <th>metadata</th>\n",
       "      <th>startstops</th>\n",
       "      <th>key</th>\n",
       "    </tr>\n",
       "  </thead>\n",
       "  <tbody>\n",
       "    <tr>\n",
       "      <th>0</th>\n",
       "      <td>tcp://127.0.0.1:58544</td>\n",
       "      <td>OK</td>\n",
       "      <td>27191704</td>\n",
       "      <td>123145529507840</td>\n",
       "      <td>b'\\x80\\x04\\x95!\\x00\\x00\\x00\\x00\\x00\\x00\\x00\\x8c\\x12pandas.core.series\\x94\\x8c\\x06Series\\x94\\x93\\x94.'</td>\n",
       "      <td>pandas.core.series.Series</td>\n",
       "      <td>{}</td>\n",
       "      <td>({'action': 'compute', 'start': 1649539629.0290596, 'stop': 1649539629.2514455},)</td>\n",
       "      <td>('add-42c91fcd244541e3b459e8913af2d07a', 0)</td>\n",
       "    </tr>\n",
       "    <tr>\n",
       "      <th>1</th>\n",
       "      <td>tcp://127.0.0.1:58544</td>\n",
       "      <td>OK</td>\n",
       "      <td>32</td>\n",
       "      <td>123145529507840</td>\n",
       "      <td>b'\\x80\\x04\\x95\\x15\\x00\\x00\\x00\\x00\\x00\\x00\\x00\\x8c\\x05numpy\\x94\\x8c\\x07float64\\x94\\x93\\x94.'</td>\n",
       "      <td>numpy.float64</td>\n",
       "      <td>{}</td>\n",
       "      <td>({'action': 'compute', 'start': 1649539629.256208, 'stop': 1649539629.266967},)</td>\n",
       "      <td>('series-sum-chunk-fbd709dae3d9d13e17866642e9f8e505', 0, 0, 0)</td>\n",
       "    </tr>\n",
       "    <tr>\n",
       "      <th>2</th>\n",
       "      <td>tcp://127.0.0.1:58544</td>\n",
       "      <td>OK</td>\n",
       "      <td>32</td>\n",
       "      <td>123145546297344</td>\n",
       "      <td>b'\\x80\\x04\\x95\\x13\\x00\\x00\\x00\\x00\\x00\\x00\\x00\\x8c\\x05numpy\\x94\\x8c\\x05int64\\x94\\x93\\x94.'</td>\n",
       "      <td>numpy.int64</td>\n",
       "      <td>{}</td>\n",
       "      <td>({'action': 'compute', 'start': 1649539629.2559612, 'stop': 1649539629.268448},)</td>\n",
       "      <td>('series-count-chunk-33f4ebe1295ecdc32b8301290d7befce', 0, 0, 0)</td>\n",
       "    </tr>\n",
       "    <tr>\n",
       "      <th>3</th>\n",
       "      <td>tcp://127.0.0.1:58545</td>\n",
       "      <td>OK</td>\n",
       "      <td>30486864</td>\n",
       "      <td>123145657192448</td>\n",
       "      <td>b'\\x80\\x04\\x95!\\x00\\x00\\x00\\x00\\x00\\x00\\x00\\x8c\\x12pandas.core.series\\x94\\x8c\\x06Series\\x94\\x93\\x94.'</td>\n",
       "      <td>pandas.core.series.Series</td>\n",
       "      <td>{}</td>\n",
       "      <td>({'action': 'compute', 'start': 1649539629.02956, 'stop': 1649539629.2818692},)</td>\n",
       "      <td>('add-42c91fcd244541e3b459e8913af2d07a', 1)</td>\n",
       "    </tr>\n",
       "    <tr>\n",
       "      <th>4</th>\n",
       "      <td>tcp://127.0.0.1:58545</td>\n",
       "      <td>OK</td>\n",
       "      <td>32</td>\n",
       "      <td>123145657192448</td>\n",
       "      <td>b'\\x80\\x04\\x95\\x15\\x00\\x00\\x00\\x00\\x00\\x00\\x00\\x8c\\x05numpy\\x94\\x8c\\x07float64\\x94\\x93\\x94.'</td>\n",
       "      <td>numpy.float64</td>\n",
       "      <td>{}</td>\n",
       "      <td>({'action': 'compute', 'start': 1649539629.285232, 'stop': 1649539629.2956278},)</td>\n",
       "      <td>('series-sum-chunk-fbd709dae3d9d13e17866642e9f8e505', 0, 1, 0)</td>\n",
       "    </tr>\n",
       "    <tr>\n",
       "      <th>5</th>\n",
       "      <td>tcp://127.0.0.1:58545</td>\n",
       "      <td>OK</td>\n",
       "      <td>32</td>\n",
       "      <td>123145640402944</td>\n",
       "      <td>b'\\x80\\x04\\x95\\x13\\x00\\x00\\x00\\x00\\x00\\x00\\x00\\x8c\\x05numpy\\x94\\x8c\\x05int64\\x94\\x93\\x94.'</td>\n",
       "      <td>numpy.int64</td>\n",
       "      <td>{}</td>\n",
       "      <td>({'action': 'compute', 'start': 1649539629.2851522, 'stop': 1649539629.3018951},)</td>\n",
       "      <td>('series-count-chunk-33f4ebe1295ecdc32b8301290d7befce', 0, 1, 0)</td>\n",
       "    </tr>\n",
       "    <tr>\n",
       "      <th>6</th>\n",
       "      <td>tcp://127.0.0.1:58542</td>\n",
       "      <td>OK</td>\n",
       "      <td>27417264</td>\n",
       "      <td>123145619705856</td>\n",
       "      <td>b'\\x80\\x04\\x95!\\x00\\x00\\x00\\x00\\x00\\x00\\x00\\x8c\\x12pandas.core.series\\x94\\x8c\\x06Series\\x94\\x93\\x94.'</td>\n",
       "      <td>pandas.core.series.Series</td>\n",
       "      <td>{}</td>\n",
       "      <td>({'action': 'compute', 'start': 1649539629.0302684, 'stop': 1649539629.3189504},)</td>\n",
       "      <td>('add-42c91fcd244541e3b459e8913af2d07a', 2)</td>\n",
       "    </tr>\n",
       "    <tr>\n",
       "      <th>7</th>\n",
       "      <td>tcp://127.0.0.1:58542</td>\n",
       "      <td>OK</td>\n",
       "      <td>32</td>\n",
       "      <td>123145619705856</td>\n",
       "      <td>b'\\x80\\x04\\x95\\x15\\x00\\x00\\x00\\x00\\x00\\x00\\x00\\x8c\\x05numpy\\x94\\x8c\\x07float64\\x94\\x93\\x94.'</td>\n",
       "      <td>numpy.float64</td>\n",
       "      <td>{}</td>\n",
       "      <td>({'action': 'compute', 'start': 1649539629.3196013, 'stop': 1649539629.3293502},)</td>\n",
       "      <td>('series-sum-chunk-fbd709dae3d9d13e17866642e9f8e505', 0, 2, 0)</td>\n",
       "    </tr>\n",
       "    <tr>\n",
       "      <th>8</th>\n",
       "      <td>tcp://127.0.0.1:58542</td>\n",
       "      <td>OK</td>\n",
       "      <td>32</td>\n",
       "      <td>123145602916352</td>\n",
       "      <td>b'\\x80\\x04\\x95\\x13\\x00\\x00\\x00\\x00\\x00\\x00\\x00\\x8c\\x05numpy\\x94\\x8c\\x05int64\\x94\\x93\\x94.'</td>\n",
       "      <td>numpy.int64</td>\n",
       "      <td>{}</td>\n",
       "      <td>({'action': 'compute', 'start': 1649539629.3195152, 'stop': 1649539629.335808},)</td>\n",
       "      <td>('series-count-chunk-33f4ebe1295ecdc32b8301290d7befce', 0, 2, 0)</td>\n",
       "    </tr>\n",
       "    <tr>\n",
       "      <th>9</th>\n",
       "      <td>tcp://127.0.0.1:58543</td>\n",
       "      <td>OK</td>\n",
       "      <td>30016288</td>\n",
       "      <td>123145528463360</td>\n",
       "      <td>b'\\x80\\x04\\x95!\\x00\\x00\\x00\\x00\\x00\\x00\\x00\\x8c\\x12pandas.core.series\\x94\\x8c\\x06Series\\x94\\x93\\x94.'</td>\n",
       "      <td>pandas.core.series.Series</td>\n",
       "      <td>{}</td>\n",
       "      <td>({'action': 'compute', 'start': 1649539629.0295646, 'stop': 1649539629.3822947},)</td>\n",
       "      <td>('add-42c91fcd244541e3b459e8913af2d07a', 3)</td>\n",
       "    </tr>\n",
       "    <tr>\n",
       "      <th>10</th>\n",
       "      <td>tcp://127.0.0.1:58543</td>\n",
       "      <td>OK</td>\n",
       "      <td>32</td>\n",
       "      <td>123145528463360</td>\n",
       "      <td>b'\\x80\\x04\\x95\\x15\\x00\\x00\\x00\\x00\\x00\\x00\\x00\\x8c\\x05numpy\\x94\\x8c\\x07float64\\x94\\x93\\x94.'</td>\n",
       "      <td>numpy.float64</td>\n",
       "      <td>{}</td>\n",
       "      <td>({'action': 'compute', 'start': 1649539629.3863683, 'stop': 1649539629.3966413},)</td>\n",
       "      <td>('series-sum-chunk-fbd709dae3d9d13e17866642e9f8e505', 0, 3, 0)</td>\n",
       "    </tr>\n",
       "    <tr>\n",
       "      <th>11</th>\n",
       "      <td>tcp://127.0.0.1:58543</td>\n",
       "      <td>OK</td>\n",
       "      <td>32</td>\n",
       "      <td>123145511673856</td>\n",
       "      <td>b'\\x80\\x04\\x95\\x13\\x00\\x00\\x00\\x00\\x00\\x00\\x00\\x8c\\x05numpy\\x94\\x8c\\x05int64\\x94\\x93\\x94.'</td>\n",
       "      <td>numpy.int64</td>\n",
       "      <td>{}</td>\n",
       "      <td>({'action': 'compute', 'start': 1649539629.386213, 'stop': 1649539629.4008222},)</td>\n",
       "      <td>('series-count-chunk-33f4ebe1295ecdc32b8301290d7befce', 0, 3, 0)</td>\n",
       "    </tr>\n",
       "    <tr>\n",
       "      <th>12</th>\n",
       "      <td>tcp://127.0.0.1:58545</td>\n",
       "      <td>OK</td>\n",
       "      <td>32</td>\n",
       "      <td>123145657192448</td>\n",
       "      <td>b'\\x80\\x04\\x95\\x15\\x00\\x00\\x00\\x00\\x00\\x00\\x00\\x8c\\x05numpy\\x94\\x8c\\x07float64\\x94\\x93\\x94.'</td>\n",
       "      <td>numpy.float64</td>\n",
       "      <td>{}</td>\n",
       "      <td>({'action': 'transfer', 'start': 1649539629.400626, 'stop': 1649539629.4018872, 'source': 'tcp://127.0.0.1:58542'}, {'action': 'transfer', 'start': 1649539629.400389, 'stop': 1649539629.4024549, 'source': 'tcp://127.0.0.1:58544'}, {'action': 'transfer', 'start': 1649539629.400895, 'stop': 1649539629.403085, 'source': 'tcp://127.0.0.1:58543'}, {'action': 'compute', 'start': 1649539629.403762, 'stop': 1649539629.404498})</td>\n",
       "      <td>('series-sum-agg-fbd709dae3d9d13e17866642e9f8e505', 0)</td>\n",
       "    </tr>\n",
       "    <tr>\n",
       "      <th>13</th>\n",
       "      <td>tcp://127.0.0.1:58543</td>\n",
       "      <td>OK</td>\n",
       "      <td>32</td>\n",
       "      <td>123145528463360</td>\n",
       "      <td>b'\\x80\\x04\\x95\\x13\\x00\\x00\\x00\\x00\\x00\\x00\\x00\\x8c\\x05numpy\\x94\\x8c\\x05int64\\x94\\x93\\x94.'</td>\n",
       "      <td>numpy.int64</td>\n",
       "      <td>{}</td>\n",
       "      <td>({'action': 'transfer', 'start': 1649539629.4076552, 'stop': 1649539629.4090931, 'source': 'tcp://127.0.0.1:58545'}, {'action': 'transfer', 'start': 1649539629.4079792, 'stop': 1649539629.4093292, 'source': 'tcp://127.0.0.1:58542'}, {'action': 'transfer', 'start': 1649539629.407438, 'stop': 1649539629.4096663, 'source': 'tcp://127.0.0.1:58544'}, {'action': 'compute', 'start': 1649539629.410324, 'stop': 1649539629.4106882})</td>\n",
       "      <td>('series-count-agg-33f4ebe1295ecdc32b8301290d7befce', 0)</td>\n",
       "    </tr>\n",
       "    <tr>\n",
       "      <th>14</th>\n",
       "      <td>tcp://127.0.0.1:58545</td>\n",
       "      <td>OK</td>\n",
       "      <td>32</td>\n",
       "      <td>123145640402944</td>\n",
       "      <td>b'\\x80\\x04\\x95\\x15\\x00\\x00\\x00\\x00\\x00\\x00\\x00\\x8c\\x05numpy\\x94\\x8c\\x07float64\\x94\\x93\\x94.'</td>\n",
       "      <td>numpy.float64</td>\n",
       "      <td>{}</td>\n",
       "      <td>({'action': 'transfer', 'start': 1649539629.415494, 'stop': 1649539629.416524, 'source': 'tcp://127.0.0.1:58543'}, {'action': 'compute', 'start': 1649539629.41687, 'stop': 1649539629.416917})</td>\n",
       "      <td>('series-mean-e59254112349d6beabe24b871bba72e7-492ac1b60baab934d7bfae16c67f5ab8', 0)</td>\n",
       "    </tr>\n",
       "  </tbody>\n",
       "</table>\n",
       "</div>"
      ],
      "text/plain": [
       "                   worker status    nbytes           thread  \\\n",
       "0   tcp://127.0.0.1:58544     OK  27191704  123145529507840   \n",
       "1   tcp://127.0.0.1:58544     OK        32  123145529507840   \n",
       "2   tcp://127.0.0.1:58544     OK        32  123145546297344   \n",
       "3   tcp://127.0.0.1:58545     OK  30486864  123145657192448   \n",
       "4   tcp://127.0.0.1:58545     OK        32  123145657192448   \n",
       "5   tcp://127.0.0.1:58545     OK        32  123145640402944   \n",
       "6   tcp://127.0.0.1:58542     OK  27417264  123145619705856   \n",
       "7   tcp://127.0.0.1:58542     OK        32  123145619705856   \n",
       "8   tcp://127.0.0.1:58542     OK        32  123145602916352   \n",
       "9   tcp://127.0.0.1:58543     OK  30016288  123145528463360   \n",
       "10  tcp://127.0.0.1:58543     OK        32  123145528463360   \n",
       "11  tcp://127.0.0.1:58543     OK        32  123145511673856   \n",
       "12  tcp://127.0.0.1:58545     OK        32  123145657192448   \n",
       "13  tcp://127.0.0.1:58543     OK        32  123145528463360   \n",
       "14  tcp://127.0.0.1:58545     OK        32  123145640402944   \n",
       "\n",
       "                                                                                                     type  \\\n",
       "0   b'\\x80\\x04\\x95!\\x00\\x00\\x00\\x00\\x00\\x00\\x00\\x8c\\x12pandas.core.series\\x94\\x8c\\x06Series\\x94\\x93\\x94.'   \n",
       "1            b'\\x80\\x04\\x95\\x15\\x00\\x00\\x00\\x00\\x00\\x00\\x00\\x8c\\x05numpy\\x94\\x8c\\x07float64\\x94\\x93\\x94.'   \n",
       "2              b'\\x80\\x04\\x95\\x13\\x00\\x00\\x00\\x00\\x00\\x00\\x00\\x8c\\x05numpy\\x94\\x8c\\x05int64\\x94\\x93\\x94.'   \n",
       "3   b'\\x80\\x04\\x95!\\x00\\x00\\x00\\x00\\x00\\x00\\x00\\x8c\\x12pandas.core.series\\x94\\x8c\\x06Series\\x94\\x93\\x94.'   \n",
       "4            b'\\x80\\x04\\x95\\x15\\x00\\x00\\x00\\x00\\x00\\x00\\x00\\x8c\\x05numpy\\x94\\x8c\\x07float64\\x94\\x93\\x94.'   \n",
       "5              b'\\x80\\x04\\x95\\x13\\x00\\x00\\x00\\x00\\x00\\x00\\x00\\x8c\\x05numpy\\x94\\x8c\\x05int64\\x94\\x93\\x94.'   \n",
       "6   b'\\x80\\x04\\x95!\\x00\\x00\\x00\\x00\\x00\\x00\\x00\\x8c\\x12pandas.core.series\\x94\\x8c\\x06Series\\x94\\x93\\x94.'   \n",
       "7            b'\\x80\\x04\\x95\\x15\\x00\\x00\\x00\\x00\\x00\\x00\\x00\\x8c\\x05numpy\\x94\\x8c\\x07float64\\x94\\x93\\x94.'   \n",
       "8              b'\\x80\\x04\\x95\\x13\\x00\\x00\\x00\\x00\\x00\\x00\\x00\\x8c\\x05numpy\\x94\\x8c\\x05int64\\x94\\x93\\x94.'   \n",
       "9   b'\\x80\\x04\\x95!\\x00\\x00\\x00\\x00\\x00\\x00\\x00\\x8c\\x12pandas.core.series\\x94\\x8c\\x06Series\\x94\\x93\\x94.'   \n",
       "10           b'\\x80\\x04\\x95\\x15\\x00\\x00\\x00\\x00\\x00\\x00\\x00\\x8c\\x05numpy\\x94\\x8c\\x07float64\\x94\\x93\\x94.'   \n",
       "11             b'\\x80\\x04\\x95\\x13\\x00\\x00\\x00\\x00\\x00\\x00\\x00\\x8c\\x05numpy\\x94\\x8c\\x05int64\\x94\\x93\\x94.'   \n",
       "12           b'\\x80\\x04\\x95\\x15\\x00\\x00\\x00\\x00\\x00\\x00\\x00\\x8c\\x05numpy\\x94\\x8c\\x07float64\\x94\\x93\\x94.'   \n",
       "13             b'\\x80\\x04\\x95\\x13\\x00\\x00\\x00\\x00\\x00\\x00\\x00\\x8c\\x05numpy\\x94\\x8c\\x05int64\\x94\\x93\\x94.'   \n",
       "14           b'\\x80\\x04\\x95\\x15\\x00\\x00\\x00\\x00\\x00\\x00\\x00\\x8c\\x05numpy\\x94\\x8c\\x07float64\\x94\\x93\\x94.'   \n",
       "\n",
       "                     typename metadata  \\\n",
       "0   pandas.core.series.Series       {}   \n",
       "1               numpy.float64       {}   \n",
       "2                 numpy.int64       {}   \n",
       "3   pandas.core.series.Series       {}   \n",
       "4               numpy.float64       {}   \n",
       "5                 numpy.int64       {}   \n",
       "6   pandas.core.series.Series       {}   \n",
       "7               numpy.float64       {}   \n",
       "8                 numpy.int64       {}   \n",
       "9   pandas.core.series.Series       {}   \n",
       "10              numpy.float64       {}   \n",
       "11                numpy.int64       {}   \n",
       "12              numpy.float64       {}   \n",
       "13                numpy.int64       {}   \n",
       "14              numpy.float64       {}   \n",
       "\n",
       "                                                                                                                                                                                                                                                                                                                                                                                                                                    startstops  \\\n",
       "0                                                                                                                                                                                                                                                                                                                                                            ({'action': 'compute', 'start': 1649539629.0290596, 'stop': 1649539629.2514455},)   \n",
       "1                                                                                                                                                                                                                                                                                                                                                              ({'action': 'compute', 'start': 1649539629.256208, 'stop': 1649539629.266967},)   \n",
       "2                                                                                                                                                                                                                                                                                                                                                             ({'action': 'compute', 'start': 1649539629.2559612, 'stop': 1649539629.268448},)   \n",
       "3                                                                                                                                                                                                                                                                                                                                                              ({'action': 'compute', 'start': 1649539629.02956, 'stop': 1649539629.2818692},)   \n",
       "4                                                                                                                                                                                                                                                                                                                                                             ({'action': 'compute', 'start': 1649539629.285232, 'stop': 1649539629.2956278},)   \n",
       "5                                                                                                                                                                                                                                                                                                                                                            ({'action': 'compute', 'start': 1649539629.2851522, 'stop': 1649539629.3018951},)   \n",
       "6                                                                                                                                                                                                                                                                                                                                                            ({'action': 'compute', 'start': 1649539629.0302684, 'stop': 1649539629.3189504},)   \n",
       "7                                                                                                                                                                                                                                                                                                                                                            ({'action': 'compute', 'start': 1649539629.3196013, 'stop': 1649539629.3293502},)   \n",
       "8                                                                                                                                                                                                                                                                                                                                                             ({'action': 'compute', 'start': 1649539629.3195152, 'stop': 1649539629.335808},)   \n",
       "9                                                                                                                                                                                                                                                                                                                                                            ({'action': 'compute', 'start': 1649539629.0295646, 'stop': 1649539629.3822947},)   \n",
       "10                                                                                                                                                                                                                                                                                                                                                           ({'action': 'compute', 'start': 1649539629.3863683, 'stop': 1649539629.3966413},)   \n",
       "11                                                                                                                                                                                                                                                                                                                                                            ({'action': 'compute', 'start': 1649539629.386213, 'stop': 1649539629.4008222},)   \n",
       "12      ({'action': 'transfer', 'start': 1649539629.400626, 'stop': 1649539629.4018872, 'source': 'tcp://127.0.0.1:58542'}, {'action': 'transfer', 'start': 1649539629.400389, 'stop': 1649539629.4024549, 'source': 'tcp://127.0.0.1:58544'}, {'action': 'transfer', 'start': 1649539629.400895, 'stop': 1649539629.403085, 'source': 'tcp://127.0.0.1:58543'}, {'action': 'compute', 'start': 1649539629.403762, 'stop': 1649539629.404498})   \n",
       "13  ({'action': 'transfer', 'start': 1649539629.4076552, 'stop': 1649539629.4090931, 'source': 'tcp://127.0.0.1:58545'}, {'action': 'transfer', 'start': 1649539629.4079792, 'stop': 1649539629.4093292, 'source': 'tcp://127.0.0.1:58542'}, {'action': 'transfer', 'start': 1649539629.407438, 'stop': 1649539629.4096663, 'source': 'tcp://127.0.0.1:58544'}, {'action': 'compute', 'start': 1649539629.410324, 'stop': 1649539629.4106882})   \n",
       "14                                                                                                                                                                                                                                             ({'action': 'transfer', 'start': 1649539629.415494, 'stop': 1649539629.416524, 'source': 'tcp://127.0.0.1:58543'}, {'action': 'compute', 'start': 1649539629.41687, 'stop': 1649539629.416917})   \n",
       "\n",
       "                                                                                     key  \n",
       "0                                            ('add-42c91fcd244541e3b459e8913af2d07a', 0)  \n",
       "1                         ('series-sum-chunk-fbd709dae3d9d13e17866642e9f8e505', 0, 0, 0)  \n",
       "2                       ('series-count-chunk-33f4ebe1295ecdc32b8301290d7befce', 0, 0, 0)  \n",
       "3                                            ('add-42c91fcd244541e3b459e8913af2d07a', 1)  \n",
       "4                         ('series-sum-chunk-fbd709dae3d9d13e17866642e9f8e505', 0, 1, 0)  \n",
       "5                       ('series-count-chunk-33f4ebe1295ecdc32b8301290d7befce', 0, 1, 0)  \n",
       "6                                            ('add-42c91fcd244541e3b459e8913af2d07a', 2)  \n",
       "7                         ('series-sum-chunk-fbd709dae3d9d13e17866642e9f8e505', 0, 2, 0)  \n",
       "8                       ('series-count-chunk-33f4ebe1295ecdc32b8301290d7befce', 0, 2, 0)  \n",
       "9                                            ('add-42c91fcd244541e3b459e8913af2d07a', 3)  \n",
       "10                        ('series-sum-chunk-fbd709dae3d9d13e17866642e9f8e505', 0, 3, 0)  \n",
       "11                      ('series-count-chunk-33f4ebe1295ecdc32b8301290d7befce', 0, 3, 0)  \n",
       "12                                ('series-sum-agg-fbd709dae3d9d13e17866642e9f8e505', 0)  \n",
       "13                              ('series-count-agg-33f4ebe1295ecdc32b8301290d7befce', 0)  \n",
       "14  ('series-mean-e59254112349d6beabe24b871bba72e7-492ac1b60baab934d7bfae16c67f5ab8', 0)  "
      ]
     },
     "execution_count": 133,
     "metadata": {},
     "output_type": "execute_result"
    }
   ],
   "source": [
    "# the startstops are nested. we need to unnest this for action stuff only. but use nested for all other\n",
    "hx_ddf.head(20)"
   ]
  },
  {
   "cell_type": "code",
   "execution_count": 188,
   "id": "41065992",
   "metadata": {},
   "outputs": [],
   "source": [
    "# the startstops are nested. we need to unnest this for action stuff only.\n",
    "exploded_df = hx_ddf.explode(\"startstops\")"
   ]
  },
  {
   "cell_type": "code",
   "execution_count": 226,
   "id": "6e504e73",
   "metadata": {},
   "outputs": [],
   "source": [
    "# AAAAGH THIS TOOK FOREVER TO FIGURE OUT O_O\n",
    "exploded_df['action'] = exploded_df['startstops'].apply(lambda x: x['action'], meta = (\"action\", str))\n",
    "exploded_df['start'] = exploded_df['startstops'].apply(lambda x: x['start'], meta = (\"start\", np.float64))\n",
    "exploded_df['end'] = exploded_df['startstops'].apply(lambda x: x['stop'], meta = (\"stop\", np.float64))\n",
    "exploded_df['action_duration'] = exploded_df['end'] - exploded_df['start']"
   ]
  },
  {
   "cell_type": "code",
   "execution_count": null,
   "id": "d05ce36e",
   "metadata": {},
   "outputs": [],
   "source": []
  },
  {
   "cell_type": "code",
   "execution_count": 247,
   "id": "40fe7aba",
   "metadata": {},
   "outputs": [],
   "source": [
    "exploded_df_only_agg_fields = exploded_df[['worker', 'action', 'action_duration']]"
   ]
  },
  {
   "cell_type": "code",
   "execution_count": 251,
   "id": "99c25f9c",
   "metadata": {
    "scrolled": true
   },
   "outputs": [],
   "source": [
    "time_per_worker_and_action = exploded_df_only_agg_fields.groupby(['worker','action']).agg(\"sum\")"
   ]
  },
  {
   "cell_type": "markdown",
   "id": "c5e72c6f",
   "metadata": {},
   "source": [
    "This is final for time_per_worker_and_action"
   ]
  },
  {
   "cell_type": "code",
   "execution_count": 252,
   "id": "2c0f310d",
   "metadata": {},
   "outputs": [
    {
     "data": {
      "text/html": [
       "<div>\n",
       "<style scoped>\n",
       "    .dataframe tbody tr th:only-of-type {\n",
       "        vertical-align: middle;\n",
       "    }\n",
       "\n",
       "    .dataframe tbody tr th {\n",
       "        vertical-align: top;\n",
       "    }\n",
       "\n",
       "    .dataframe thead th {\n",
       "        text-align: right;\n",
       "    }\n",
       "</style>\n",
       "<table border=\"1\" class=\"dataframe\">\n",
       "  <thead>\n",
       "    <tr style=\"text-align: right;\">\n",
       "      <th></th>\n",
       "      <th></th>\n",
       "      <th>action_duration</th>\n",
       "    </tr>\n",
       "    <tr>\n",
       "      <th>worker</th>\n",
       "      <th>action</th>\n",
       "      <th></th>\n",
       "    </tr>\n",
       "  </thead>\n",
       "  <tbody>\n",
       "    <tr>\n",
       "      <th>tcp://127.0.0.1:58542</th>\n",
       "      <th>compute</th>\n",
       "      <td>0.314724</td>\n",
       "    </tr>\n",
       "    <tr>\n",
       "      <th rowspan=\"2\" valign=\"top\">tcp://127.0.0.1:58543</th>\n",
       "      <th>compute</th>\n",
       "      <td>0.377976</td>\n",
       "    </tr>\n",
       "    <tr>\n",
       "      <th>transfer</th>\n",
       "      <td>0.005016</td>\n",
       "    </tr>\n",
       "    <tr>\n",
       "      <th>tcp://127.0.0.1:58544</th>\n",
       "      <th>compute</th>\n",
       "      <td>0.245632</td>\n",
       "    </tr>\n",
       "    <tr>\n",
       "      <th rowspan=\"2\" valign=\"top\">tcp://127.0.0.1:58545</th>\n",
       "      <th>compute</th>\n",
       "      <td>0.280231</td>\n",
       "    </tr>\n",
       "    <tr>\n",
       "      <th>transfer</th>\n",
       "      <td>0.006547</td>\n",
       "    </tr>\n",
       "  </tbody>\n",
       "</table>\n",
       "</div>"
      ],
      "text/plain": [
       "                                action_duration\n",
       "worker                action                   \n",
       "tcp://127.0.0.1:58542 compute          0.314724\n",
       "tcp://127.0.0.1:58543 compute          0.377976\n",
       "                      transfer         0.005016\n",
       "tcp://127.0.0.1:58544 compute          0.245632\n",
       "tcp://127.0.0.1:58545 compute          0.280231\n",
       "                      transfer         0.006547"
      ]
     },
     "execution_count": 252,
     "metadata": {},
     "output_type": "execute_result"
    }
   ],
   "source": [
    "time_per_worker_and_action.head(20)"
   ]
  },
  {
   "cell_type": "code",
   "execution_count": null,
   "id": "d4e51d02",
   "metadata": {},
   "outputs": [],
   "source": []
  },
  {
   "cell_type": "code",
   "execution_count": null,
   "id": "5cecb8e8",
   "metadata": {},
   "outputs": [],
   "source": [
    "# now get nbytes per worker"
   ]
  },
  {
   "cell_type": "code",
   "execution_count": 255,
   "id": "51910e54",
   "metadata": {},
   "outputs": [],
   "source": [
    "nbytes_per_worker = hx_ddf[['worker', 'nbytes']].groupby([\"worker\"]).agg(\"sum\")"
   ]
  },
  {
   "cell_type": "code",
   "execution_count": 256,
   "id": "24a9c4d9",
   "metadata": {},
   "outputs": [
    {
     "data": {
      "text/html": [
       "<div>\n",
       "<style scoped>\n",
       "    .dataframe tbody tr th:only-of-type {\n",
       "        vertical-align: middle;\n",
       "    }\n",
       "\n",
       "    .dataframe tbody tr th {\n",
       "        vertical-align: top;\n",
       "    }\n",
       "\n",
       "    .dataframe thead th {\n",
       "        text-align: right;\n",
       "    }\n",
       "</style>\n",
       "<table border=\"1\" class=\"dataframe\">\n",
       "  <thead>\n",
       "    <tr style=\"text-align: right;\">\n",
       "      <th></th>\n",
       "      <th>nbytes</th>\n",
       "    </tr>\n",
       "    <tr>\n",
       "      <th>worker</th>\n",
       "      <th></th>\n",
       "    </tr>\n",
       "  </thead>\n",
       "  <tbody>\n",
       "    <tr>\n",
       "      <th>tcp://127.0.0.1:58542</th>\n",
       "      <td>27417328</td>\n",
       "    </tr>\n",
       "    <tr>\n",
       "      <th>tcp://127.0.0.1:58543</th>\n",
       "      <td>30016384</td>\n",
       "    </tr>\n",
       "    <tr>\n",
       "      <th>tcp://127.0.0.1:58544</th>\n",
       "      <td>27191768</td>\n",
       "    </tr>\n",
       "    <tr>\n",
       "      <th>tcp://127.0.0.1:58545</th>\n",
       "      <td>30486992</td>\n",
       "    </tr>\n",
       "  </tbody>\n",
       "</table>\n",
       "</div>"
      ],
      "text/plain": [
       "                         nbytes\n",
       "worker                         \n",
       "tcp://127.0.0.1:58542  27417328\n",
       "tcp://127.0.0.1:58543  30016384\n",
       "tcp://127.0.0.1:58544  27191768\n",
       "tcp://127.0.0.1:58545  30486992"
      ]
     },
     "execution_count": 256,
     "metadata": {},
     "output_type": "execute_result"
    }
   ],
   "source": [
    "nbytes_per_worker.head(20)"
   ]
  },
  {
   "cell_type": "code",
   "execution_count": null,
   "id": "552b1094",
   "metadata": {},
   "outputs": [],
   "source": []
  },
  {
   "cell_type": "code",
   "execution_count": null,
   "id": "27b916c0",
   "metadata": {},
   "outputs": [],
   "source": []
  },
  {
   "cell_type": "code",
   "execution_count": null,
   "id": "4a92e5a6",
   "metadata": {},
   "outputs": [],
   "source": []
  },
  {
   "cell_type": "code",
   "execution_count": null,
   "id": "c2589cdc",
   "metadata": {},
   "outputs": [],
   "source": []
  },
  {
   "cell_type": "code",
   "execution_count": null,
   "id": "e3ed0848",
   "metadata": {},
   "outputs": [],
   "source": []
  },
  {
   "cell_type": "code",
   "execution_count": null,
   "id": "43be4fab",
   "metadata": {},
   "outputs": [],
   "source": []
  },
  {
   "cell_type": "code",
   "execution_count": null,
   "id": "b2e55726",
   "metadata": {},
   "outputs": [],
   "source": []
  },
  {
   "cell_type": "code",
   "execution_count": null,
   "id": "965bbdff",
   "metadata": {},
   "outputs": [],
   "source": []
  },
  {
   "cell_type": "code",
   "execution_count": null,
   "id": "263c7b06",
   "metadata": {},
   "outputs": [],
   "source": []
  },
  {
   "cell_type": "code",
   "execution_count": null,
   "id": "6442e3df",
   "metadata": {},
   "outputs": [],
   "source": []
  },
  {
   "cell_type": "code",
   "execution_count": null,
   "id": "6960c642",
   "metadata": {},
   "outputs": [],
   "source": []
  },
  {
   "cell_type": "code",
   "execution_count": null,
   "id": "ce60a346",
   "metadata": {},
   "outputs": [],
   "source": []
  },
  {
   "cell_type": "code",
   "execution_count": null,
   "id": "41082df2",
   "metadata": {},
   "outputs": [],
   "source": []
  },
  {
   "cell_type": "code",
   "execution_count": null,
   "id": "067bd185",
   "metadata": {},
   "outputs": [],
   "source": []
  },
  {
   "cell_type": "code",
   "execution_count": null,
   "id": "364ae498",
   "metadata": {},
   "outputs": [],
   "source": []
  },
  {
   "cell_type": "code",
   "execution_count": null,
   "id": "f123a930",
   "metadata": {},
   "outputs": [],
   "source": []
  },
  {
   "cell_type": "code",
   "execution_count": null,
   "id": "bbe163d4",
   "metadata": {},
   "outputs": [],
   "source": []
  },
  {
   "cell_type": "code",
   "execution_count": null,
   "id": "0822febc",
   "metadata": {},
   "outputs": [],
   "source": []
  },
  {
   "cell_type": "code",
   "execution_count": 163,
   "id": "4b3f6236",
   "metadata": {},
   "outputs": [],
   "source": []
  },
  {
   "cell_type": "code",
   "execution_count": 162,
   "id": "19bb7fc8",
   "metadata": {},
   "outputs": [],
   "source": []
  },
  {
   "cell_type": "code",
   "execution_count": null,
   "id": "07ac7518",
   "metadata": {},
   "outputs": [],
   "source": []
  },
  {
   "cell_type": "code",
   "execution_count": null,
   "id": "a7c8cd7b",
   "metadata": {
    "scrolled": true
   },
   "outputs": [],
   "source": []
  },
  {
   "cell_type": "code",
   "execution_count": null,
   "id": "36c7e19b",
   "metadata": {},
   "outputs": [],
   "source": []
  },
  {
   "cell_type": "code",
   "execution_count": null,
   "id": "adffca9a",
   "metadata": {},
   "outputs": [],
   "source": []
  },
  {
   "cell_type": "code",
   "execution_count": null,
   "id": "8d65d07c",
   "metadata": {},
   "outputs": [],
   "source": []
  },
  {
   "cell_type": "code",
   "execution_count": null,
   "id": "c2fe0aa9",
   "metadata": {},
   "outputs": [],
   "source": []
  },
  {
   "cell_type": "code",
   "execution_count": null,
   "id": "f4464ff4",
   "metadata": {},
   "outputs": [],
   "source": []
  },
  {
   "cell_type": "code",
   "execution_count": null,
   "id": "11ac308c",
   "metadata": {},
   "outputs": [],
   "source": []
  },
  {
   "cell_type": "code",
   "execution_count": null,
   "id": "b49c212a",
   "metadata": {},
   "outputs": [],
   "source": []
  },
  {
   "cell_type": "code",
   "execution_count": null,
   "id": "bbcdd641",
   "metadata": {},
   "outputs": [],
   "source": []
  },
  {
   "cell_type": "code",
   "execution_count": null,
   "id": "0586a84a",
   "metadata": {},
   "outputs": [],
   "source": []
  },
  {
   "cell_type": "code",
   "execution_count": null,
   "id": "3e6e21eb",
   "metadata": {},
   "outputs": [],
   "source": []
  },
  {
   "cell_type": "code",
   "execution_count": null,
   "id": "b531547a",
   "metadata": {},
   "outputs": [],
   "source": []
  },
  {
   "cell_type": "code",
   "execution_count": null,
   "id": "6fd26bca",
   "metadata": {},
   "outputs": [],
   "source": []
  },
  {
   "cell_type": "code",
   "execution_count": null,
   "id": "7455180f",
   "metadata": {},
   "outputs": [],
   "source": []
  },
  {
   "cell_type": "code",
   "execution_count": null,
   "id": "29e6811c",
   "metadata": {},
   "outputs": [],
   "source": []
  },
  {
   "cell_type": "code",
   "execution_count": null,
   "id": "fccb9ef0",
   "metadata": {},
   "outputs": [],
   "source": []
  },
  {
   "cell_type": "code",
   "execution_count": null,
   "id": "d203ebac",
   "metadata": {},
   "outputs": [],
   "source": []
  },
  {
   "cell_type": "code",
   "execution_count": null,
   "id": "08c9f6d4",
   "metadata": {},
   "outputs": [],
   "source": []
  },
  {
   "cell_type": "code",
   "execution_count": null,
   "id": "de27708c",
   "metadata": {},
   "outputs": [],
   "source": []
  },
  {
   "cell_type": "code",
   "execution_count": null,
   "id": "9dfc53af",
   "metadata": {},
   "outputs": [],
   "source": []
  },
  {
   "cell_type": "code",
   "execution_count": null,
   "id": "312ce737",
   "metadata": {},
   "outputs": [],
   "source": []
  },
  {
   "cell_type": "code",
   "execution_count": null,
   "id": "5ce5faeb",
   "metadata": {},
   "outputs": [],
   "source": []
  },
  {
   "cell_type": "code",
   "execution_count": null,
   "id": "ed66bf2e",
   "metadata": {},
   "outputs": [],
   "source": []
  },
  {
   "cell_type": "code",
   "execution_count": null,
   "id": "7937974e",
   "metadata": {},
   "outputs": [],
   "source": []
  },
  {
   "cell_type": "code",
   "execution_count": null,
   "id": "3dcaa157",
   "metadata": {},
   "outputs": [],
   "source": []
  },
  {
   "cell_type": "code",
   "execution_count": null,
   "id": "c15a734c",
   "metadata": {},
   "outputs": [],
   "source": []
  },
  {
   "cell_type": "code",
   "execution_count": null,
   "id": "56d8414a",
   "metadata": {},
   "outputs": [],
   "source": []
  },
  {
   "cell_type": "code",
   "execution_count": 130,
   "id": "28873221",
   "metadata": {},
   "outputs": [],
   "source": []
  },
  {
   "cell_type": "code",
   "execution_count": null,
   "id": "35d48a84",
   "metadata": {},
   "outputs": [],
   "source": []
  },
  {
   "cell_type": "code",
   "execution_count": null,
   "id": "5e74954b",
   "metadata": {},
   "outputs": [],
   "source": []
  },
  {
   "cell_type": "code",
   "execution_count": null,
   "id": "c2190a37",
   "metadata": {},
   "outputs": [],
   "source": []
  },
  {
   "cell_type": "code",
   "execution_count": null,
   "id": "6efab407",
   "metadata": {},
   "outputs": [],
   "source": []
  },
  {
   "cell_type": "code",
   "execution_count": null,
   "id": "e95b5d81",
   "metadata": {},
   "outputs": [],
   "source": []
  },
  {
   "cell_type": "code",
   "execution_count": null,
   "id": "f62a0c5c",
   "metadata": {},
   "outputs": [],
   "source": []
  },
  {
   "cell_type": "code",
   "execution_count": null,
   "id": "46a877ab",
   "metadata": {},
   "outputs": [],
   "source": []
  },
  {
   "cell_type": "code",
   "execution_count": null,
   "id": "4237119a",
   "metadata": {},
   "outputs": [],
   "source": []
  },
  {
   "cell_type": "code",
   "execution_count": null,
   "id": "d50d442d",
   "metadata": {},
   "outputs": [],
   "source": []
  },
  {
   "cell_type": "code",
   "execution_count": null,
   "id": "20b62cdc",
   "metadata": {},
   "outputs": [],
   "source": []
  },
  {
   "cell_type": "code",
   "execution_count": null,
   "id": "38570bfb",
   "metadata": {},
   "outputs": [],
   "source": []
  },
  {
   "cell_type": "code",
   "execution_count": null,
   "id": "830e7d96",
   "metadata": {},
   "outputs": [],
   "source": []
  },
  {
   "cell_type": "code",
   "execution_count": null,
   "id": "d975a5d0",
   "metadata": {},
   "outputs": [],
   "source": []
  },
  {
   "cell_type": "code",
   "execution_count": null,
   "id": "7990d90c",
   "metadata": {},
   "outputs": [],
   "source": []
  },
  {
   "cell_type": "code",
   "execution_count": null,
   "id": "05e2dae0",
   "metadata": {},
   "outputs": [],
   "source": []
  },
  {
   "cell_type": "code",
   "execution_count": null,
   "id": "fd3644d5",
   "metadata": {},
   "outputs": [],
   "source": []
  },
  {
   "cell_type": "code",
   "execution_count": null,
   "id": "ef6522ff",
   "metadata": {},
   "outputs": [],
   "source": []
  },
  {
   "cell_type": "code",
   "execution_count": null,
   "id": "17d7a07c",
   "metadata": {},
   "outputs": [],
   "source": []
  },
  {
   "cell_type": "code",
   "execution_count": null,
   "id": "98aff545",
   "metadata": {},
   "outputs": [],
   "source": []
  },
  {
   "cell_type": "code",
   "execution_count": null,
   "id": "465d97e6",
   "metadata": {},
   "outputs": [],
   "source": []
  },
  {
   "cell_type": "code",
   "execution_count": null,
   "id": "9cc21e8b",
   "metadata": {},
   "outputs": [],
   "source": []
  }
 ],
 "metadata": {
  "kernelspec": {
   "display_name": "Python 3 (ipykernel)",
   "language": "python",
   "name": "python3"
  },
  "language_info": {
   "codemirror_mode": {
    "name": "ipython",
    "version": 3
   },
   "file_extension": ".py",
   "mimetype": "text/x-python",
   "name": "python",
   "nbconvert_exporter": "python",
   "pygments_lexer": "ipython3",
   "version": "3.9.7"
  }
 },
 "nbformat": 4,
 "nbformat_minor": 5
}
