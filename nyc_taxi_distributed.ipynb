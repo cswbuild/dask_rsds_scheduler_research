{
 "cells": [
  {
   "cell_type": "markdown",
   "id": "94161fe2",
   "metadata": {},
   "source": [
    "Step 1: download and convert dataset from CSV to Parquet"
   ]
  },
  {
   "cell_type": "code",
   "execution_count": 1,
   "id": "d3ffc5e5",
   "metadata": {},
   "outputs": [],
   "source": [
    "import pandas as pd\n",
    "import pyarrow as pa\n",
    "import pyarrow.parquet as pq"
   ]
  },
  {
   "cell_type": "code",
   "execution_count": 2,
   "id": "2f183f6d",
   "metadata": {},
   "outputs": [],
   "source": [
    "import dask.dataframe as dd\n",
    "import pandas as pd\n",
    "import numpy as np\n",
    "from dask.distributed import Client, LocalCluster\n",
    "import dask\n",
    "from dask.distributed import get_task_stream"
   ]
  },
  {
   "cell_type": "code",
   "execution_count": 3,
   "id": "d99d2540",
   "metadata": {},
   "outputs": [],
   "source": [
    "import time"
   ]
  },
  {
   "cell_type": "code",
   "execution_count": 4,
   "id": "507c0db9",
   "metadata": {},
   "outputs": [
    {
     "name": "stdout",
     "output_type": "stream",
     "text": [
      "pandas version: 1.3.4\n",
      "numpy version: 1.20.3\n",
      "dask version: 2021.10.0\n"
     ]
    }
   ],
   "source": [
    "print('pandas version: %s' % pd.__version__)\n",
    "print('numpy version: %s' % np.__version__)\n",
    "print('dask version: %s' % dask.__version__)"
   ]
  },
  {
   "cell_type": "markdown",
   "id": "61e2b761",
   "metadata": {},
   "source": [
    "https://docs.databricks.com/_static/notebooks/koalas-benchmark-distributed-execution.html?_ga=2.216403934.95291449.1648935555-599276868.1645477063"
   ]
  },
  {
   "cell_type": "code",
   "execution_count": 5,
   "id": "d7122ef5",
   "metadata": {},
   "outputs": [],
   "source": [
    "filename = \"taxi_dataset.txt\""
   ]
  },
  {
   "cell_type": "code",
   "execution_count": 6,
   "id": "1621fe95",
   "metadata": {},
   "outputs": [],
   "source": [
    "with open(filename) as file:\n",
    "    csv_files = [line.rstrip() for line in file]\n",
    "# only choose yellow taxis\n",
    "yellow = list(filter(lambda x: \"yellow\" in x, csv_files))"
   ]
  },
  {
   "cell_type": "code",
   "execution_count": null,
   "id": "f414529f",
   "metadata": {},
   "outputs": [],
   "source": []
  },
  {
   "cell_type": "code",
   "execution_count": 7,
   "id": "7a4ecb40",
   "metadata": {
    "scrolled": true
   },
   "outputs": [],
   "source": [
    "# make the list small for now\n",
    "yellow = ['https://s3.amazonaws.com/nyc-tlc/trip+data/yellow_tripdata_2013-11.csv']"
   ]
  },
  {
   "cell_type": "code",
   "execution_count": 8,
   "id": "7836d2a7",
   "metadata": {},
   "outputs": [
    {
     "data": {
      "text/plain": [
       "['https://s3.amazonaws.com/nyc-tlc/trip+data/yellow_tripdata_2013-11.csv']"
      ]
     },
     "execution_count": 8,
     "metadata": {},
     "output_type": "execute_result"
    }
   ],
   "source": [
    "yellow"
   ]
  },
  {
   "cell_type": "code",
   "execution_count": 9,
   "id": "24e01ad8",
   "metadata": {},
   "outputs": [
    {
     "name": "stderr",
     "output_type": "stream",
     "text": [
      "/Users/mk/opt/anaconda3/lib/python3.9/site-packages/dask/dataframe/io/csv.py:125: DtypeWarning: Columns (8) have mixed types.Specify dtype option on import or set low_memory=False.\n",
      "  df = pandas_read_text(\n",
      "/Users/mk/opt/anaconda3/lib/python3.9/site-packages/dask/dataframe/io/csv.py:125: DtypeWarning: Columns (8) have mixed types.Specify dtype option on import or set low_memory=False.\n",
      "  df = pandas_read_text(\n",
      "/Users/mk/opt/anaconda3/lib/python3.9/site-packages/dask/dataframe/io/csv.py:125: DtypeWarning: Columns (8) have mixed types.Specify dtype option on import or set low_memory=False.\n",
      "  df = pandas_read_text(\n"
     ]
    }
   ],
   "source": [
    "import re\n",
    "pattern = '/[^\\/]*\\.csv$/gm'\n",
    "\n",
    "for csv_url in yellow:\n",
    "#     get the filename only so I can sort by month / year\n",
    "    csv_name = re.findall(r\"[^\\/]*\\.csv$\",csv_url)\n",
    "    df = dd.read_csv(csv_url,dtype={'tolls_amount': 'float64'})\n",
    "\n",
    "    df = df.repartition(npartitions=4)\n",
    "    df.to_parquet(f'./tmp/trip_data_{csv_name}', write_index=False)\n"
   ]
  },
  {
   "cell_type": "code",
   "execution_count": null,
   "id": "50492a32",
   "metadata": {},
   "outputs": [],
   "source": []
  },
  {
   "cell_type": "markdown",
   "id": "377a7e5a",
   "metadata": {},
   "source": [
    "Read in parquet to dask"
   ]
  },
  {
   "cell_type": "code",
   "execution_count": null,
   "id": "2965a651",
   "metadata": {},
   "outputs": [],
   "source": []
  },
  {
   "cell_type": "code",
   "execution_count": 7,
   "id": "b99424fc",
   "metadata": {},
   "outputs": [],
   "source": []
  },
  {
   "cell_type": "code",
   "execution_count": 47,
   "id": "9e6e7929",
   "metadata": {},
   "outputs": [
    {
     "data": {
      "text/plain": [
       "{'description': {'filename': '', 'name': '', 'line_number': 0, 'line': ''},\n",
       " 'children': {},\n",
       " 'count': 0,\n",
       " 'identifier': 'root'}"
      ]
     },
     "execution_count": 47,
     "metadata": {},
     "output_type": "execute_result"
    }
   ],
   "source": [
    "from dask.distributed import get_task_stream\n",
    "\n",
    "client = Client()"
   ]
  },
  {
   "cell_type": "code",
   "execution_count": 48,
   "id": "b5588aca",
   "metadata": {
    "scrolled": true
   },
   "outputs": [],
   "source": []
  },
  {
   "cell_type": "code",
   "execution_count": null,
   "id": "d0a9f44e",
   "metadata": {
    "scrolled": true
   },
   "outputs": [],
   "source": []
  },
  {
   "cell_type": "code",
   "execution_count": null,
   "id": "5bfc0a06",
   "metadata": {},
   "outputs": [],
   "source": []
  },
  {
   "cell_type": "code",
   "execution_count": null,
   "id": "d4a4a4d5",
   "metadata": {},
   "outputs": [],
   "source": []
  },
  {
   "cell_type": "code",
   "execution_count": null,
   "id": "e88df266",
   "metadata": {},
   "outputs": [],
   "source": []
  },
  {
   "cell_type": "code",
   "execution_count": null,
   "id": "7d9605b0",
   "metadata": {},
   "outputs": [],
   "source": []
  },
  {
   "cell_type": "markdown",
   "id": "9f53d078",
   "metadata": {},
   "source": [
    "# set up testbench"
   ]
  },
  {
   "cell_type": "code",
   "execution_count": 35,
   "id": "7a24b18e",
   "metadata": {},
   "outputs": [],
   "source": [
    "def benchmark(f, df, benchmarks, task_name, **kwargs):\n",
    "    \"\"\"Benchmark the given function against the given DataFrame.\n",
    "    \n",
    "    Parameters\n",
    "    ----------\n",
    "    f: function to benchmark\n",
    "    df: data frame\n",
    "    benchmarks: container for benchmark results\n",
    "    name: task name\n",
    "    \n",
    "    Returns\n",
    "    -------\n",
    "    Duration (in seconds) of the given operation\n",
    "    \"\"\"\n",
    "    ret_benchmark_vals = {}\n",
    "    with get_task_stream(plot='save', filename=\"task-stream.html\") as ts:\n",
    "        start_time = time.time()\n",
    "        ret = f(df, **kwargs)\n",
    "        ret_benchmark_vals['raw_duration'] = time.time() - start_time\n",
    "        ret_benchmark_vals['history'] = ts.data\n",
    "    benchmarks[task_name] = ret_benchmark_vals\n",
    "    print(f\"{task_name} took: {benchmarks[task_name].get('raw_duration')} seconds\")\n",
    "    return benchmarks[task_name].get(\"raw_duration\")"
   ]
  },
  {
   "cell_type": "code",
   "execution_count": null,
   "id": "31160a4a",
   "metadata": {},
   "outputs": [],
   "source": []
  },
  {
   "cell_type": "code",
   "execution_count": 31,
   "id": "0d7aa360",
   "metadata": {},
   "outputs": [],
   "source": [
    "import collections\n",
    "dask_benchmarks = collections.defaultdict(dict)\n",
    "# benchmarks = {\"task1\" : {\"stat1\": val, \"stat2\": val}}"
   ]
  },
  {
   "cell_type": "code",
   "execution_count": null,
   "id": "ddbfd104",
   "metadata": {},
   "outputs": [],
   "source": []
  },
  {
   "cell_type": "code",
   "execution_count": null,
   "id": "fcbbca0f",
   "metadata": {},
   "outputs": [],
   "source": []
  },
  {
   "cell_type": "markdown",
   "id": "c30b57a3",
   "metadata": {},
   "source": [
    "# Define benchmark tasks"
   ]
  },
  {
   "cell_type": "code",
   "execution_count": 64,
   "id": "8051f746",
   "metadata": {},
   "outputs": [],
   "source": [
    "all_tasks = []"
   ]
  },
  {
   "cell_type": "code",
   "execution_count": 65,
   "id": "99183ef3",
   "metadata": {},
   "outputs": [],
   "source": [
    "# sum, then means = simple mapreduce\n",
    "def read_to_basic_ETL(df = None):\n",
    "    df = dd.read_parquet(\n",
    "    \"./tmp/\", \n",
    "    storage_options={\"anon\": True, 'use_ssl': True})    \n",
    "    return (df.fare_amount + df.tip_amount).mean().compute()\n",
    "all_tasks.append(read_to_basic_ETL)"
   ]
  },
  {
   "cell_type": "code",
   "execution_count": 66,
   "id": "fd09eaca",
   "metadata": {},
   "outputs": [],
   "source": [
    "# counts of values seen = simple map, groupby, reduce\n",
    "def count_values(df):\n",
    "    return df.fare_amount.value_counts().compute()\n",
    "all_tasks.append(count_values)"
   ]
  },
  {
   "cell_type": "code",
   "execution_count": 67,
   "id": "06436a98",
   "metadata": {},
   "outputs": [],
   "source": [
    "# cpu heavy arithmetic : mapreduce\n",
    "def complicated_arithmetic_operation(df):\n",
    "    theta_1 = df.pickup_longitude\n",
    "    phi_1 = df.pickup_latitude\n",
    "    theta_2 = df.dropoff_longitude\n",
    "    phi_2 = df.dropoff_latitude\n",
    "    temp = (np.sin((theta_2-theta_1)/2*np.pi/180)**2\n",
    "           + np.cos(theta_1*np.pi/180)*np.cos(theta_2*np.pi/180) * np.sin((phi_2-phi_1)/2*np.pi/180)**2)\n",
    "    ret = 2 * np.arctan2(np.sqrt(temp), np.sqrt(1-temp))\n",
    "    return ret.compute()\n",
    "all_tasks.append(complicated_arithmetic_operation)"
   ]
  },
  {
   "cell_type": "code",
   "execution_count": 68,
   "id": "c96c7ce8",
   "metadata": {},
   "outputs": [],
   "source": [
    "def groupby_statistics(df):\n",
    "    return df.groupby(by='passenger_count').agg(\n",
    "      {\n",
    "        'total_amount': ['mean', 'std'], \n",
    "        'tip_amount': ['mean', 'std']\n",
    "      }\n",
    "    ).compute()\n",
    "all_tasks.append(complicated_arithmetic_operation)"
   ]
  },
  {
   "cell_type": "code",
   "execution_count": 69,
   "id": "e8b4d649",
   "metadata": {},
   "outputs": [],
   "source": [
    "# join two datasets\n",
    "def join_data(df):\n",
    "    return dd.merge(df, other, left_index=True, right_index=True).compute()\n",
    "all_tasks.append(complicated_arithmetic_operation)"
   ]
  },
  {
   "cell_type": "code",
   "execution_count": null,
   "id": "96736147",
   "metadata": {},
   "outputs": [],
   "source": []
  },
  {
   "cell_type": "code",
   "execution_count": null,
   "id": "2f2bfd10",
   "metadata": {},
   "outputs": [],
   "source": []
  },
  {
   "cell_type": "code",
   "execution_count": null,
   "id": "e91c4fe7",
   "metadata": {},
   "outputs": [],
   "source": []
  },
  {
   "cell_type": "markdown",
   "id": "ada23aed",
   "metadata": {},
   "source": [
    "# run the tasks"
   ]
  },
  {
   "cell_type": "code",
   "execution_count": 70,
   "id": "c0300d81",
   "metadata": {},
   "outputs": [],
   "source": [
    "df = dd.read_parquet(\n",
    "    \"./tmp/\", \n",
    "    storage_options={\"anon\": True, 'use_ssl': True})"
   ]
  },
  {
   "cell_type": "code",
   "execution_count": 71,
   "id": "862fbe5b",
   "metadata": {
    "scrolled": true
   },
   "outputs": [
    {
     "name": "stdout",
     "output_type": "stream",
     "text": [
      "read_to_basic_ETL took: 0.4521312713623047 seconds\n",
      "count_values took: 0.34616804122924805 seconds\n",
      "complicated_arithmetic_operation took: 3.579279661178589 seconds\n",
      "complicated_arithmetic_operation took: 2.8689677715301514 seconds\n",
      "complicated_arithmetic_operation took: 2.600781202316284 seconds\n"
     ]
    }
   ],
   "source": [
    "# for task in all_tasks:\n",
    "#     benchmark(task, df=df, benchmarks = dask_benchmarks, task_name = task.__name__)"
   ]
  },
  {
   "cell_type": "code",
   "execution_count": null,
   "id": "5a7fdf05",
   "metadata": {},
   "outputs": [],
   "source": []
  },
  {
   "cell_type": "code",
   "execution_count": 73,
   "id": "d484e863",
   "metadata": {},
   "outputs": [
    {
     "name": "stdout",
     "output_type": "stream",
     "text": [
      "read_to_basic_ETL took: 0.46721887588500977 seconds\n",
      "count_values took: 0.24425888061523438 seconds\n",
      "complicated_arithmetic_operation took: 2.843494176864624 seconds\n",
      "complicated_arithmetic_operation took: 1.7494018077850342 seconds\n",
      "complicated_arithmetic_operation took: 1.8757166862487793 seconds\n"
     ]
    },
    {
     "data": {
      "text/plain": [
       "[0.46721887588500977,\n",
       " 0.24425888061523438,\n",
       " 2.843494176864624,\n",
       " 1.7494018077850342,\n",
       " 1.8757166862487793]"
      ]
     },
     "execution_count": 73,
     "metadata": {},
     "output_type": "execute_result"
    }
   ],
   "source": [
    "[benchmark(task, df=df, benchmarks = dask_benchmarks, task_name = task.__name__) for task in all_tasks]"
   ]
  },
  {
   "cell_type": "code",
   "execution_count": null,
   "id": "ba11f388",
   "metadata": {},
   "outputs": [],
   "source": []
  },
  {
   "cell_type": "code",
   "execution_count": null,
   "id": "f222018a",
   "metadata": {},
   "outputs": [],
   "source": []
  },
  {
   "cell_type": "markdown",
   "id": "48463b05",
   "metadata": {},
   "source": [
    "# try to do something fancy with the history"
   ]
  },
  {
   "cell_type": "code",
   "execution_count": 114,
   "id": "44b4ba7d",
   "metadata": {},
   "outputs": [],
   "source": [
    "hx = dask_benchmarks.get(\"read_to_basic_ETL\").get(\"history\")"
   ]
  },
  {
   "cell_type": "code",
   "execution_count": 122,
   "id": "11ee021b",
   "metadata": {},
   "outputs": [
    {
     "data": {
      "text/plain": [
       "{'action': 'compute', 'start': 1649539629.0290596, 'stop': 1649539629.2514455}"
      ]
     },
     "execution_count": 122,
     "metadata": {},
     "output_type": "execute_result"
    }
   ],
   "source": [
    "hx[0]['startstops'][0]"
   ]
  },
  {
   "cell_type": "code",
   "execution_count": null,
   "id": "0ef073bb",
   "metadata": {},
   "outputs": [],
   "source": []
  },
  {
   "cell_type": "code",
   "execution_count": null,
   "id": "3496799b",
   "metadata": {},
   "outputs": [],
   "source": []
  },
  {
   "cell_type": "code",
   "execution_count": null,
   "id": "124d23e7",
   "metadata": {},
   "outputs": [],
   "source": []
  },
  {
   "cell_type": "code",
   "execution_count": 124,
   "id": "6fb9467d",
   "metadata": {
    "scrolled": false
   },
   "outputs": [],
   "source": [
    "for entry in hx:\n",
    "    startstops = entry['startstops']\n",
    "    entry['startstops_list'] = [action_entry for action_entry in startstops]"
   ]
  },
  {
   "cell_type": "code",
   "execution_count": 125,
   "id": "94882b2a",
   "metadata": {},
   "outputs": [
    {
     "data": {
      "text/plain": [
       "[{'worker': 'tcp://127.0.0.1:58544',\n",
       "  'status': 'OK',\n",
       "  'nbytes': 27191704,\n",
       "  'thread': 123145529507840,\n",
       "  'type': b'\\x80\\x04\\x95!\\x00\\x00\\x00\\x00\\x00\\x00\\x00\\x8c\\x12pandas.core.series\\x94\\x8c\\x06Series\\x94\\x93\\x94.',\n",
       "  'typename': 'pandas.core.series.Series',\n",
       "  'metadata': {},\n",
       "  'startstops': ({'action': 'compute',\n",
       "    'start': 1649539629.0290596,\n",
       "    'stop': 1649539629.2514455},),\n",
       "  'key': \"('add-42c91fcd244541e3b459e8913af2d07a', 0)\",\n",
       "  'startstops_list': [{'action': 'compute',\n",
       "    'start': 1649539629.0290596,\n",
       "    'stop': 1649539629.2514455}]},\n",
       " {'worker': 'tcp://127.0.0.1:58544',\n",
       "  'status': 'OK',\n",
       "  'nbytes': 32,\n",
       "  'thread': 123145529507840,\n",
       "  'type': b'\\x80\\x04\\x95\\x15\\x00\\x00\\x00\\x00\\x00\\x00\\x00\\x8c\\x05numpy\\x94\\x8c\\x07float64\\x94\\x93\\x94.',\n",
       "  'typename': 'numpy.float64',\n",
       "  'metadata': {},\n",
       "  'startstops': ({'action': 'compute',\n",
       "    'start': 1649539629.256208,\n",
       "    'stop': 1649539629.266967},),\n",
       "  'key': \"('series-sum-chunk-fbd709dae3d9d13e17866642e9f8e505', 0, 0, 0)\",\n",
       "  'startstops_list': [{'action': 'compute',\n",
       "    'start': 1649539629.256208,\n",
       "    'stop': 1649539629.266967}]},\n",
       " {'worker': 'tcp://127.0.0.1:58544',\n",
       "  'status': 'OK',\n",
       "  'nbytes': 32,\n",
       "  'thread': 123145546297344,\n",
       "  'type': b'\\x80\\x04\\x95\\x13\\x00\\x00\\x00\\x00\\x00\\x00\\x00\\x8c\\x05numpy\\x94\\x8c\\x05int64\\x94\\x93\\x94.',\n",
       "  'typename': 'numpy.int64',\n",
       "  'metadata': {},\n",
       "  'startstops': ({'action': 'compute',\n",
       "    'start': 1649539629.2559612,\n",
       "    'stop': 1649539629.268448},),\n",
       "  'key': \"('series-count-chunk-33f4ebe1295ecdc32b8301290d7befce', 0, 0, 0)\",\n",
       "  'startstops_list': [{'action': 'compute',\n",
       "    'start': 1649539629.2559612,\n",
       "    'stop': 1649539629.268448}]},\n",
       " {'worker': 'tcp://127.0.0.1:58545',\n",
       "  'status': 'OK',\n",
       "  'nbytes': 30486864,\n",
       "  'thread': 123145657192448,\n",
       "  'type': b'\\x80\\x04\\x95!\\x00\\x00\\x00\\x00\\x00\\x00\\x00\\x8c\\x12pandas.core.series\\x94\\x8c\\x06Series\\x94\\x93\\x94.',\n",
       "  'typename': 'pandas.core.series.Series',\n",
       "  'metadata': {},\n",
       "  'startstops': ({'action': 'compute',\n",
       "    'start': 1649539629.02956,\n",
       "    'stop': 1649539629.2818692},),\n",
       "  'key': \"('add-42c91fcd244541e3b459e8913af2d07a', 1)\",\n",
       "  'startstops_list': [{'action': 'compute',\n",
       "    'start': 1649539629.02956,\n",
       "    'stop': 1649539629.2818692}]},\n",
       " {'worker': 'tcp://127.0.0.1:58545',\n",
       "  'status': 'OK',\n",
       "  'nbytes': 32,\n",
       "  'thread': 123145657192448,\n",
       "  'type': b'\\x80\\x04\\x95\\x15\\x00\\x00\\x00\\x00\\x00\\x00\\x00\\x8c\\x05numpy\\x94\\x8c\\x07float64\\x94\\x93\\x94.',\n",
       "  'typename': 'numpy.float64',\n",
       "  'metadata': {},\n",
       "  'startstops': ({'action': 'compute',\n",
       "    'start': 1649539629.285232,\n",
       "    'stop': 1649539629.2956278},),\n",
       "  'key': \"('series-sum-chunk-fbd709dae3d9d13e17866642e9f8e505', 0, 1, 0)\",\n",
       "  'startstops_list': [{'action': 'compute',\n",
       "    'start': 1649539629.285232,\n",
       "    'stop': 1649539629.2956278}]},\n",
       " {'worker': 'tcp://127.0.0.1:58545',\n",
       "  'status': 'OK',\n",
       "  'nbytes': 32,\n",
       "  'thread': 123145640402944,\n",
       "  'type': b'\\x80\\x04\\x95\\x13\\x00\\x00\\x00\\x00\\x00\\x00\\x00\\x8c\\x05numpy\\x94\\x8c\\x05int64\\x94\\x93\\x94.',\n",
       "  'typename': 'numpy.int64',\n",
       "  'metadata': {},\n",
       "  'startstops': ({'action': 'compute',\n",
       "    'start': 1649539629.2851522,\n",
       "    'stop': 1649539629.3018951},),\n",
       "  'key': \"('series-count-chunk-33f4ebe1295ecdc32b8301290d7befce', 0, 1, 0)\",\n",
       "  'startstops_list': [{'action': 'compute',\n",
       "    'start': 1649539629.2851522,\n",
       "    'stop': 1649539629.3018951}]},\n",
       " {'worker': 'tcp://127.0.0.1:58542',\n",
       "  'status': 'OK',\n",
       "  'nbytes': 27417264,\n",
       "  'thread': 123145619705856,\n",
       "  'type': b'\\x80\\x04\\x95!\\x00\\x00\\x00\\x00\\x00\\x00\\x00\\x8c\\x12pandas.core.series\\x94\\x8c\\x06Series\\x94\\x93\\x94.',\n",
       "  'typename': 'pandas.core.series.Series',\n",
       "  'metadata': {},\n",
       "  'startstops': ({'action': 'compute',\n",
       "    'start': 1649539629.0302684,\n",
       "    'stop': 1649539629.3189504},),\n",
       "  'key': \"('add-42c91fcd244541e3b459e8913af2d07a', 2)\",\n",
       "  'startstops_list': [{'action': 'compute',\n",
       "    'start': 1649539629.0302684,\n",
       "    'stop': 1649539629.3189504}]},\n",
       " {'worker': 'tcp://127.0.0.1:58542',\n",
       "  'status': 'OK',\n",
       "  'nbytes': 32,\n",
       "  'thread': 123145619705856,\n",
       "  'type': b'\\x80\\x04\\x95\\x15\\x00\\x00\\x00\\x00\\x00\\x00\\x00\\x8c\\x05numpy\\x94\\x8c\\x07float64\\x94\\x93\\x94.',\n",
       "  'typename': 'numpy.float64',\n",
       "  'metadata': {},\n",
       "  'startstops': ({'action': 'compute',\n",
       "    'start': 1649539629.3196013,\n",
       "    'stop': 1649539629.3293502},),\n",
       "  'key': \"('series-sum-chunk-fbd709dae3d9d13e17866642e9f8e505', 0, 2, 0)\",\n",
       "  'startstops_list': [{'action': 'compute',\n",
       "    'start': 1649539629.3196013,\n",
       "    'stop': 1649539629.3293502}]},\n",
       " {'worker': 'tcp://127.0.0.1:58542',\n",
       "  'status': 'OK',\n",
       "  'nbytes': 32,\n",
       "  'thread': 123145602916352,\n",
       "  'type': b'\\x80\\x04\\x95\\x13\\x00\\x00\\x00\\x00\\x00\\x00\\x00\\x8c\\x05numpy\\x94\\x8c\\x05int64\\x94\\x93\\x94.',\n",
       "  'typename': 'numpy.int64',\n",
       "  'metadata': {},\n",
       "  'startstops': ({'action': 'compute',\n",
       "    'start': 1649539629.3195152,\n",
       "    'stop': 1649539629.335808},),\n",
       "  'key': \"('series-count-chunk-33f4ebe1295ecdc32b8301290d7befce', 0, 2, 0)\",\n",
       "  'startstops_list': [{'action': 'compute',\n",
       "    'start': 1649539629.3195152,\n",
       "    'stop': 1649539629.335808}]},\n",
       " {'worker': 'tcp://127.0.0.1:58543',\n",
       "  'status': 'OK',\n",
       "  'nbytes': 30016288,\n",
       "  'thread': 123145528463360,\n",
       "  'type': b'\\x80\\x04\\x95!\\x00\\x00\\x00\\x00\\x00\\x00\\x00\\x8c\\x12pandas.core.series\\x94\\x8c\\x06Series\\x94\\x93\\x94.',\n",
       "  'typename': 'pandas.core.series.Series',\n",
       "  'metadata': {},\n",
       "  'startstops': ({'action': 'compute',\n",
       "    'start': 1649539629.0295646,\n",
       "    'stop': 1649539629.3822947},),\n",
       "  'key': \"('add-42c91fcd244541e3b459e8913af2d07a', 3)\",\n",
       "  'startstops_list': [{'action': 'compute',\n",
       "    'start': 1649539629.0295646,\n",
       "    'stop': 1649539629.3822947}]},\n",
       " {'worker': 'tcp://127.0.0.1:58543',\n",
       "  'status': 'OK',\n",
       "  'nbytes': 32,\n",
       "  'thread': 123145528463360,\n",
       "  'type': b'\\x80\\x04\\x95\\x15\\x00\\x00\\x00\\x00\\x00\\x00\\x00\\x8c\\x05numpy\\x94\\x8c\\x07float64\\x94\\x93\\x94.',\n",
       "  'typename': 'numpy.float64',\n",
       "  'metadata': {},\n",
       "  'startstops': ({'action': 'compute',\n",
       "    'start': 1649539629.3863683,\n",
       "    'stop': 1649539629.3966413},),\n",
       "  'key': \"('series-sum-chunk-fbd709dae3d9d13e17866642e9f8e505', 0, 3, 0)\",\n",
       "  'startstops_list': [{'action': 'compute',\n",
       "    'start': 1649539629.3863683,\n",
       "    'stop': 1649539629.3966413}]},\n",
       " {'worker': 'tcp://127.0.0.1:58543',\n",
       "  'status': 'OK',\n",
       "  'nbytes': 32,\n",
       "  'thread': 123145511673856,\n",
       "  'type': b'\\x80\\x04\\x95\\x13\\x00\\x00\\x00\\x00\\x00\\x00\\x00\\x8c\\x05numpy\\x94\\x8c\\x05int64\\x94\\x93\\x94.',\n",
       "  'typename': 'numpy.int64',\n",
       "  'metadata': {},\n",
       "  'startstops': ({'action': 'compute',\n",
       "    'start': 1649539629.386213,\n",
       "    'stop': 1649539629.4008222},),\n",
       "  'key': \"('series-count-chunk-33f4ebe1295ecdc32b8301290d7befce', 0, 3, 0)\",\n",
       "  'startstops_list': [{'action': 'compute',\n",
       "    'start': 1649539629.386213,\n",
       "    'stop': 1649539629.4008222}]},\n",
       " {'worker': 'tcp://127.0.0.1:58545',\n",
       "  'status': 'OK',\n",
       "  'nbytes': 32,\n",
       "  'thread': 123145657192448,\n",
       "  'type': b'\\x80\\x04\\x95\\x15\\x00\\x00\\x00\\x00\\x00\\x00\\x00\\x8c\\x05numpy\\x94\\x8c\\x07float64\\x94\\x93\\x94.',\n",
       "  'typename': 'numpy.float64',\n",
       "  'metadata': {},\n",
       "  'startstops': ({'action': 'transfer',\n",
       "    'start': 1649539629.400626,\n",
       "    'stop': 1649539629.4018872,\n",
       "    'source': 'tcp://127.0.0.1:58542'},\n",
       "   {'action': 'transfer',\n",
       "    'start': 1649539629.400389,\n",
       "    'stop': 1649539629.4024549,\n",
       "    'source': 'tcp://127.0.0.1:58544'},\n",
       "   {'action': 'transfer',\n",
       "    'start': 1649539629.400895,\n",
       "    'stop': 1649539629.403085,\n",
       "    'source': 'tcp://127.0.0.1:58543'},\n",
       "   {'action': 'compute',\n",
       "    'start': 1649539629.403762,\n",
       "    'stop': 1649539629.404498}),\n",
       "  'key': \"('series-sum-agg-fbd709dae3d9d13e17866642e9f8e505', 0)\",\n",
       "  'startstops_list': [{'action': 'transfer',\n",
       "    'start': 1649539629.400626,\n",
       "    'stop': 1649539629.4018872,\n",
       "    'source': 'tcp://127.0.0.1:58542'},\n",
       "   {'action': 'transfer',\n",
       "    'start': 1649539629.400389,\n",
       "    'stop': 1649539629.4024549,\n",
       "    'source': 'tcp://127.0.0.1:58544'},\n",
       "   {'action': 'transfer',\n",
       "    'start': 1649539629.400895,\n",
       "    'stop': 1649539629.403085,\n",
       "    'source': 'tcp://127.0.0.1:58543'},\n",
       "   {'action': 'compute',\n",
       "    'start': 1649539629.403762,\n",
       "    'stop': 1649539629.404498}]},\n",
       " {'worker': 'tcp://127.0.0.1:58543',\n",
       "  'status': 'OK',\n",
       "  'nbytes': 32,\n",
       "  'thread': 123145528463360,\n",
       "  'type': b'\\x80\\x04\\x95\\x13\\x00\\x00\\x00\\x00\\x00\\x00\\x00\\x8c\\x05numpy\\x94\\x8c\\x05int64\\x94\\x93\\x94.',\n",
       "  'typename': 'numpy.int64',\n",
       "  'metadata': {},\n",
       "  'startstops': ({'action': 'transfer',\n",
       "    'start': 1649539629.4076552,\n",
       "    'stop': 1649539629.4090931,\n",
       "    'source': 'tcp://127.0.0.1:58545'},\n",
       "   {'action': 'transfer',\n",
       "    'start': 1649539629.4079792,\n",
       "    'stop': 1649539629.4093292,\n",
       "    'source': 'tcp://127.0.0.1:58542'},\n",
       "   {'action': 'transfer',\n",
       "    'start': 1649539629.407438,\n",
       "    'stop': 1649539629.4096663,\n",
       "    'source': 'tcp://127.0.0.1:58544'},\n",
       "   {'action': 'compute',\n",
       "    'start': 1649539629.410324,\n",
       "    'stop': 1649539629.4106882}),\n",
       "  'key': \"('series-count-agg-33f4ebe1295ecdc32b8301290d7befce', 0)\",\n",
       "  'startstops_list': [{'action': 'transfer',\n",
       "    'start': 1649539629.4076552,\n",
       "    'stop': 1649539629.4090931,\n",
       "    'source': 'tcp://127.0.0.1:58545'},\n",
       "   {'action': 'transfer',\n",
       "    'start': 1649539629.4079792,\n",
       "    'stop': 1649539629.4093292,\n",
       "    'source': 'tcp://127.0.0.1:58542'},\n",
       "   {'action': 'transfer',\n",
       "    'start': 1649539629.407438,\n",
       "    'stop': 1649539629.4096663,\n",
       "    'source': 'tcp://127.0.0.1:58544'},\n",
       "   {'action': 'compute',\n",
       "    'start': 1649539629.410324,\n",
       "    'stop': 1649539629.4106882}]},\n",
       " {'worker': 'tcp://127.0.0.1:58545',\n",
       "  'status': 'OK',\n",
       "  'nbytes': 32,\n",
       "  'thread': 123145640402944,\n",
       "  'type': b'\\x80\\x04\\x95\\x15\\x00\\x00\\x00\\x00\\x00\\x00\\x00\\x8c\\x05numpy\\x94\\x8c\\x07float64\\x94\\x93\\x94.',\n",
       "  'typename': 'numpy.float64',\n",
       "  'metadata': {},\n",
       "  'startstops': ({'action': 'transfer',\n",
       "    'start': 1649539629.415494,\n",
       "    'stop': 1649539629.416524,\n",
       "    'source': 'tcp://127.0.0.1:58543'},\n",
       "   {'action': 'compute',\n",
       "    'start': 1649539629.41687,\n",
       "    'stop': 1649539629.416917}),\n",
       "  'key': \"('series-mean-e59254112349d6beabe24b871bba72e7-492ac1b60baab934d7bfae16c67f5ab8', 0)\",\n",
       "  'startstops_list': [{'action': 'transfer',\n",
       "    'start': 1649539629.415494,\n",
       "    'stop': 1649539629.416524,\n",
       "    'source': 'tcp://127.0.0.1:58543'},\n",
       "   {'action': 'compute',\n",
       "    'start': 1649539629.41687,\n",
       "    'stop': 1649539629.416917}]}]"
      ]
     },
     "execution_count": 125,
     "metadata": {},
     "output_type": "execute_result"
    }
   ],
   "source": [
    "hx"
   ]
  },
  {
   "cell_type": "code",
   "execution_count": null,
   "id": "0e18331f",
   "metadata": {},
   "outputs": [],
   "source": []
  },
  {
   "cell_type": "markdown",
   "id": "62fb8101",
   "metadata": {},
   "source": [
    "use dask to do dask :D"
   ]
  },
  {
   "cell_type": "code",
   "execution_count": 86,
   "id": "f899989a",
   "metadata": {},
   "outputs": [],
   "source": [
    "import pandas as pd\n",
    "pd.set_option('display.max_colwidth', None)"
   ]
  },
  {
   "cell_type": "code",
   "execution_count": 88,
   "id": "12530cb4",
   "metadata": {},
   "outputs": [],
   "source": [
    "hx_df = pd.DataFrame (hx, columns = ['worker','status','nbytes', 'thread', 'type', 'typename', 'metadata', 'startstops', 'key'])"
   ]
  },
  {
   "cell_type": "code",
   "execution_count": 97,
   "id": "c8b6613f",
   "metadata": {
    "scrolled": true
   },
   "outputs": [],
   "source": [
    "hx_ddf = dd.from_pandas(hx_df, npartitions=1)"
   ]
  },
  {
   "cell_type": "code",
   "execution_count": 133,
   "id": "4345e342",
   "metadata": {},
   "outputs": [
    {
     "data": {
      "text/html": [
       "<div>\n",
       "<style scoped>\n",
       "    .dataframe tbody tr th:only-of-type {\n",
       "        vertical-align: middle;\n",
       "    }\n",
       "\n",
       "    .dataframe tbody tr th {\n",
       "        vertical-align: top;\n",
       "    }\n",
       "\n",
       "    .dataframe thead th {\n",
       "        text-align: right;\n",
       "    }\n",
       "</style>\n",
       "<table border=\"1\" class=\"dataframe\">\n",
       "  <thead>\n",
       "    <tr style=\"text-align: right;\">\n",
       "      <th></th>\n",
       "      <th>worker</th>\n",
       "      <th>status</th>\n",
       "      <th>nbytes</th>\n",
       "      <th>thread</th>\n",
       "      <th>type</th>\n",
       "      <th>typename</th>\n",
       "      <th>metadata</th>\n",
       "      <th>startstops</th>\n",
       "      <th>key</th>\n",
       "    </tr>\n",
       "  </thead>\n",
       "  <tbody>\n",
       "    <tr>\n",
       "      <th>0</th>\n",
       "      <td>tcp://127.0.0.1:58544</td>\n",
       "      <td>OK</td>\n",
       "      <td>27191704</td>\n",
       "      <td>123145529507840</td>\n",
       "      <td>b'\\x80\\x04\\x95!\\x00\\x00\\x00\\x00\\x00\\x00\\x00\\x8c\\x12pandas.core.series\\x94\\x8c\\x06Series\\x94\\x93\\x94.'</td>\n",
       "      <td>pandas.core.series.Series</td>\n",
       "      <td>{}</td>\n",
       "      <td>({'action': 'compute', 'start': 1649539629.0290596, 'stop': 1649539629.2514455},)</td>\n",
       "      <td>('add-42c91fcd244541e3b459e8913af2d07a', 0)</td>\n",
       "    </tr>\n",
       "    <tr>\n",
       "      <th>1</th>\n",
       "      <td>tcp://127.0.0.1:58544</td>\n",
       "      <td>OK</td>\n",
       "      <td>32</td>\n",
       "      <td>123145529507840</td>\n",
       "      <td>b'\\x80\\x04\\x95\\x15\\x00\\x00\\x00\\x00\\x00\\x00\\x00\\x8c\\x05numpy\\x94\\x8c\\x07float64\\x94\\x93\\x94.'</td>\n",
       "      <td>numpy.float64</td>\n",
       "      <td>{}</td>\n",
       "      <td>({'action': 'compute', 'start': 1649539629.256208, 'stop': 1649539629.266967},)</td>\n",
       "      <td>('series-sum-chunk-fbd709dae3d9d13e17866642e9f8e505', 0, 0, 0)</td>\n",
       "    </tr>\n",
       "    <tr>\n",
       "      <th>2</th>\n",
       "      <td>tcp://127.0.0.1:58544</td>\n",
       "      <td>OK</td>\n",
       "      <td>32</td>\n",
       "      <td>123145546297344</td>\n",
       "      <td>b'\\x80\\x04\\x95\\x13\\x00\\x00\\x00\\x00\\x00\\x00\\x00\\x8c\\x05numpy\\x94\\x8c\\x05int64\\x94\\x93\\x94.'</td>\n",
       "      <td>numpy.int64</td>\n",
       "      <td>{}</td>\n",
       "      <td>({'action': 'compute', 'start': 1649539629.2559612, 'stop': 1649539629.268448},)</td>\n",
       "      <td>('series-count-chunk-33f4ebe1295ecdc32b8301290d7befce', 0, 0, 0)</td>\n",
       "    </tr>\n",
       "    <tr>\n",
       "      <th>3</th>\n",
       "      <td>tcp://127.0.0.1:58545</td>\n",
       "      <td>OK</td>\n",
       "      <td>30486864</td>\n",
       "      <td>123145657192448</td>\n",
       "      <td>b'\\x80\\x04\\x95!\\x00\\x00\\x00\\x00\\x00\\x00\\x00\\x8c\\x12pandas.core.series\\x94\\x8c\\x06Series\\x94\\x93\\x94.'</td>\n",
       "      <td>pandas.core.series.Series</td>\n",
       "      <td>{}</td>\n",
       "      <td>({'action': 'compute', 'start': 1649539629.02956, 'stop': 1649539629.2818692},)</td>\n",
       "      <td>('add-42c91fcd244541e3b459e8913af2d07a', 1)</td>\n",
       "    </tr>\n",
       "    <tr>\n",
       "      <th>4</th>\n",
       "      <td>tcp://127.0.0.1:58545</td>\n",
       "      <td>OK</td>\n",
       "      <td>32</td>\n",
       "      <td>123145657192448</td>\n",
       "      <td>b'\\x80\\x04\\x95\\x15\\x00\\x00\\x00\\x00\\x00\\x00\\x00\\x8c\\x05numpy\\x94\\x8c\\x07float64\\x94\\x93\\x94.'</td>\n",
       "      <td>numpy.float64</td>\n",
       "      <td>{}</td>\n",
       "      <td>({'action': 'compute', 'start': 1649539629.285232, 'stop': 1649539629.2956278},)</td>\n",
       "      <td>('series-sum-chunk-fbd709dae3d9d13e17866642e9f8e505', 0, 1, 0)</td>\n",
       "    </tr>\n",
       "    <tr>\n",
       "      <th>5</th>\n",
       "      <td>tcp://127.0.0.1:58545</td>\n",
       "      <td>OK</td>\n",
       "      <td>32</td>\n",
       "      <td>123145640402944</td>\n",
       "      <td>b'\\x80\\x04\\x95\\x13\\x00\\x00\\x00\\x00\\x00\\x00\\x00\\x8c\\x05numpy\\x94\\x8c\\x05int64\\x94\\x93\\x94.'</td>\n",
       "      <td>numpy.int64</td>\n",
       "      <td>{}</td>\n",
       "      <td>({'action': 'compute', 'start': 1649539629.2851522, 'stop': 1649539629.3018951},)</td>\n",
       "      <td>('series-count-chunk-33f4ebe1295ecdc32b8301290d7befce', 0, 1, 0)</td>\n",
       "    </tr>\n",
       "    <tr>\n",
       "      <th>6</th>\n",
       "      <td>tcp://127.0.0.1:58542</td>\n",
       "      <td>OK</td>\n",
       "      <td>27417264</td>\n",
       "      <td>123145619705856</td>\n",
       "      <td>b'\\x80\\x04\\x95!\\x00\\x00\\x00\\x00\\x00\\x00\\x00\\x8c\\x12pandas.core.series\\x94\\x8c\\x06Series\\x94\\x93\\x94.'</td>\n",
       "      <td>pandas.core.series.Series</td>\n",
       "      <td>{}</td>\n",
       "      <td>({'action': 'compute', 'start': 1649539629.0302684, 'stop': 1649539629.3189504},)</td>\n",
       "      <td>('add-42c91fcd244541e3b459e8913af2d07a', 2)</td>\n",
       "    </tr>\n",
       "    <tr>\n",
       "      <th>7</th>\n",
       "      <td>tcp://127.0.0.1:58542</td>\n",
       "      <td>OK</td>\n",
       "      <td>32</td>\n",
       "      <td>123145619705856</td>\n",
       "      <td>b'\\x80\\x04\\x95\\x15\\x00\\x00\\x00\\x00\\x00\\x00\\x00\\x8c\\x05numpy\\x94\\x8c\\x07float64\\x94\\x93\\x94.'</td>\n",
       "      <td>numpy.float64</td>\n",
       "      <td>{}</td>\n",
       "      <td>({'action': 'compute', 'start': 1649539629.3196013, 'stop': 1649539629.3293502},)</td>\n",
       "      <td>('series-sum-chunk-fbd709dae3d9d13e17866642e9f8e505', 0, 2, 0)</td>\n",
       "    </tr>\n",
       "    <tr>\n",
       "      <th>8</th>\n",
       "      <td>tcp://127.0.0.1:58542</td>\n",
       "      <td>OK</td>\n",
       "      <td>32</td>\n",
       "      <td>123145602916352</td>\n",
       "      <td>b'\\x80\\x04\\x95\\x13\\x00\\x00\\x00\\x00\\x00\\x00\\x00\\x8c\\x05numpy\\x94\\x8c\\x05int64\\x94\\x93\\x94.'</td>\n",
       "      <td>numpy.int64</td>\n",
       "      <td>{}</td>\n",
       "      <td>({'action': 'compute', 'start': 1649539629.3195152, 'stop': 1649539629.335808},)</td>\n",
       "      <td>('series-count-chunk-33f4ebe1295ecdc32b8301290d7befce', 0, 2, 0)</td>\n",
       "    </tr>\n",
       "    <tr>\n",
       "      <th>9</th>\n",
       "      <td>tcp://127.0.0.1:58543</td>\n",
       "      <td>OK</td>\n",
       "      <td>30016288</td>\n",
       "      <td>123145528463360</td>\n",
       "      <td>b'\\x80\\x04\\x95!\\x00\\x00\\x00\\x00\\x00\\x00\\x00\\x8c\\x12pandas.core.series\\x94\\x8c\\x06Series\\x94\\x93\\x94.'</td>\n",
       "      <td>pandas.core.series.Series</td>\n",
       "      <td>{}</td>\n",
       "      <td>({'action': 'compute', 'start': 1649539629.0295646, 'stop': 1649539629.3822947},)</td>\n",
       "      <td>('add-42c91fcd244541e3b459e8913af2d07a', 3)</td>\n",
       "    </tr>\n",
       "    <tr>\n",
       "      <th>10</th>\n",
       "      <td>tcp://127.0.0.1:58543</td>\n",
       "      <td>OK</td>\n",
       "      <td>32</td>\n",
       "      <td>123145528463360</td>\n",
       "      <td>b'\\x80\\x04\\x95\\x15\\x00\\x00\\x00\\x00\\x00\\x00\\x00\\x8c\\x05numpy\\x94\\x8c\\x07float64\\x94\\x93\\x94.'</td>\n",
       "      <td>numpy.float64</td>\n",
       "      <td>{}</td>\n",
       "      <td>({'action': 'compute', 'start': 1649539629.3863683, 'stop': 1649539629.3966413},)</td>\n",
       "      <td>('series-sum-chunk-fbd709dae3d9d13e17866642e9f8e505', 0, 3, 0)</td>\n",
       "    </tr>\n",
       "    <tr>\n",
       "      <th>11</th>\n",
       "      <td>tcp://127.0.0.1:58543</td>\n",
       "      <td>OK</td>\n",
       "      <td>32</td>\n",
       "      <td>123145511673856</td>\n",
       "      <td>b'\\x80\\x04\\x95\\x13\\x00\\x00\\x00\\x00\\x00\\x00\\x00\\x8c\\x05numpy\\x94\\x8c\\x05int64\\x94\\x93\\x94.'</td>\n",
       "      <td>numpy.int64</td>\n",
       "      <td>{}</td>\n",
       "      <td>({'action': 'compute', 'start': 1649539629.386213, 'stop': 1649539629.4008222},)</td>\n",
       "      <td>('series-count-chunk-33f4ebe1295ecdc32b8301290d7befce', 0, 3, 0)</td>\n",
       "    </tr>\n",
       "    <tr>\n",
       "      <th>12</th>\n",
       "      <td>tcp://127.0.0.1:58545</td>\n",
       "      <td>OK</td>\n",
       "      <td>32</td>\n",
       "      <td>123145657192448</td>\n",
       "      <td>b'\\x80\\x04\\x95\\x15\\x00\\x00\\x00\\x00\\x00\\x00\\x00\\x8c\\x05numpy\\x94\\x8c\\x07float64\\x94\\x93\\x94.'</td>\n",
       "      <td>numpy.float64</td>\n",
       "      <td>{}</td>\n",
       "      <td>({'action': 'transfer', 'start': 1649539629.400626, 'stop': 1649539629.4018872, 'source': 'tcp://127.0.0.1:58542'}, {'action': 'transfer', 'start': 1649539629.400389, 'stop': 1649539629.4024549, 'source': 'tcp://127.0.0.1:58544'}, {'action': 'transfer', 'start': 1649539629.400895, 'stop': 1649539629.403085, 'source': 'tcp://127.0.0.1:58543'}, {'action': 'compute', 'start': 1649539629.403762, 'stop': 1649539629.404498})</td>\n",
       "      <td>('series-sum-agg-fbd709dae3d9d13e17866642e9f8e505', 0)</td>\n",
       "    </tr>\n",
       "    <tr>\n",
       "      <th>13</th>\n",
       "      <td>tcp://127.0.0.1:58543</td>\n",
       "      <td>OK</td>\n",
       "      <td>32</td>\n",
       "      <td>123145528463360</td>\n",
       "      <td>b'\\x80\\x04\\x95\\x13\\x00\\x00\\x00\\x00\\x00\\x00\\x00\\x8c\\x05numpy\\x94\\x8c\\x05int64\\x94\\x93\\x94.'</td>\n",
       "      <td>numpy.int64</td>\n",
       "      <td>{}</td>\n",
       "      <td>({'action': 'transfer', 'start': 1649539629.4076552, 'stop': 1649539629.4090931, 'source': 'tcp://127.0.0.1:58545'}, {'action': 'transfer', 'start': 1649539629.4079792, 'stop': 1649539629.4093292, 'source': 'tcp://127.0.0.1:58542'}, {'action': 'transfer', 'start': 1649539629.407438, 'stop': 1649539629.4096663, 'source': 'tcp://127.0.0.1:58544'}, {'action': 'compute', 'start': 1649539629.410324, 'stop': 1649539629.4106882})</td>\n",
       "      <td>('series-count-agg-33f4ebe1295ecdc32b8301290d7befce', 0)</td>\n",
       "    </tr>\n",
       "    <tr>\n",
       "      <th>14</th>\n",
       "      <td>tcp://127.0.0.1:58545</td>\n",
       "      <td>OK</td>\n",
       "      <td>32</td>\n",
       "      <td>123145640402944</td>\n",
       "      <td>b'\\x80\\x04\\x95\\x15\\x00\\x00\\x00\\x00\\x00\\x00\\x00\\x8c\\x05numpy\\x94\\x8c\\x07float64\\x94\\x93\\x94.'</td>\n",
       "      <td>numpy.float64</td>\n",
       "      <td>{}</td>\n",
       "      <td>({'action': 'transfer', 'start': 1649539629.415494, 'stop': 1649539629.416524, 'source': 'tcp://127.0.0.1:58543'}, {'action': 'compute', 'start': 1649539629.41687, 'stop': 1649539629.416917})</td>\n",
       "      <td>('series-mean-e59254112349d6beabe24b871bba72e7-492ac1b60baab934d7bfae16c67f5ab8', 0)</td>\n",
       "    </tr>\n",
       "  </tbody>\n",
       "</table>\n",
       "</div>"
      ],
      "text/plain": [
       "                   worker status    nbytes           thread  \\\n",
       "0   tcp://127.0.0.1:58544     OK  27191704  123145529507840   \n",
       "1   tcp://127.0.0.1:58544     OK        32  123145529507840   \n",
       "2   tcp://127.0.0.1:58544     OK        32  123145546297344   \n",
       "3   tcp://127.0.0.1:58545     OK  30486864  123145657192448   \n",
       "4   tcp://127.0.0.1:58545     OK        32  123145657192448   \n",
       "5   tcp://127.0.0.1:58545     OK        32  123145640402944   \n",
       "6   tcp://127.0.0.1:58542     OK  27417264  123145619705856   \n",
       "7   tcp://127.0.0.1:58542     OK        32  123145619705856   \n",
       "8   tcp://127.0.0.1:58542     OK        32  123145602916352   \n",
       "9   tcp://127.0.0.1:58543     OK  30016288  123145528463360   \n",
       "10  tcp://127.0.0.1:58543     OK        32  123145528463360   \n",
       "11  tcp://127.0.0.1:58543     OK        32  123145511673856   \n",
       "12  tcp://127.0.0.1:58545     OK        32  123145657192448   \n",
       "13  tcp://127.0.0.1:58543     OK        32  123145528463360   \n",
       "14  tcp://127.0.0.1:58545     OK        32  123145640402944   \n",
       "\n",
       "                                                                                                     type  \\\n",
       "0   b'\\x80\\x04\\x95!\\x00\\x00\\x00\\x00\\x00\\x00\\x00\\x8c\\x12pandas.core.series\\x94\\x8c\\x06Series\\x94\\x93\\x94.'   \n",
       "1            b'\\x80\\x04\\x95\\x15\\x00\\x00\\x00\\x00\\x00\\x00\\x00\\x8c\\x05numpy\\x94\\x8c\\x07float64\\x94\\x93\\x94.'   \n",
       "2              b'\\x80\\x04\\x95\\x13\\x00\\x00\\x00\\x00\\x00\\x00\\x00\\x8c\\x05numpy\\x94\\x8c\\x05int64\\x94\\x93\\x94.'   \n",
       "3   b'\\x80\\x04\\x95!\\x00\\x00\\x00\\x00\\x00\\x00\\x00\\x8c\\x12pandas.core.series\\x94\\x8c\\x06Series\\x94\\x93\\x94.'   \n",
       "4            b'\\x80\\x04\\x95\\x15\\x00\\x00\\x00\\x00\\x00\\x00\\x00\\x8c\\x05numpy\\x94\\x8c\\x07float64\\x94\\x93\\x94.'   \n",
       "5              b'\\x80\\x04\\x95\\x13\\x00\\x00\\x00\\x00\\x00\\x00\\x00\\x8c\\x05numpy\\x94\\x8c\\x05int64\\x94\\x93\\x94.'   \n",
       "6   b'\\x80\\x04\\x95!\\x00\\x00\\x00\\x00\\x00\\x00\\x00\\x8c\\x12pandas.core.series\\x94\\x8c\\x06Series\\x94\\x93\\x94.'   \n",
       "7            b'\\x80\\x04\\x95\\x15\\x00\\x00\\x00\\x00\\x00\\x00\\x00\\x8c\\x05numpy\\x94\\x8c\\x07float64\\x94\\x93\\x94.'   \n",
       "8              b'\\x80\\x04\\x95\\x13\\x00\\x00\\x00\\x00\\x00\\x00\\x00\\x8c\\x05numpy\\x94\\x8c\\x05int64\\x94\\x93\\x94.'   \n",
       "9   b'\\x80\\x04\\x95!\\x00\\x00\\x00\\x00\\x00\\x00\\x00\\x8c\\x12pandas.core.series\\x94\\x8c\\x06Series\\x94\\x93\\x94.'   \n",
       "10           b'\\x80\\x04\\x95\\x15\\x00\\x00\\x00\\x00\\x00\\x00\\x00\\x8c\\x05numpy\\x94\\x8c\\x07float64\\x94\\x93\\x94.'   \n",
       "11             b'\\x80\\x04\\x95\\x13\\x00\\x00\\x00\\x00\\x00\\x00\\x00\\x8c\\x05numpy\\x94\\x8c\\x05int64\\x94\\x93\\x94.'   \n",
       "12           b'\\x80\\x04\\x95\\x15\\x00\\x00\\x00\\x00\\x00\\x00\\x00\\x8c\\x05numpy\\x94\\x8c\\x07float64\\x94\\x93\\x94.'   \n",
       "13             b'\\x80\\x04\\x95\\x13\\x00\\x00\\x00\\x00\\x00\\x00\\x00\\x8c\\x05numpy\\x94\\x8c\\x05int64\\x94\\x93\\x94.'   \n",
       "14           b'\\x80\\x04\\x95\\x15\\x00\\x00\\x00\\x00\\x00\\x00\\x00\\x8c\\x05numpy\\x94\\x8c\\x07float64\\x94\\x93\\x94.'   \n",
       "\n",
       "                     typename metadata  \\\n",
       "0   pandas.core.series.Series       {}   \n",
       "1               numpy.float64       {}   \n",
       "2                 numpy.int64       {}   \n",
       "3   pandas.core.series.Series       {}   \n",
       "4               numpy.float64       {}   \n",
       "5                 numpy.int64       {}   \n",
       "6   pandas.core.series.Series       {}   \n",
       "7               numpy.float64       {}   \n",
       "8                 numpy.int64       {}   \n",
       "9   pandas.core.series.Series       {}   \n",
       "10              numpy.float64       {}   \n",
       "11                numpy.int64       {}   \n",
       "12              numpy.float64       {}   \n",
       "13                numpy.int64       {}   \n",
       "14              numpy.float64       {}   \n",
       "\n",
       "                                                                                                                                                                                                                                                                                                                                                                                                                                    startstops  \\\n",
       "0                                                                                                                                                                                                                                                                                                                                                            ({'action': 'compute', 'start': 1649539629.0290596, 'stop': 1649539629.2514455},)   \n",
       "1                                                                                                                                                                                                                                                                                                                                                              ({'action': 'compute', 'start': 1649539629.256208, 'stop': 1649539629.266967},)   \n",
       "2                                                                                                                                                                                                                                                                                                                                                             ({'action': 'compute', 'start': 1649539629.2559612, 'stop': 1649539629.268448},)   \n",
       "3                                                                                                                                                                                                                                                                                                                                                              ({'action': 'compute', 'start': 1649539629.02956, 'stop': 1649539629.2818692},)   \n",
       "4                                                                                                                                                                                                                                                                                                                                                             ({'action': 'compute', 'start': 1649539629.285232, 'stop': 1649539629.2956278},)   \n",
       "5                                                                                                                                                                                                                                                                                                                                                            ({'action': 'compute', 'start': 1649539629.2851522, 'stop': 1649539629.3018951},)   \n",
       "6                                                                                                                                                                                                                                                                                                                                                            ({'action': 'compute', 'start': 1649539629.0302684, 'stop': 1649539629.3189504},)   \n",
       "7                                                                                                                                                                                                                                                                                                                                                            ({'action': 'compute', 'start': 1649539629.3196013, 'stop': 1649539629.3293502},)   \n",
       "8                                                                                                                                                                                                                                                                                                                                                             ({'action': 'compute', 'start': 1649539629.3195152, 'stop': 1649539629.335808},)   \n",
       "9                                                                                                                                                                                                                                                                                                                                                            ({'action': 'compute', 'start': 1649539629.0295646, 'stop': 1649539629.3822947},)   \n",
       "10                                                                                                                                                                                                                                                                                                                                                           ({'action': 'compute', 'start': 1649539629.3863683, 'stop': 1649539629.3966413},)   \n",
       "11                                                                                                                                                                                                                                                                                                                                                            ({'action': 'compute', 'start': 1649539629.386213, 'stop': 1649539629.4008222},)   \n",
       "12      ({'action': 'transfer', 'start': 1649539629.400626, 'stop': 1649539629.4018872, 'source': 'tcp://127.0.0.1:58542'}, {'action': 'transfer', 'start': 1649539629.400389, 'stop': 1649539629.4024549, 'source': 'tcp://127.0.0.1:58544'}, {'action': 'transfer', 'start': 1649539629.400895, 'stop': 1649539629.403085, 'source': 'tcp://127.0.0.1:58543'}, {'action': 'compute', 'start': 1649539629.403762, 'stop': 1649539629.404498})   \n",
       "13  ({'action': 'transfer', 'start': 1649539629.4076552, 'stop': 1649539629.4090931, 'source': 'tcp://127.0.0.1:58545'}, {'action': 'transfer', 'start': 1649539629.4079792, 'stop': 1649539629.4093292, 'source': 'tcp://127.0.0.1:58542'}, {'action': 'transfer', 'start': 1649539629.407438, 'stop': 1649539629.4096663, 'source': 'tcp://127.0.0.1:58544'}, {'action': 'compute', 'start': 1649539629.410324, 'stop': 1649539629.4106882})   \n",
       "14                                                                                                                                                                                                                                             ({'action': 'transfer', 'start': 1649539629.415494, 'stop': 1649539629.416524, 'source': 'tcp://127.0.0.1:58543'}, {'action': 'compute', 'start': 1649539629.41687, 'stop': 1649539629.416917})   \n",
       "\n",
       "                                                                                     key  \n",
       "0                                            ('add-42c91fcd244541e3b459e8913af2d07a', 0)  \n",
       "1                         ('series-sum-chunk-fbd709dae3d9d13e17866642e9f8e505', 0, 0, 0)  \n",
       "2                       ('series-count-chunk-33f4ebe1295ecdc32b8301290d7befce', 0, 0, 0)  \n",
       "3                                            ('add-42c91fcd244541e3b459e8913af2d07a', 1)  \n",
       "4                         ('series-sum-chunk-fbd709dae3d9d13e17866642e9f8e505', 0, 1, 0)  \n",
       "5                       ('series-count-chunk-33f4ebe1295ecdc32b8301290d7befce', 0, 1, 0)  \n",
       "6                                            ('add-42c91fcd244541e3b459e8913af2d07a', 2)  \n",
       "7                         ('series-sum-chunk-fbd709dae3d9d13e17866642e9f8e505', 0, 2, 0)  \n",
       "8                       ('series-count-chunk-33f4ebe1295ecdc32b8301290d7befce', 0, 2, 0)  \n",
       "9                                            ('add-42c91fcd244541e3b459e8913af2d07a', 3)  \n",
       "10                        ('series-sum-chunk-fbd709dae3d9d13e17866642e9f8e505', 0, 3, 0)  \n",
       "11                      ('series-count-chunk-33f4ebe1295ecdc32b8301290d7befce', 0, 3, 0)  \n",
       "12                                ('series-sum-agg-fbd709dae3d9d13e17866642e9f8e505', 0)  \n",
       "13                              ('series-count-agg-33f4ebe1295ecdc32b8301290d7befce', 0)  \n",
       "14  ('series-mean-e59254112349d6beabe24b871bba72e7-492ac1b60baab934d7bfae16c67f5ab8', 0)  "
      ]
     },
     "execution_count": 133,
     "metadata": {},
     "output_type": "execute_result"
    }
   ],
   "source": [
    "# the startstops are nested. we need to unnest this for action stuff only. but use nested for all other\n",
    "hx_ddf.head(20)"
   ]
  },
  {
   "cell_type": "code",
   "execution_count": 188,
   "id": "e35e6698",
   "metadata": {},
   "outputs": [],
   "source": [
    "# the startstops are nested. we need to unnest this for action stuff only.\n",
    "exploded_df = hx_ddf.explode(\"startstops\")"
   ]
  },
  {
   "cell_type": "code",
   "execution_count": 226,
   "id": "2c54da19",
   "metadata": {},
   "outputs": [],
   "source": [
    "# AAAAGH THIS TOOK FOREVER TO FIGURE OUT O_O\n",
    "exploded_df['action'] = exploded_df['startstops'].apply(lambda x: x['action'], meta = (\"action\", str))\n",
    "exploded_df['start'] = exploded_df['startstops'].apply(lambda x: x['start'], meta = (\"start\", np.float64))\n",
    "exploded_df['end'] = exploded_df['startstops'].apply(lambda x: x['stop'], meta = (\"stop\", np.float64))\n",
    "exploded_df['action_duration'] = exploded_df['end'] - exploded_df['start']"
   ]
  },
  {
   "cell_type": "code",
   "execution_count": null,
   "id": "160ebd44",
   "metadata": {},
   "outputs": [],
   "source": []
  },
  {
   "cell_type": "code",
   "execution_count": null,
   "id": "0faf79c8",
   "metadata": {},
   "outputs": [],
   "source": []
  },
  {
   "cell_type": "code",
   "execution_count": 227,
   "id": "8ceb8a50",
   "metadata": {},
   "outputs": [
    {
     "data": {
      "text/html": [
       "<div>\n",
       "<style scoped>\n",
       "    .dataframe tbody tr th:only-of-type {\n",
       "        vertical-align: middle;\n",
       "    }\n",
       "\n",
       "    .dataframe tbody tr th {\n",
       "        vertical-align: top;\n",
       "    }\n",
       "\n",
       "    .dataframe thead th {\n",
       "        text-align: right;\n",
       "    }\n",
       "</style>\n",
       "<table border=\"1\" class=\"dataframe\">\n",
       "  <thead>\n",
       "    <tr style=\"text-align: right;\">\n",
       "      <th></th>\n",
       "      <th>worker</th>\n",
       "      <th>status</th>\n",
       "      <th>nbytes</th>\n",
       "      <th>thread</th>\n",
       "      <th>type</th>\n",
       "      <th>typename</th>\n",
       "      <th>metadata</th>\n",
       "      <th>startstops</th>\n",
       "      <th>key</th>\n",
       "      <th>action</th>\n",
       "      <th>start</th>\n",
       "      <th>end</th>\n",
       "      <th>action_duration</th>\n",
       "    </tr>\n",
       "  </thead>\n",
       "  <tbody>\n",
       "    <tr>\n",
       "      <th>0</th>\n",
       "      <td>tcp://127.0.0.1:58544</td>\n",
       "      <td>OK</td>\n",
       "      <td>27191704</td>\n",
       "      <td>123145529507840</td>\n",
       "      <td>b'\\x80\\x04\\x95!\\x00\\x00\\x00\\x00\\x00\\x00\\x00\\x8c\\x12pandas.core.series\\x94\\x8c\\x06Series\\x94\\x93\\x94.'</td>\n",
       "      <td>pandas.core.series.Series</td>\n",
       "      <td>{}</td>\n",
       "      <td>{'action': 'compute', 'start': 1649539629.0290596, 'stop': 1649539629.2514455}</td>\n",
       "      <td>('add-42c91fcd244541e3b459e8913af2d07a', 0)</td>\n",
       "      <td>compute</td>\n",
       "      <td>1.649540e+09</td>\n",
       "      <td>1.649540e+09</td>\n",
       "      <td>0.222386</td>\n",
       "    </tr>\n",
       "    <tr>\n",
       "      <th>1</th>\n",
       "      <td>tcp://127.0.0.1:58544</td>\n",
       "      <td>OK</td>\n",
       "      <td>32</td>\n",
       "      <td>123145529507840</td>\n",
       "      <td>b'\\x80\\x04\\x95\\x15\\x00\\x00\\x00\\x00\\x00\\x00\\x00\\x8c\\x05numpy\\x94\\x8c\\x07float64\\x94\\x93\\x94.'</td>\n",
       "      <td>numpy.float64</td>\n",
       "      <td>{}</td>\n",
       "      <td>{'action': 'compute', 'start': 1649539629.256208, 'stop': 1649539629.266967}</td>\n",
       "      <td>('series-sum-chunk-fbd709dae3d9d13e17866642e9f8e505', 0, 0, 0)</td>\n",
       "      <td>compute</td>\n",
       "      <td>1.649540e+09</td>\n",
       "      <td>1.649540e+09</td>\n",
       "      <td>0.010759</td>\n",
       "    </tr>\n",
       "    <tr>\n",
       "      <th>2</th>\n",
       "      <td>tcp://127.0.0.1:58544</td>\n",
       "      <td>OK</td>\n",
       "      <td>32</td>\n",
       "      <td>123145546297344</td>\n",
       "      <td>b'\\x80\\x04\\x95\\x13\\x00\\x00\\x00\\x00\\x00\\x00\\x00\\x8c\\x05numpy\\x94\\x8c\\x05int64\\x94\\x93\\x94.'</td>\n",
       "      <td>numpy.int64</td>\n",
       "      <td>{}</td>\n",
       "      <td>{'action': 'compute', 'start': 1649539629.2559612, 'stop': 1649539629.268448}</td>\n",
       "      <td>('series-count-chunk-33f4ebe1295ecdc32b8301290d7befce', 0, 0, 0)</td>\n",
       "      <td>compute</td>\n",
       "      <td>1.649540e+09</td>\n",
       "      <td>1.649540e+09</td>\n",
       "      <td>0.012487</td>\n",
       "    </tr>\n",
       "    <tr>\n",
       "      <th>3</th>\n",
       "      <td>tcp://127.0.0.1:58545</td>\n",
       "      <td>OK</td>\n",
       "      <td>30486864</td>\n",
       "      <td>123145657192448</td>\n",
       "      <td>b'\\x80\\x04\\x95!\\x00\\x00\\x00\\x00\\x00\\x00\\x00\\x8c\\x12pandas.core.series\\x94\\x8c\\x06Series\\x94\\x93\\x94.'</td>\n",
       "      <td>pandas.core.series.Series</td>\n",
       "      <td>{}</td>\n",
       "      <td>{'action': 'compute', 'start': 1649539629.02956, 'stop': 1649539629.2818692}</td>\n",
       "      <td>('add-42c91fcd244541e3b459e8913af2d07a', 1)</td>\n",
       "      <td>compute</td>\n",
       "      <td>1.649540e+09</td>\n",
       "      <td>1.649540e+09</td>\n",
       "      <td>0.252309</td>\n",
       "    </tr>\n",
       "    <tr>\n",
       "      <th>4</th>\n",
       "      <td>tcp://127.0.0.1:58545</td>\n",
       "      <td>OK</td>\n",
       "      <td>32</td>\n",
       "      <td>123145657192448</td>\n",
       "      <td>b'\\x80\\x04\\x95\\x15\\x00\\x00\\x00\\x00\\x00\\x00\\x00\\x8c\\x05numpy\\x94\\x8c\\x07float64\\x94\\x93\\x94.'</td>\n",
       "      <td>numpy.float64</td>\n",
       "      <td>{}</td>\n",
       "      <td>{'action': 'compute', 'start': 1649539629.285232, 'stop': 1649539629.2956278}</td>\n",
       "      <td>('series-sum-chunk-fbd709dae3d9d13e17866642e9f8e505', 0, 1, 0)</td>\n",
       "      <td>compute</td>\n",
       "      <td>1.649540e+09</td>\n",
       "      <td>1.649540e+09</td>\n",
       "      <td>0.010396</td>\n",
       "    </tr>\n",
       "  </tbody>\n",
       "</table>\n",
       "</div>"
      ],
      "text/plain": [
       "                  worker status    nbytes           thread  \\\n",
       "0  tcp://127.0.0.1:58544     OK  27191704  123145529507840   \n",
       "1  tcp://127.0.0.1:58544     OK        32  123145529507840   \n",
       "2  tcp://127.0.0.1:58544     OK        32  123145546297344   \n",
       "3  tcp://127.0.0.1:58545     OK  30486864  123145657192448   \n",
       "4  tcp://127.0.0.1:58545     OK        32  123145657192448   \n",
       "\n",
       "                                                                                                    type  \\\n",
       "0  b'\\x80\\x04\\x95!\\x00\\x00\\x00\\x00\\x00\\x00\\x00\\x8c\\x12pandas.core.series\\x94\\x8c\\x06Series\\x94\\x93\\x94.'   \n",
       "1           b'\\x80\\x04\\x95\\x15\\x00\\x00\\x00\\x00\\x00\\x00\\x00\\x8c\\x05numpy\\x94\\x8c\\x07float64\\x94\\x93\\x94.'   \n",
       "2             b'\\x80\\x04\\x95\\x13\\x00\\x00\\x00\\x00\\x00\\x00\\x00\\x8c\\x05numpy\\x94\\x8c\\x05int64\\x94\\x93\\x94.'   \n",
       "3  b'\\x80\\x04\\x95!\\x00\\x00\\x00\\x00\\x00\\x00\\x00\\x8c\\x12pandas.core.series\\x94\\x8c\\x06Series\\x94\\x93\\x94.'   \n",
       "4           b'\\x80\\x04\\x95\\x15\\x00\\x00\\x00\\x00\\x00\\x00\\x00\\x8c\\x05numpy\\x94\\x8c\\x07float64\\x94\\x93\\x94.'   \n",
       "\n",
       "                    typename metadata  \\\n",
       "0  pandas.core.series.Series       {}   \n",
       "1              numpy.float64       {}   \n",
       "2                numpy.int64       {}   \n",
       "3  pandas.core.series.Series       {}   \n",
       "4              numpy.float64       {}   \n",
       "\n",
       "                                                                       startstops  \\\n",
       "0  {'action': 'compute', 'start': 1649539629.0290596, 'stop': 1649539629.2514455}   \n",
       "1    {'action': 'compute', 'start': 1649539629.256208, 'stop': 1649539629.266967}   \n",
       "2   {'action': 'compute', 'start': 1649539629.2559612, 'stop': 1649539629.268448}   \n",
       "3    {'action': 'compute', 'start': 1649539629.02956, 'stop': 1649539629.2818692}   \n",
       "4   {'action': 'compute', 'start': 1649539629.285232, 'stop': 1649539629.2956278}   \n",
       "\n",
       "                                                                key   action  \\\n",
       "0                       ('add-42c91fcd244541e3b459e8913af2d07a', 0)  compute   \n",
       "1    ('series-sum-chunk-fbd709dae3d9d13e17866642e9f8e505', 0, 0, 0)  compute   \n",
       "2  ('series-count-chunk-33f4ebe1295ecdc32b8301290d7befce', 0, 0, 0)  compute   \n",
       "3                       ('add-42c91fcd244541e3b459e8913af2d07a', 1)  compute   \n",
       "4    ('series-sum-chunk-fbd709dae3d9d13e17866642e9f8e505', 0, 1, 0)  compute   \n",
       "\n",
       "          start           end  action_duration  \n",
       "0  1.649540e+09  1.649540e+09         0.222386  \n",
       "1  1.649540e+09  1.649540e+09         0.010759  \n",
       "2  1.649540e+09  1.649540e+09         0.012487  \n",
       "3  1.649540e+09  1.649540e+09         0.252309  \n",
       "4  1.649540e+09  1.649540e+09         0.010396  "
      ]
     },
     "execution_count": 227,
     "metadata": {},
     "output_type": "execute_result"
    }
   ],
   "source": [
    "exploded_df.head()"
   ]
  },
  {
   "cell_type": "code",
   "execution_count": 225,
   "id": "c53d925c",
   "metadata": {},
   "outputs": [
    {
     "data": {
      "text/plain": [
       "0.01039576530456543"
      ]
     },
     "execution_count": 225,
     "metadata": {},
     "output_type": "execute_result"
    }
   ],
   "source": []
  },
  {
   "cell_type": "code",
   "execution_count": null,
   "id": "c75784f5",
   "metadata": {},
   "outputs": [],
   "source": []
  },
  {
   "cell_type": "code",
   "execution_count": null,
   "id": "f5f0c26a",
   "metadata": {},
   "outputs": [],
   "source": []
  },
  {
   "cell_type": "code",
   "execution_count": null,
   "id": "d90e4821",
   "metadata": {},
   "outputs": [],
   "source": []
  },
  {
   "cell_type": "code",
   "execution_count": null,
   "id": "4d3bb178",
   "metadata": {},
   "outputs": [],
   "source": []
  },
  {
   "cell_type": "code",
   "execution_count": null,
   "id": "3886bdb7",
   "metadata": {},
   "outputs": [],
   "source": []
  },
  {
   "cell_type": "code",
   "execution_count": null,
   "id": "4a8d6c41",
   "metadata": {},
   "outputs": [],
   "source": []
  },
  {
   "cell_type": "code",
   "execution_count": null,
   "id": "baccd449",
   "metadata": {},
   "outputs": [],
   "source": []
  },
  {
   "cell_type": "code",
   "execution_count": 200,
   "id": "54d8bd71",
   "metadata": {},
   "outputs": [
    {
     "data": {
      "text/html": [
       "<div>\n",
       "<style scoped>\n",
       "    .dataframe tbody tr th:only-of-type {\n",
       "        vertical-align: middle;\n",
       "    }\n",
       "\n",
       "    .dataframe tbody tr th {\n",
       "        vertical-align: top;\n",
       "    }\n",
       "\n",
       "    .dataframe thead th {\n",
       "        text-align: right;\n",
       "    }\n",
       "</style>\n",
       "<table border=\"1\" class=\"dataframe\">\n",
       "  <thead>\n",
       "    <tr style=\"text-align: right;\">\n",
       "      <th></th>\n",
       "      <th>worker</th>\n",
       "      <th>status</th>\n",
       "      <th>nbytes</th>\n",
       "      <th>thread</th>\n",
       "      <th>type</th>\n",
       "      <th>typename</th>\n",
       "      <th>metadata</th>\n",
       "      <th>startstops</th>\n",
       "      <th>key</th>\n",
       "      <th>action</th>\n",
       "    </tr>\n",
       "  </thead>\n",
       "  <tbody>\n",
       "    <tr>\n",
       "      <th>0</th>\n",
       "      <td>tcp://127.0.0.1:58544</td>\n",
       "      <td>OK</td>\n",
       "      <td>27191704</td>\n",
       "      <td>123145529507840</td>\n",
       "      <td>b'\\x80\\x04\\x95!\\x00\\x00\\x00\\x00\\x00\\x00\\x00\\x8c\\x12pandas.core.series\\x94\\x8c\\x06Series\\x94\\x93\\x94.'</td>\n",
       "      <td>pandas.core.series.Series</td>\n",
       "      <td>{}</td>\n",
       "      <td>{'action': 'compute', 'start': 1649539629.0290596, 'stop': 1649539629.2514455}</td>\n",
       "      <td>('add-42c91fcd244541e3b459e8913af2d07a', 0)</td>\n",
       "      <td>{'action': 'compute', 'start': 1649539629.0290596, 'stop': 1649539629.2514455}</td>\n",
       "    </tr>\n",
       "    <tr>\n",
       "      <th>1</th>\n",
       "      <td>tcp://127.0.0.1:58544</td>\n",
       "      <td>OK</td>\n",
       "      <td>32</td>\n",
       "      <td>123145529507840</td>\n",
       "      <td>b'\\x80\\x04\\x95\\x15\\x00\\x00\\x00\\x00\\x00\\x00\\x00\\x8c\\x05numpy\\x94\\x8c\\x07float64\\x94\\x93\\x94.'</td>\n",
       "      <td>numpy.float64</td>\n",
       "      <td>{}</td>\n",
       "      <td>{'action': 'compute', 'start': 1649539629.256208, 'stop': 1649539629.266967}</td>\n",
       "      <td>('series-sum-chunk-fbd709dae3d9d13e17866642e9f8e505', 0, 0, 0)</td>\n",
       "      <td>{'action': 'compute', 'start': 1649539629.256208, 'stop': 1649539629.266967}</td>\n",
       "    </tr>\n",
       "    <tr>\n",
       "      <th>2</th>\n",
       "      <td>tcp://127.0.0.1:58544</td>\n",
       "      <td>OK</td>\n",
       "      <td>32</td>\n",
       "      <td>123145546297344</td>\n",
       "      <td>b'\\x80\\x04\\x95\\x13\\x00\\x00\\x00\\x00\\x00\\x00\\x00\\x8c\\x05numpy\\x94\\x8c\\x05int64\\x94\\x93\\x94.'</td>\n",
       "      <td>numpy.int64</td>\n",
       "      <td>{}</td>\n",
       "      <td>{'action': 'compute', 'start': 1649539629.2559612, 'stop': 1649539629.268448}</td>\n",
       "      <td>('series-count-chunk-33f4ebe1295ecdc32b8301290d7befce', 0, 0, 0)</td>\n",
       "      <td>{'action': 'compute', 'start': 1649539629.2559612, 'stop': 1649539629.268448}</td>\n",
       "    </tr>\n",
       "    <tr>\n",
       "      <th>3</th>\n",
       "      <td>tcp://127.0.0.1:58545</td>\n",
       "      <td>OK</td>\n",
       "      <td>30486864</td>\n",
       "      <td>123145657192448</td>\n",
       "      <td>b'\\x80\\x04\\x95!\\x00\\x00\\x00\\x00\\x00\\x00\\x00\\x8c\\x12pandas.core.series\\x94\\x8c\\x06Series\\x94\\x93\\x94.'</td>\n",
       "      <td>pandas.core.series.Series</td>\n",
       "      <td>{}</td>\n",
       "      <td>{'action': 'compute', 'start': 1649539629.02956, 'stop': 1649539629.2818692}</td>\n",
       "      <td>('add-42c91fcd244541e3b459e8913af2d07a', 1)</td>\n",
       "      <td>{'action': 'compute', 'start': 1649539629.02956, 'stop': 1649539629.2818692}</td>\n",
       "    </tr>\n",
       "    <tr>\n",
       "      <th>4</th>\n",
       "      <td>tcp://127.0.0.1:58545</td>\n",
       "      <td>OK</td>\n",
       "      <td>32</td>\n",
       "      <td>123145657192448</td>\n",
       "      <td>b'\\x80\\x04\\x95\\x15\\x00\\x00\\x00\\x00\\x00\\x00\\x00\\x8c\\x05numpy\\x94\\x8c\\x07float64\\x94\\x93\\x94.'</td>\n",
       "      <td>numpy.float64</td>\n",
       "      <td>{}</td>\n",
       "      <td>{'action': 'compute', 'start': 1649539629.285232, 'stop': 1649539629.2956278}</td>\n",
       "      <td>('series-sum-chunk-fbd709dae3d9d13e17866642e9f8e505', 0, 1, 0)</td>\n",
       "      <td>{'action': 'compute', 'start': 1649539629.285232, 'stop': 1649539629.2956278}</td>\n",
       "    </tr>\n",
       "  </tbody>\n",
       "</table>\n",
       "</div>"
      ],
      "text/plain": [
       "                  worker status    nbytes           thread  \\\n",
       "0  tcp://127.0.0.1:58544     OK  27191704  123145529507840   \n",
       "1  tcp://127.0.0.1:58544     OK        32  123145529507840   \n",
       "2  tcp://127.0.0.1:58544     OK        32  123145546297344   \n",
       "3  tcp://127.0.0.1:58545     OK  30486864  123145657192448   \n",
       "4  tcp://127.0.0.1:58545     OK        32  123145657192448   \n",
       "\n",
       "                                                                                                    type  \\\n",
       "0  b'\\x80\\x04\\x95!\\x00\\x00\\x00\\x00\\x00\\x00\\x00\\x8c\\x12pandas.core.series\\x94\\x8c\\x06Series\\x94\\x93\\x94.'   \n",
       "1           b'\\x80\\x04\\x95\\x15\\x00\\x00\\x00\\x00\\x00\\x00\\x00\\x8c\\x05numpy\\x94\\x8c\\x07float64\\x94\\x93\\x94.'   \n",
       "2             b'\\x80\\x04\\x95\\x13\\x00\\x00\\x00\\x00\\x00\\x00\\x00\\x8c\\x05numpy\\x94\\x8c\\x05int64\\x94\\x93\\x94.'   \n",
       "3  b'\\x80\\x04\\x95!\\x00\\x00\\x00\\x00\\x00\\x00\\x00\\x8c\\x12pandas.core.series\\x94\\x8c\\x06Series\\x94\\x93\\x94.'   \n",
       "4           b'\\x80\\x04\\x95\\x15\\x00\\x00\\x00\\x00\\x00\\x00\\x00\\x8c\\x05numpy\\x94\\x8c\\x07float64\\x94\\x93\\x94.'   \n",
       "\n",
       "                    typename metadata  \\\n",
       "0  pandas.core.series.Series       {}   \n",
       "1              numpy.float64       {}   \n",
       "2                numpy.int64       {}   \n",
       "3  pandas.core.series.Series       {}   \n",
       "4              numpy.float64       {}   \n",
       "\n",
       "                                                                       startstops  \\\n",
       "0  {'action': 'compute', 'start': 1649539629.0290596, 'stop': 1649539629.2514455}   \n",
       "1    {'action': 'compute', 'start': 1649539629.256208, 'stop': 1649539629.266967}   \n",
       "2   {'action': 'compute', 'start': 1649539629.2559612, 'stop': 1649539629.268448}   \n",
       "3    {'action': 'compute', 'start': 1649539629.02956, 'stop': 1649539629.2818692}   \n",
       "4   {'action': 'compute', 'start': 1649539629.285232, 'stop': 1649539629.2956278}   \n",
       "\n",
       "                                                                key  \\\n",
       "0                       ('add-42c91fcd244541e3b459e8913af2d07a', 0)   \n",
       "1    ('series-sum-chunk-fbd709dae3d9d13e17866642e9f8e505', 0, 0, 0)   \n",
       "2  ('series-count-chunk-33f4ebe1295ecdc32b8301290d7befce', 0, 0, 0)   \n",
       "3                       ('add-42c91fcd244541e3b459e8913af2d07a', 1)   \n",
       "4    ('series-sum-chunk-fbd709dae3d9d13e17866642e9f8e505', 0, 1, 0)   \n",
       "\n",
       "                                                                           action  \n",
       "0  {'action': 'compute', 'start': 1649539629.0290596, 'stop': 1649539629.2514455}  \n",
       "1    {'action': 'compute', 'start': 1649539629.256208, 'stop': 1649539629.266967}  \n",
       "2   {'action': 'compute', 'start': 1649539629.2559612, 'stop': 1649539629.268448}  \n",
       "3    {'action': 'compute', 'start': 1649539629.02956, 'stop': 1649539629.2818692}  \n",
       "4   {'action': 'compute', 'start': 1649539629.285232, 'stop': 1649539629.2956278}  "
      ]
     },
     "execution_count": 200,
     "metadata": {},
     "output_type": "execute_result"
    }
   ],
   "source": [
    "exploded_df.head()"
   ]
  },
  {
   "cell_type": "code",
   "execution_count": null,
   "id": "dd8b1443",
   "metadata": {},
   "outputs": [],
   "source": []
  },
  {
   "cell_type": "code",
   "execution_count": 163,
   "id": "303f1bd1",
   "metadata": {},
   "outputs": [],
   "source": []
  },
  {
   "cell_type": "code",
   "execution_count": 162,
   "id": "585ca0d7",
   "metadata": {},
   "outputs": [],
   "source": []
  },
  {
   "cell_type": "code",
   "execution_count": null,
   "id": "7925e019",
   "metadata": {},
   "outputs": [],
   "source": []
  },
  {
   "cell_type": "code",
   "execution_count": null,
   "id": "ebd7cda0",
   "metadata": {
    "scrolled": true
   },
   "outputs": [],
   "source": []
  },
  {
   "cell_type": "code",
   "execution_count": null,
   "id": "a495ff0d",
   "metadata": {},
   "outputs": [],
   "source": []
  },
  {
   "cell_type": "code",
   "execution_count": null,
   "id": "c8a2b489",
   "metadata": {},
   "outputs": [],
   "source": []
  },
  {
   "cell_type": "code",
   "execution_count": null,
   "id": "666cc2c6",
   "metadata": {},
   "outputs": [],
   "source": []
  },
  {
   "cell_type": "code",
   "execution_count": null,
   "id": "ebc59d1e",
   "metadata": {},
   "outputs": [],
   "source": []
  },
  {
   "cell_type": "code",
   "execution_count": null,
   "id": "92040b0b",
   "metadata": {},
   "outputs": [],
   "source": []
  },
  {
   "cell_type": "code",
   "execution_count": null,
   "id": "7723042e",
   "metadata": {},
   "outputs": [],
   "source": []
  },
  {
   "cell_type": "code",
   "execution_count": null,
   "id": "7230dc4c",
   "metadata": {},
   "outputs": [],
   "source": []
  },
  {
   "cell_type": "code",
   "execution_count": null,
   "id": "0bc90f5a",
   "metadata": {},
   "outputs": [],
   "source": []
  },
  {
   "cell_type": "code",
   "execution_count": null,
   "id": "09f1a91a",
   "metadata": {},
   "outputs": [],
   "source": []
  },
  {
   "cell_type": "code",
   "execution_count": null,
   "id": "2b7df817",
   "metadata": {},
   "outputs": [],
   "source": []
  },
  {
   "cell_type": "code",
   "execution_count": null,
   "id": "e06869cc",
   "metadata": {},
   "outputs": [],
   "source": []
  },
  {
   "cell_type": "code",
   "execution_count": null,
   "id": "1952d6a4",
   "metadata": {},
   "outputs": [],
   "source": []
  },
  {
   "cell_type": "code",
   "execution_count": null,
   "id": "0a39de14",
   "metadata": {},
   "outputs": [],
   "source": []
  },
  {
   "cell_type": "code",
   "execution_count": null,
   "id": "aab86084",
   "metadata": {},
   "outputs": [],
   "source": []
  },
  {
   "cell_type": "code",
   "execution_count": null,
   "id": "798eb7ad",
   "metadata": {},
   "outputs": [],
   "source": []
  },
  {
   "cell_type": "code",
   "execution_count": null,
   "id": "5821cc2a",
   "metadata": {},
   "outputs": [],
   "source": []
  },
  {
   "cell_type": "code",
   "execution_count": null,
   "id": "c00dcb0d",
   "metadata": {},
   "outputs": [],
   "source": []
  },
  {
   "cell_type": "code",
   "execution_count": null,
   "id": "bea30203",
   "metadata": {},
   "outputs": [],
   "source": []
  },
  {
   "cell_type": "code",
   "execution_count": null,
   "id": "8b7c6387",
   "metadata": {},
   "outputs": [],
   "source": []
  },
  {
   "cell_type": "code",
   "execution_count": null,
   "id": "9e82a535",
   "metadata": {},
   "outputs": [],
   "source": []
  },
  {
   "cell_type": "code",
   "execution_count": null,
   "id": "f01d87f9",
   "metadata": {},
   "outputs": [],
   "source": []
  },
  {
   "cell_type": "code",
   "execution_count": null,
   "id": "b523ed28",
   "metadata": {},
   "outputs": [],
   "source": []
  },
  {
   "cell_type": "code",
   "execution_count": null,
   "id": "8931ccc1",
   "metadata": {},
   "outputs": [],
   "source": []
  },
  {
   "cell_type": "code",
   "execution_count": null,
   "id": "ea7eb596",
   "metadata": {},
   "outputs": [],
   "source": []
  },
  {
   "cell_type": "code",
   "execution_count": null,
   "id": "e3215399",
   "metadata": {},
   "outputs": [],
   "source": []
  },
  {
   "cell_type": "code",
   "execution_count": null,
   "id": "994f4f2d",
   "metadata": {},
   "outputs": [],
   "source": []
  },
  {
   "cell_type": "code",
   "execution_count": 130,
   "id": "09f35f2a",
   "metadata": {},
   "outputs": [],
   "source": []
  },
  {
   "cell_type": "code",
   "execution_count": null,
   "id": "80fe2322",
   "metadata": {},
   "outputs": [],
   "source": []
  },
  {
   "cell_type": "code",
   "execution_count": 113,
   "id": "9b3e8ca9",
   "metadata": {
    "scrolled": true
   },
   "outputs": [
    {
     "ename": "TypeError",
     "evalue": "'<' not supported between instances of 'str' and 'int'",
     "output_type": "error",
     "traceback": [
      "\u001b[0;31m---------------------------------------------------------------------------\u001b[0m",
      "\u001b[0;31mTypeError\u001b[0m                                 Traceback (most recent call last)",
      "\u001b[0;32m/var/folders/jn/54vtqbx5231b0w09shgckwv80000gn/T/ipykernel_84932/399445225.py\u001b[0m in \u001b[0;36m<module>\u001b[0;34m\u001b[0m\n\u001b[0;32m----> 1\u001b[0;31m \u001b[0mhx_ddf\u001b[0m\u001b[0;34m[\u001b[0m\u001b[0;34m'action'\u001b[0m\u001b[0;34m]\u001b[0m \u001b[0;34m=\u001b[0m \u001b[0mhx_ddf\u001b[0m\u001b[0;34m.\u001b[0m\u001b[0mstartstops\u001b[0m\u001b[0;34m[\u001b[0m\u001b[0;34m'action'\u001b[0m\u001b[0;34m]\u001b[0m\u001b[0;34m\u001b[0m\u001b[0;34m\u001b[0m\u001b[0m\n\u001b[0m",
      "\u001b[0;32m~/opt/anaconda3/lib/python3.9/site-packages/dask/dataframe/core.py\u001b[0m in \u001b[0;36m__getitem__\u001b[0;34m(self, key)\u001b[0m\n\u001b[1;32m   3347\u001b[0m             \u001b[0mgraph\u001b[0m \u001b[0;34m=\u001b[0m \u001b[0mHighLevelGraph\u001b[0m\u001b[0;34m.\u001b[0m\u001b[0mfrom_collections\u001b[0m\u001b[0;34m(\u001b[0m\u001b[0mname\u001b[0m\u001b[0;34m,\u001b[0m \u001b[0mdsk\u001b[0m\u001b[0;34m,\u001b[0m \u001b[0mdependencies\u001b[0m\u001b[0;34m=\u001b[0m\u001b[0;34m[\u001b[0m\u001b[0mself\u001b[0m\u001b[0;34m,\u001b[0m \u001b[0mkey\u001b[0m\u001b[0;34m]\u001b[0m\u001b[0;34m)\u001b[0m\u001b[0;34m\u001b[0m\u001b[0;34m\u001b[0m\u001b[0m\n\u001b[1;32m   3348\u001b[0m             \u001b[0;32mreturn\u001b[0m \u001b[0mSeries\u001b[0m\u001b[0;34m(\u001b[0m\u001b[0mgraph\u001b[0m\u001b[0;34m,\u001b[0m \u001b[0mname\u001b[0m\u001b[0;34m,\u001b[0m \u001b[0mself\u001b[0m\u001b[0;34m.\u001b[0m\u001b[0m_meta\u001b[0m\u001b[0;34m,\u001b[0m \u001b[0mself\u001b[0m\u001b[0;34m.\u001b[0m\u001b[0mdivisions\u001b[0m\u001b[0;34m)\u001b[0m\u001b[0;34m\u001b[0m\u001b[0;34m\u001b[0m\u001b[0m\n\u001b[0;32m-> 3349\u001b[0;31m         \u001b[0;32mreturn\u001b[0m \u001b[0mself\u001b[0m\u001b[0;34m.\u001b[0m\u001b[0mloc\u001b[0m\u001b[0;34m[\u001b[0m\u001b[0mkey\u001b[0m\u001b[0;34m]\u001b[0m\u001b[0;34m\u001b[0m\u001b[0;34m\u001b[0m\u001b[0m\n\u001b[0m\u001b[1;32m   3350\u001b[0m \u001b[0;34m\u001b[0m\u001b[0m\n\u001b[1;32m   3351\u001b[0m     \u001b[0;34m@\u001b[0m\u001b[0mderived_from\u001b[0m\u001b[0;34m(\u001b[0m\u001b[0mpd\u001b[0m\u001b[0;34m.\u001b[0m\u001b[0mDataFrame\u001b[0m\u001b[0;34m)\u001b[0m\u001b[0;34m\u001b[0m\u001b[0;34m\u001b[0m\u001b[0m\n",
      "\u001b[0;32m~/opt/anaconda3/lib/python3.9/site-packages/dask/dataframe/indexing.py\u001b[0m in \u001b[0;36m__getitem__\u001b[0;34m(self, key)\u001b[0m\n\u001b[1;32m     97\u001b[0m             \u001b[0miindexer\u001b[0m \u001b[0;34m=\u001b[0m \u001b[0mkey\u001b[0m\u001b[0;34m\u001b[0m\u001b[0;34m\u001b[0m\u001b[0m\n\u001b[1;32m     98\u001b[0m             \u001b[0mcindexer\u001b[0m \u001b[0;34m=\u001b[0m \u001b[0;32mNone\u001b[0m\u001b[0;34m\u001b[0m\u001b[0;34m\u001b[0m\u001b[0m\n\u001b[0;32m---> 99\u001b[0;31m         \u001b[0;32mreturn\u001b[0m \u001b[0mself\u001b[0m\u001b[0;34m.\u001b[0m\u001b[0m_loc\u001b[0m\u001b[0;34m(\u001b[0m\u001b[0miindexer\u001b[0m\u001b[0;34m,\u001b[0m \u001b[0mcindexer\u001b[0m\u001b[0;34m)\u001b[0m\u001b[0;34m\u001b[0m\u001b[0;34m\u001b[0m\u001b[0m\n\u001b[0m\u001b[1;32m    100\u001b[0m \u001b[0;34m\u001b[0m\u001b[0m\n\u001b[1;32m    101\u001b[0m     \u001b[0;32mdef\u001b[0m \u001b[0m_loc\u001b[0m\u001b[0;34m(\u001b[0m\u001b[0mself\u001b[0m\u001b[0;34m,\u001b[0m \u001b[0miindexer\u001b[0m\u001b[0;34m,\u001b[0m \u001b[0mcindexer\u001b[0m\u001b[0;34m)\u001b[0m\u001b[0;34m:\u001b[0m\u001b[0;34m\u001b[0m\u001b[0;34m\u001b[0m\u001b[0m\n",
      "\u001b[0;32m~/opt/anaconda3/lib/python3.9/site-packages/dask/dataframe/indexing.py\u001b[0m in \u001b[0;36m_loc\u001b[0;34m(self, iindexer, cindexer)\u001b[0m\n\u001b[1;32m    117\u001b[0m             \u001b[0;32melse\u001b[0m\u001b[0;34m:\u001b[0m\u001b[0;34m\u001b[0m\u001b[0;34m\u001b[0m\u001b[0m\n\u001b[1;32m    118\u001b[0m                 \u001b[0;31m# element should raise KeyError\u001b[0m\u001b[0;34m\u001b[0m\u001b[0;34m\u001b[0m\u001b[0m\n\u001b[0;32m--> 119\u001b[0;31m                 \u001b[0;32mreturn\u001b[0m \u001b[0mself\u001b[0m\u001b[0;34m.\u001b[0m\u001b[0m_loc_element\u001b[0m\u001b[0;34m(\u001b[0m\u001b[0miindexer\u001b[0m\u001b[0;34m,\u001b[0m \u001b[0mcindexer\u001b[0m\u001b[0;34m)\u001b[0m\u001b[0;34m\u001b[0m\u001b[0;34m\u001b[0m\u001b[0m\n\u001b[0m\u001b[1;32m    120\u001b[0m         \u001b[0;32melse\u001b[0m\u001b[0;34m:\u001b[0m\u001b[0;34m\u001b[0m\u001b[0;34m\u001b[0m\u001b[0m\n\u001b[1;32m    121\u001b[0m             \u001b[0;32mif\u001b[0m \u001b[0misinstance\u001b[0m\u001b[0;34m(\u001b[0m\u001b[0miindexer\u001b[0m\u001b[0;34m,\u001b[0m \u001b[0;34m(\u001b[0m\u001b[0mlist\u001b[0m\u001b[0;34m,\u001b[0m \u001b[0mnp\u001b[0m\u001b[0;34m.\u001b[0m\u001b[0mndarray\u001b[0m\u001b[0;34m)\u001b[0m\u001b[0;34m)\u001b[0m\u001b[0;34m:\u001b[0m\u001b[0;34m\u001b[0m\u001b[0;34m\u001b[0m\u001b[0m\n",
      "\u001b[0;32m~/opt/anaconda3/lib/python3.9/site-packages/dask/dataframe/indexing.py\u001b[0m in \u001b[0;36m_loc_element\u001b[0;34m(self, iindexer, cindexer)\u001b[0m\n\u001b[1;32m    175\u001b[0m     \u001b[0;32mdef\u001b[0m \u001b[0m_loc_element\u001b[0m\u001b[0;34m(\u001b[0m\u001b[0mself\u001b[0m\u001b[0;34m,\u001b[0m \u001b[0miindexer\u001b[0m\u001b[0;34m,\u001b[0m \u001b[0mcindexer\u001b[0m\u001b[0;34m)\u001b[0m\u001b[0;34m:\u001b[0m\u001b[0;34m\u001b[0m\u001b[0;34m\u001b[0m\u001b[0m\n\u001b[1;32m    176\u001b[0m         \u001b[0mname\u001b[0m \u001b[0;34m=\u001b[0m \u001b[0;34m\"loc-%s\"\u001b[0m \u001b[0;34m%\u001b[0m \u001b[0mtokenize\u001b[0m\u001b[0;34m(\u001b[0m\u001b[0miindexer\u001b[0m\u001b[0;34m,\u001b[0m \u001b[0mself\u001b[0m\u001b[0;34m.\u001b[0m\u001b[0mobj\u001b[0m\u001b[0;34m)\u001b[0m\u001b[0;34m\u001b[0m\u001b[0;34m\u001b[0m\u001b[0m\n\u001b[0;32m--> 177\u001b[0;31m         \u001b[0mpart\u001b[0m \u001b[0;34m=\u001b[0m \u001b[0mself\u001b[0m\u001b[0;34m.\u001b[0m\u001b[0m_get_partitions\u001b[0m\u001b[0;34m(\u001b[0m\u001b[0miindexer\u001b[0m\u001b[0;34m)\u001b[0m\u001b[0;34m\u001b[0m\u001b[0;34m\u001b[0m\u001b[0m\n\u001b[0m\u001b[1;32m    178\u001b[0m \u001b[0;34m\u001b[0m\u001b[0m\n\u001b[1;32m    179\u001b[0m         \u001b[0;32mif\u001b[0m \u001b[0miindexer\u001b[0m \u001b[0;34m<\u001b[0m \u001b[0mself\u001b[0m\u001b[0;34m.\u001b[0m\u001b[0mobj\u001b[0m\u001b[0;34m.\u001b[0m\u001b[0mdivisions\u001b[0m\u001b[0;34m[\u001b[0m\u001b[0;36m0\u001b[0m\u001b[0;34m]\u001b[0m \u001b[0;32mor\u001b[0m \u001b[0miindexer\u001b[0m \u001b[0;34m>\u001b[0m \u001b[0mself\u001b[0m\u001b[0;34m.\u001b[0m\u001b[0mobj\u001b[0m\u001b[0;34m.\u001b[0m\u001b[0mdivisions\u001b[0m\u001b[0;34m[\u001b[0m\u001b[0;34m-\u001b[0m\u001b[0;36m1\u001b[0m\u001b[0;34m]\u001b[0m\u001b[0;34m:\u001b[0m\u001b[0;34m\u001b[0m\u001b[0;34m\u001b[0m\u001b[0m\n",
      "\u001b[0;32m~/opt/anaconda3/lib/python3.9/site-packages/dask/dataframe/indexing.py\u001b[0m in \u001b[0;36m_get_partitions\u001b[0;34m(self, keys)\u001b[0m\n\u001b[1;32m    198\u001b[0m         \u001b[0;32melse\u001b[0m\u001b[0;34m:\u001b[0m\u001b[0;34m\u001b[0m\u001b[0;34m\u001b[0m\u001b[0m\n\u001b[1;32m    199\u001b[0m             \u001b[0;31m# element\u001b[0m\u001b[0;34m\u001b[0m\u001b[0;34m\u001b[0m\u001b[0m\n\u001b[0;32m--> 200\u001b[0;31m             \u001b[0;32mreturn\u001b[0m \u001b[0m_partition_of_index_value\u001b[0m\u001b[0;34m(\u001b[0m\u001b[0mself\u001b[0m\u001b[0;34m.\u001b[0m\u001b[0mobj\u001b[0m\u001b[0;34m.\u001b[0m\u001b[0mdivisions\u001b[0m\u001b[0;34m,\u001b[0m \u001b[0mkeys\u001b[0m\u001b[0;34m)\u001b[0m\u001b[0;34m\u001b[0m\u001b[0;34m\u001b[0m\u001b[0m\n\u001b[0m\u001b[1;32m    201\u001b[0m \u001b[0;34m\u001b[0m\u001b[0m\n\u001b[1;32m    202\u001b[0m     \u001b[0;32mdef\u001b[0m \u001b[0m_coerce_loc_index\u001b[0m\u001b[0;34m(\u001b[0m\u001b[0mself\u001b[0m\u001b[0;34m,\u001b[0m \u001b[0mkey\u001b[0m\u001b[0;34m)\u001b[0m\u001b[0;34m:\u001b[0m\u001b[0;34m\u001b[0m\u001b[0;34m\u001b[0m\u001b[0m\n",
      "\u001b[0;32m~/opt/anaconda3/lib/python3.9/site-packages/dask/dataframe/indexing.py\u001b[0m in \u001b[0;36m_partition_of_index_value\u001b[0;34m(divisions, val)\u001b[0m\n\u001b[1;32m    301\u001b[0m         \u001b[0;32mraise\u001b[0m \u001b[0mValueError\u001b[0m\u001b[0;34m(\u001b[0m\u001b[0mmsg\u001b[0m\u001b[0;34m)\u001b[0m\u001b[0;34m\u001b[0m\u001b[0;34m\u001b[0m\u001b[0m\n\u001b[1;32m    302\u001b[0m     \u001b[0mval\u001b[0m \u001b[0;34m=\u001b[0m \u001b[0m_coerce_loc_index\u001b[0m\u001b[0;34m(\u001b[0m\u001b[0mdivisions\u001b[0m\u001b[0;34m,\u001b[0m \u001b[0mval\u001b[0m\u001b[0;34m)\u001b[0m\u001b[0;34m\u001b[0m\u001b[0;34m\u001b[0m\u001b[0m\n\u001b[0;32m--> 303\u001b[0;31m     \u001b[0mi\u001b[0m \u001b[0;34m=\u001b[0m \u001b[0mbisect\u001b[0m\u001b[0;34m.\u001b[0m\u001b[0mbisect_right\u001b[0m\u001b[0;34m(\u001b[0m\u001b[0mdivisions\u001b[0m\u001b[0;34m,\u001b[0m \u001b[0mval\u001b[0m\u001b[0;34m)\u001b[0m\u001b[0;34m\u001b[0m\u001b[0;34m\u001b[0m\u001b[0m\n\u001b[0m\u001b[1;32m    304\u001b[0m     \u001b[0;32mreturn\u001b[0m \u001b[0mmin\u001b[0m\u001b[0;34m(\u001b[0m\u001b[0mlen\u001b[0m\u001b[0;34m(\u001b[0m\u001b[0mdivisions\u001b[0m\u001b[0;34m)\u001b[0m \u001b[0;34m-\u001b[0m \u001b[0;36m2\u001b[0m\u001b[0;34m,\u001b[0m \u001b[0mmax\u001b[0m\u001b[0;34m(\u001b[0m\u001b[0;36m0\u001b[0m\u001b[0;34m,\u001b[0m \u001b[0mi\u001b[0m \u001b[0;34m-\u001b[0m \u001b[0;36m1\u001b[0m\u001b[0;34m)\u001b[0m\u001b[0;34m)\u001b[0m\u001b[0;34m\u001b[0m\u001b[0;34m\u001b[0m\u001b[0m\n\u001b[1;32m    305\u001b[0m \u001b[0;34m\u001b[0m\u001b[0m\n",
      "\u001b[0;31mTypeError\u001b[0m: '<' not supported between instances of 'str' and 'int'"
     ]
    }
   ],
   "source": [
    "\n",
    "def parse_record(record):\n",
    "    r = {\n",
    "        \"repo\": pd.io.json.json_normalize(record[cols.get_loc(\"repo\")]),\n",
    "        \"repo_name\": record[cols.get_loc(\"repo\")][\"name\"],\n",
    "        \"type\": record[cols.get_loc(\"type\")],\n",
    "        \"id\": record[cols.get_loc(\"id\")],\n",
    "        \"created_at\": record[cols.get_loc(\"created_at\")],\n",
    "        \"payload\": pd.io.json.json_normalize(record[cols.get_loc(\"payload\")])}\n",
    "    return r\n",
    "\n",
    "hx_ddf['action'] = hx_ddf.startstops."
   ]
  },
  {
   "cell_type": "code",
   "execution_count": 112,
   "id": "365bfde5",
   "metadata": {},
   "outputs": [
    {
     "data": {
      "text/plain": [
       "worker        object\n",
       "status        object\n",
       "nbytes         int64\n",
       "thread         int64\n",
       "type          object\n",
       "typename      object\n",
       "metadata      object\n",
       "startstops    object\n",
       "key           object\n",
       "dtype: object"
      ]
     },
     "execution_count": 112,
     "metadata": {},
     "output_type": "execute_result"
    }
   ],
   "source": [
    "hx_ddf.dtypes"
   ]
  },
  {
   "cell_type": "code",
   "execution_count": null,
   "id": "401278d2",
   "metadata": {},
   "outputs": [],
   "source": []
  },
  {
   "cell_type": "code",
   "execution_count": 108,
   "id": "6dbd9c9f",
   "metadata": {},
   "outputs": [
    {
     "data": {
      "text/plain": [
       "worker        object\n",
       "status        object\n",
       "nbytes         int64\n",
       "thread         int64\n",
       "type          object\n",
       "typename      object\n",
       "metadata      object\n",
       "startstops    object\n",
       "key           object\n",
       "dtype: object"
      ]
     },
     "execution_count": 108,
     "metadata": {},
     "output_type": "execute_result"
    }
   ],
   "source": [
    "# hx_ddf_2 = hx_ddf.astype({'startstops': 'int32'})"
   ]
  },
  {
   "cell_type": "code",
   "execution_count": null,
   "id": "2f72adfe",
   "metadata": {},
   "outputs": [],
   "source": []
  },
  {
   "cell_type": "code",
   "execution_count": null,
   "id": "e3099340",
   "metadata": {},
   "outputs": [],
   "source": []
  },
  {
   "cell_type": "code",
   "execution_count": null,
   "id": "0434d4bb",
   "metadata": {},
   "outputs": [],
   "source": []
  },
  {
   "cell_type": "code",
   "execution_count": null,
   "id": "36a7bd7c",
   "metadata": {},
   "outputs": [],
   "source": []
  },
  {
   "cell_type": "code",
   "execution_count": null,
   "id": "7ff3e41f",
   "metadata": {},
   "outputs": [],
   "source": []
  },
  {
   "cell_type": "code",
   "execution_count": null,
   "id": "29c21991",
   "metadata": {},
   "outputs": [],
   "source": []
  },
  {
   "cell_type": "code",
   "execution_count": null,
   "id": "783d6a83",
   "metadata": {},
   "outputs": [],
   "source": []
  },
  {
   "cell_type": "code",
   "execution_count": null,
   "id": "4a9a67eb",
   "metadata": {},
   "outputs": [],
   "source": []
  },
  {
   "cell_type": "code",
   "execution_count": null,
   "id": "a255ee17",
   "metadata": {},
   "outputs": [],
   "source": []
  },
  {
   "cell_type": "code",
   "execution_count": null,
   "id": "9bb5dbb7",
   "metadata": {},
   "outputs": [],
   "source": []
  },
  {
   "cell_type": "code",
   "execution_count": null,
   "id": "2c986eb9",
   "metadata": {},
   "outputs": [],
   "source": []
  },
  {
   "cell_type": "code",
   "execution_count": null,
   "id": "d2068f69",
   "metadata": {},
   "outputs": [],
   "source": []
  },
  {
   "cell_type": "code",
   "execution_count": null,
   "id": "b8292290",
   "metadata": {},
   "outputs": [],
   "source": []
  },
  {
   "cell_type": "code",
   "execution_count": null,
   "id": "1db20fab",
   "metadata": {},
   "outputs": [],
   "source": []
  },
  {
   "cell_type": "code",
   "execution_count": null,
   "id": "23c9f1f1",
   "metadata": {},
   "outputs": [],
   "source": []
  },
  {
   "cell_type": "code",
   "execution_count": null,
   "id": "a1b82af9",
   "metadata": {},
   "outputs": [],
   "source": []
  },
  {
   "cell_type": "code",
   "execution_count": null,
   "id": "324ed16b",
   "metadata": {},
   "outputs": [],
   "source": []
  },
  {
   "cell_type": "code",
   "execution_count": null,
   "id": "235944aa",
   "metadata": {},
   "outputs": [],
   "source": []
  },
  {
   "cell_type": "code",
   "execution_count": null,
   "id": "465d97e6",
   "metadata": {},
   "outputs": [],
   "source": []
  },
  {
   "cell_type": "code",
   "execution_count": null,
   "id": "9cc21e8b",
   "metadata": {},
   "outputs": [],
   "source": []
  }
 ],
 "metadata": {
  "kernelspec": {
   "display_name": "Python 3 (ipykernel)",
   "language": "python",
   "name": "python3"
  },
  "language_info": {
   "codemirror_mode": {
    "name": "ipython",
    "version": 3
   },
   "file_extension": ".py",
   "mimetype": "text/x-python",
   "name": "python",
   "nbconvert_exporter": "python",
   "pygments_lexer": "ipython3",
   "version": "3.9.7"
  }
 },
 "nbformat": 4,
 "nbformat_minor": 5
}
