{
 "cells": [
  {
   "cell_type": "markdown",
   "id": "14003aaa",
   "metadata": {},
   "source": [
    "Step 1: download and convert dataset from CSV to Parquet"
   ]
  },
  {
   "cell_type": "code",
   "execution_count": 7,
   "id": "b026442b",
   "metadata": {},
   "outputs": [],
   "source": [
    "import pandas as pd\n",
    "import pyarrow as pa\n",
    "import pyarrow.parquet as pq"
   ]
  },
  {
   "cell_type": "code",
   "execution_count": 77,
   "id": "8d922252",
   "metadata": {},
   "outputs": [],
   "source": [
    "import dask.dataframe as dd\n",
    "import pandas as pd\n",
    "import numpy as np\n",
    "from dask.distributed import Client, LocalCluster\n",
    "import dask"
   ]
  },
  {
   "cell_type": "code",
   "execution_count": null,
   "id": "33b75c2e",
   "metadata": {},
   "outputs": [],
   "source": [
    "import time"
   ]
  },
  {
   "cell_type": "code",
   "execution_count": 78,
   "id": "9ed44e56",
   "metadata": {},
   "outputs": [
    {
     "name": "stdout",
     "output_type": "stream",
     "text": [
      "pandas version: 1.3.4\n",
      "numpy version: 1.20.3\n",
      "dask version: 2021.10.0\n"
     ]
    }
   ],
   "source": [
    "print('pandas version: %s' % pd.__version__)\n",
    "print('numpy version: %s' % np.__version__)\n",
    "print('dask version: %s' % dask.__version__)"
   ]
  },
  {
   "cell_type": "markdown",
   "id": "3641bb1f",
   "metadata": {},
   "source": [
    "https://docs.databricks.com/_static/notebooks/koalas-benchmark-distributed-execution.html?_ga=2.216403934.95291449.1648935555-599276868.1645477063"
   ]
  },
  {
   "cell_type": "code",
   "execution_count": 27,
   "id": "3e8fd0c6",
   "metadata": {},
   "outputs": [],
   "source": [
    "filename = \"taxi_dataset.txt\""
   ]
  },
  {
   "cell_type": "code",
   "execution_count": 122,
   "id": "baee931a",
   "metadata": {},
   "outputs": [],
   "source": [
    "with open(filename) as file:\n",
    "    csv_files = [line.rstrip() for line in file]\n",
    "# only choose yellow taxis\n",
    "yellow = list(filter(lambda x: \"yellow\" in x, csv_files))"
   ]
  },
  {
   "cell_type": "code",
   "execution_count": null,
   "id": "9f6798d5",
   "metadata": {},
   "outputs": [],
   "source": []
  },
  {
   "cell_type": "code",
   "execution_count": 124,
   "id": "13340b0e",
   "metadata": {
    "scrolled": true
   },
   "outputs": [],
   "source": [
    "# make the list small for now\n",
    "yellow = ['https://s3.amazonaws.com/nyc-tlc/trip+data/yellow_tripdata_2013-11.csv']"
   ]
  },
  {
   "cell_type": "code",
   "execution_count": 125,
   "id": "4aa1c005",
   "metadata": {},
   "outputs": [
    {
     "data": {
      "text/plain": [
       "['https://s3.amazonaws.com/nyc-tlc/trip+data/yellow_tripdata_2013-11.csv']"
      ]
     },
     "execution_count": 125,
     "metadata": {},
     "output_type": "execute_result"
    }
   ],
   "source": [
    "yellow"
   ]
  },
  {
   "cell_type": "code",
   "execution_count": null,
   "id": "d6bc9653",
   "metadata": {},
   "outputs": [
    {
     "name": "stderr",
     "output_type": "stream",
     "text": [
      "/Users/mk/opt/anaconda3/lib/python3.9/site-packages/dask/dataframe/io/csv.py:125: DtypeWarning: Columns (8) have mixed types.Specify dtype option on import or set low_memory=False.\n",
      "  df = pandas_read_text(\n",
      "/Users/mk/opt/anaconda3/lib/python3.9/site-packages/dask/dataframe/io/csv.py:125: DtypeWarning: Columns (8) have mixed types.Specify dtype option on import or set low_memory=False.\n",
      "  df = pandas_read_text(\n"
     ]
    }
   ],
   "source": [
    "import re\n",
    "pattern = '/[^\\/]*\\.csv$/gm'\n",
    "\n",
    "for csv_url in yellow:\n",
    "#     get the filename only so I can sort by month / year\n",
    "    csv_name = re.findall(r\"[^\\/]*\\.csv$\",csv_url)\n",
    "    df = dd.read_csv(csv_url,dtype={'tolls_amount': 'float64'})\n",
    "\n",
    "#     df = dd.read_csv(csv_url,\n",
    "#                 dtype={'RatecodeID': 'float64',\n",
    "#        'VendorID': 'float64',\n",
    "#        'passenger_count': 'float64',\n",
    "#        'payment_type': 'float64',\n",
    "#        'tolls_amount': 'float64',\n",
    "#        'trip_type': 'float64'\n",
    "#       })\n",
    "    df = df.repartition(npartitions=4)\n",
    "    df.to_parquet(f'./tmp/trip_data_{csv_name}', write_index=False)\n"
   ]
  },
  {
   "cell_type": "code",
   "execution_count": null,
   "id": "1b2b7b55",
   "metadata": {},
   "outputs": [],
   "source": []
  },
  {
   "cell_type": "markdown",
   "id": "c8c2112f",
   "metadata": {},
   "source": [
    "Read in parquet to dask"
   ]
  },
  {
   "cell_type": "code",
   "execution_count": null,
   "id": "36d6a4f3",
   "metadata": {},
   "outputs": [],
   "source": []
  },
  {
   "cell_type": "code",
   "execution_count": null,
   "id": "d1d0a979",
   "metadata": {},
   "outputs": [],
   "source": []
  },
  {
   "cell_type": "code",
   "execution_count": 79,
   "id": "e016aebd",
   "metadata": {},
   "outputs": [],
   "source": [
    "ddf = dd.read_parquet(\n",
    "    \"./tmp/\", \n",
    "    storage_options={\"anon\": True, 'use_ssl': True}\n",
    ")\n"
   ]
  },
  {
   "cell_type": "code",
   "execution_count": 80,
   "id": "52441d02",
   "metadata": {},
   "outputs": [
    {
     "data": {
      "text/html": [
       "<div>\n",
       "<style scoped>\n",
       "    .dataframe tbody tr th:only-of-type {\n",
       "        vertical-align: middle;\n",
       "    }\n",
       "\n",
       "    .dataframe tbody tr th {\n",
       "        vertical-align: top;\n",
       "    }\n",
       "\n",
       "    .dataframe thead th {\n",
       "        text-align: right;\n",
       "    }\n",
       "</style>\n",
       "<table border=\"1\" class=\"dataframe\">\n",
       "  <thead>\n",
       "    <tr style=\"text-align: right;\">\n",
       "      <th></th>\n",
       "      <th>VendorID</th>\n",
       "      <th>lpep_pickup_datetime</th>\n",
       "      <th>lpep_dropoff_datetime</th>\n",
       "      <th>store_and_fwd_flag</th>\n",
       "      <th>RatecodeID</th>\n",
       "      <th>PULocationID</th>\n",
       "      <th>DOLocationID</th>\n",
       "      <th>passenger_count</th>\n",
       "      <th>trip_distance</th>\n",
       "      <th>fare_amount</th>\n",
       "      <th>extra</th>\n",
       "      <th>mta_tax</th>\n",
       "      <th>tip_amount</th>\n",
       "      <th>tolls_amount</th>\n",
       "      <th>ehail_fee</th>\n",
       "      <th>improvement_surcharge</th>\n",
       "      <th>total_amount</th>\n",
       "      <th>payment_type</th>\n",
       "      <th>trip_type</th>\n",
       "      <th>congestion_surcharge</th>\n",
       "    </tr>\n",
       "  </thead>\n",
       "  <tbody>\n",
       "    <tr>\n",
       "      <th>0</th>\n",
       "      <td>2.0</td>\n",
       "      <td>2021-01-01 00:15:56</td>\n",
       "      <td>2021-01-01 00:19:52</td>\n",
       "      <td>N</td>\n",
       "      <td>1.0</td>\n",
       "      <td>43</td>\n",
       "      <td>151</td>\n",
       "      <td>1.0</td>\n",
       "      <td>1.01</td>\n",
       "      <td>5.5</td>\n",
       "      <td>0.5</td>\n",
       "      <td>0.5</td>\n",
       "      <td>0.00</td>\n",
       "      <td>0.0</td>\n",
       "      <td>NaN</td>\n",
       "      <td>0.3</td>\n",
       "      <td>6.80</td>\n",
       "      <td>2.0</td>\n",
       "      <td>1.0</td>\n",
       "      <td>0.00</td>\n",
       "    </tr>\n",
       "    <tr>\n",
       "      <th>1</th>\n",
       "      <td>2.0</td>\n",
       "      <td>2021-01-01 00:25:59</td>\n",
       "      <td>2021-01-01 00:34:44</td>\n",
       "      <td>N</td>\n",
       "      <td>1.0</td>\n",
       "      <td>166</td>\n",
       "      <td>239</td>\n",
       "      <td>1.0</td>\n",
       "      <td>2.53</td>\n",
       "      <td>10.0</td>\n",
       "      <td>0.5</td>\n",
       "      <td>0.5</td>\n",
       "      <td>2.81</td>\n",
       "      <td>0.0</td>\n",
       "      <td>NaN</td>\n",
       "      <td>0.3</td>\n",
       "      <td>16.86</td>\n",
       "      <td>1.0</td>\n",
       "      <td>1.0</td>\n",
       "      <td>2.75</td>\n",
       "    </tr>\n",
       "    <tr>\n",
       "      <th>2</th>\n",
       "      <td>2.0</td>\n",
       "      <td>2021-01-01 00:45:57</td>\n",
       "      <td>2021-01-01 00:51:55</td>\n",
       "      <td>N</td>\n",
       "      <td>1.0</td>\n",
       "      <td>41</td>\n",
       "      <td>42</td>\n",
       "      <td>1.0</td>\n",
       "      <td>1.12</td>\n",
       "      <td>6.0</td>\n",
       "      <td>0.5</td>\n",
       "      <td>0.5</td>\n",
       "      <td>1.00</td>\n",
       "      <td>0.0</td>\n",
       "      <td>NaN</td>\n",
       "      <td>0.3</td>\n",
       "      <td>8.30</td>\n",
       "      <td>1.0</td>\n",
       "      <td>1.0</td>\n",
       "      <td>0.00</td>\n",
       "    </tr>\n",
       "    <tr>\n",
       "      <th>3</th>\n",
       "      <td>2.0</td>\n",
       "      <td>2020-12-31 23:57:51</td>\n",
       "      <td>2021-01-01 00:04:56</td>\n",
       "      <td>N</td>\n",
       "      <td>1.0</td>\n",
       "      <td>168</td>\n",
       "      <td>75</td>\n",
       "      <td>1.0</td>\n",
       "      <td>1.99</td>\n",
       "      <td>8.0</td>\n",
       "      <td>0.5</td>\n",
       "      <td>0.5</td>\n",
       "      <td>0.00</td>\n",
       "      <td>0.0</td>\n",
       "      <td>NaN</td>\n",
       "      <td>0.3</td>\n",
       "      <td>9.30</td>\n",
       "      <td>2.0</td>\n",
       "      <td>1.0</td>\n",
       "      <td>0.00</td>\n",
       "    </tr>\n",
       "    <tr>\n",
       "      <th>4</th>\n",
       "      <td>2.0</td>\n",
       "      <td>2021-01-01 00:16:36</td>\n",
       "      <td>2021-01-01 00:16:40</td>\n",
       "      <td>N</td>\n",
       "      <td>2.0</td>\n",
       "      <td>265</td>\n",
       "      <td>265</td>\n",
       "      <td>3.0</td>\n",
       "      <td>0.00</td>\n",
       "      <td>-52.0</td>\n",
       "      <td>0.0</td>\n",
       "      <td>-0.5</td>\n",
       "      <td>0.00</td>\n",
       "      <td>0.0</td>\n",
       "      <td>NaN</td>\n",
       "      <td>-0.3</td>\n",
       "      <td>-52.80</td>\n",
       "      <td>3.0</td>\n",
       "      <td>1.0</td>\n",
       "      <td>0.00</td>\n",
       "    </tr>\n",
       "  </tbody>\n",
       "</table>\n",
       "</div>"
      ],
      "text/plain": [
       "   VendorID lpep_pickup_datetime lpep_dropoff_datetime store_and_fwd_flag  \\\n",
       "0       2.0  2021-01-01 00:15:56   2021-01-01 00:19:52                  N   \n",
       "1       2.0  2021-01-01 00:25:59   2021-01-01 00:34:44                  N   \n",
       "2       2.0  2021-01-01 00:45:57   2021-01-01 00:51:55                  N   \n",
       "3       2.0  2020-12-31 23:57:51   2021-01-01 00:04:56                  N   \n",
       "4       2.0  2021-01-01 00:16:36   2021-01-01 00:16:40                  N   \n",
       "\n",
       "   RatecodeID  PULocationID  DOLocationID  passenger_count  trip_distance  \\\n",
       "0         1.0            43           151              1.0           1.01   \n",
       "1         1.0           166           239              1.0           2.53   \n",
       "2         1.0            41            42              1.0           1.12   \n",
       "3         1.0           168            75              1.0           1.99   \n",
       "4         2.0           265           265              3.0           0.00   \n",
       "\n",
       "   fare_amount  extra  mta_tax  tip_amount  tolls_amount  ehail_fee  \\\n",
       "0          5.5    0.5      0.5        0.00           0.0        NaN   \n",
       "1         10.0    0.5      0.5        2.81           0.0        NaN   \n",
       "2          6.0    0.5      0.5        1.00           0.0        NaN   \n",
       "3          8.0    0.5      0.5        0.00           0.0        NaN   \n",
       "4        -52.0    0.0     -0.5        0.00           0.0        NaN   \n",
       "\n",
       "   improvement_surcharge  total_amount  payment_type  trip_type  \\\n",
       "0                    0.3          6.80           2.0        1.0   \n",
       "1                    0.3         16.86           1.0        1.0   \n",
       "2                    0.3          8.30           1.0        1.0   \n",
       "3                    0.3          9.30           2.0        1.0   \n",
       "4                   -0.3        -52.80           3.0        1.0   \n",
       "\n",
       "   congestion_surcharge  \n",
       "0                  0.00  \n",
       "1                  2.75  \n",
       "2                  0.00  \n",
       "3                  0.00  \n",
       "4                  0.00  "
      ]
     },
     "execution_count": 80,
     "metadata": {},
     "output_type": "execute_result"
    }
   ],
   "source": [
    "ddf.head()"
   ]
  },
  {
   "cell_type": "code",
   "execution_count": null,
   "id": "84a4de0e",
   "metadata": {},
   "outputs": [],
   "source": []
  },
  {
   "cell_type": "code",
   "execution_count": 81,
   "id": "89b748a3",
   "metadata": {},
   "outputs": [],
   "source": [
    "# try to do things"
   ]
  },
  {
   "cell_type": "code",
   "execution_count": 82,
   "id": "1e2e2960",
   "metadata": {},
   "outputs": [],
   "source": [
    "ddf = ddf[(ddf.tip_amount >= 1) & (ddf.tip_amount <= 5)]"
   ]
  },
  {
   "cell_type": "code",
   "execution_count": 83,
   "id": "ccffcc06",
   "metadata": {},
   "outputs": [
    {
     "data": {
      "text/html": [
       "<div><strong>Dask DataFrame Structure:</strong></div>\n",
       "<div>\n",
       "<style scoped>\n",
       "    .dataframe tbody tr th:only-of-type {\n",
       "        vertical-align: middle;\n",
       "    }\n",
       "\n",
       "    .dataframe tbody tr th {\n",
       "        vertical-align: top;\n",
       "    }\n",
       "\n",
       "    .dataframe thead th {\n",
       "        text-align: right;\n",
       "    }\n",
       "</style>\n",
       "<table border=\"1\" class=\"dataframe\">\n",
       "  <thead>\n",
       "    <tr style=\"text-align: right;\">\n",
       "      <th></th>\n",
       "      <th>VendorID</th>\n",
       "      <th>lpep_pickup_datetime</th>\n",
       "      <th>lpep_dropoff_datetime</th>\n",
       "      <th>store_and_fwd_flag</th>\n",
       "      <th>RatecodeID</th>\n",
       "      <th>PULocationID</th>\n",
       "      <th>DOLocationID</th>\n",
       "      <th>passenger_count</th>\n",
       "      <th>trip_distance</th>\n",
       "      <th>fare_amount</th>\n",
       "      <th>extra</th>\n",
       "      <th>mta_tax</th>\n",
       "      <th>tip_amount</th>\n",
       "      <th>tolls_amount</th>\n",
       "      <th>ehail_fee</th>\n",
       "      <th>improvement_surcharge</th>\n",
       "      <th>total_amount</th>\n",
       "      <th>payment_type</th>\n",
       "      <th>trip_type</th>\n",
       "      <th>congestion_surcharge</th>\n",
       "    </tr>\n",
       "    <tr>\n",
       "      <th>npartitions=4</th>\n",
       "      <th></th>\n",
       "      <th></th>\n",
       "      <th></th>\n",
       "      <th></th>\n",
       "      <th></th>\n",
       "      <th></th>\n",
       "      <th></th>\n",
       "      <th></th>\n",
       "      <th></th>\n",
       "      <th></th>\n",
       "      <th></th>\n",
       "      <th></th>\n",
       "      <th></th>\n",
       "      <th></th>\n",
       "      <th></th>\n",
       "      <th></th>\n",
       "      <th></th>\n",
       "      <th></th>\n",
       "      <th></th>\n",
       "      <th></th>\n",
       "    </tr>\n",
       "  </thead>\n",
       "  <tbody>\n",
       "    <tr>\n",
       "      <th></th>\n",
       "      <td>float64</td>\n",
       "      <td>object</td>\n",
       "      <td>object</td>\n",
       "      <td>object</td>\n",
       "      <td>float64</td>\n",
       "      <td>int64</td>\n",
       "      <td>int64</td>\n",
       "      <td>float64</td>\n",
       "      <td>float64</td>\n",
       "      <td>float64</td>\n",
       "      <td>float64</td>\n",
       "      <td>float64</td>\n",
       "      <td>float64</td>\n",
       "      <td>float64</td>\n",
       "      <td>float64</td>\n",
       "      <td>float64</td>\n",
       "      <td>float64</td>\n",
       "      <td>float64</td>\n",
       "      <td>float64</td>\n",
       "      <td>float64</td>\n",
       "    </tr>\n",
       "    <tr>\n",
       "      <th></th>\n",
       "      <td>...</td>\n",
       "      <td>...</td>\n",
       "      <td>...</td>\n",
       "      <td>...</td>\n",
       "      <td>...</td>\n",
       "      <td>...</td>\n",
       "      <td>...</td>\n",
       "      <td>...</td>\n",
       "      <td>...</td>\n",
       "      <td>...</td>\n",
       "      <td>...</td>\n",
       "      <td>...</td>\n",
       "      <td>...</td>\n",
       "      <td>...</td>\n",
       "      <td>...</td>\n",
       "      <td>...</td>\n",
       "      <td>...</td>\n",
       "      <td>...</td>\n",
       "      <td>...</td>\n",
       "      <td>...</td>\n",
       "    </tr>\n",
       "    <tr>\n",
       "      <th></th>\n",
       "      <td>...</td>\n",
       "      <td>...</td>\n",
       "      <td>...</td>\n",
       "      <td>...</td>\n",
       "      <td>...</td>\n",
       "      <td>...</td>\n",
       "      <td>...</td>\n",
       "      <td>...</td>\n",
       "      <td>...</td>\n",
       "      <td>...</td>\n",
       "      <td>...</td>\n",
       "      <td>...</td>\n",
       "      <td>...</td>\n",
       "      <td>...</td>\n",
       "      <td>...</td>\n",
       "      <td>...</td>\n",
       "      <td>...</td>\n",
       "      <td>...</td>\n",
       "      <td>...</td>\n",
       "      <td>...</td>\n",
       "    </tr>\n",
       "    <tr>\n",
       "      <th></th>\n",
       "      <td>...</td>\n",
       "      <td>...</td>\n",
       "      <td>...</td>\n",
       "      <td>...</td>\n",
       "      <td>...</td>\n",
       "      <td>...</td>\n",
       "      <td>...</td>\n",
       "      <td>...</td>\n",
       "      <td>...</td>\n",
       "      <td>...</td>\n",
       "      <td>...</td>\n",
       "      <td>...</td>\n",
       "      <td>...</td>\n",
       "      <td>...</td>\n",
       "      <td>...</td>\n",
       "      <td>...</td>\n",
       "      <td>...</td>\n",
       "      <td>...</td>\n",
       "      <td>...</td>\n",
       "      <td>...</td>\n",
       "    </tr>\n",
       "    <tr>\n",
       "      <th></th>\n",
       "      <td>...</td>\n",
       "      <td>...</td>\n",
       "      <td>...</td>\n",
       "      <td>...</td>\n",
       "      <td>...</td>\n",
       "      <td>...</td>\n",
       "      <td>...</td>\n",
       "      <td>...</td>\n",
       "      <td>...</td>\n",
       "      <td>...</td>\n",
       "      <td>...</td>\n",
       "      <td>...</td>\n",
       "      <td>...</td>\n",
       "      <td>...</td>\n",
       "      <td>...</td>\n",
       "      <td>...</td>\n",
       "      <td>...</td>\n",
       "      <td>...</td>\n",
       "      <td>...</td>\n",
       "      <td>...</td>\n",
       "    </tr>\n",
       "  </tbody>\n",
       "</table>\n",
       "</div>\n",
       "<div>Dask Name: getitem, 4 tasks</div>"
      ],
      "text/plain": [
       "Dask DataFrame Structure:\n",
       "              VendorID lpep_pickup_datetime lpep_dropoff_datetime store_and_fwd_flag RatecodeID PULocationID DOLocationID passenger_count trip_distance fare_amount    extra  mta_tax tip_amount tolls_amount ehail_fee improvement_surcharge total_amount payment_type trip_type congestion_surcharge\n",
       "npartitions=4                                                                                                                                                                                                                                                                                         \n",
       "               float64               object                object             object    float64        int64        int64         float64       float64     float64  float64  float64    float64      float64   float64               float64      float64      float64   float64              float64\n",
       "                   ...                  ...                   ...                ...        ...          ...          ...             ...           ...         ...      ...      ...        ...          ...       ...                   ...          ...          ...       ...                  ...\n",
       "                   ...                  ...                   ...                ...        ...          ...          ...             ...           ...         ...      ...      ...        ...          ...       ...                   ...          ...          ...       ...                  ...\n",
       "                   ...                  ...                   ...                ...        ...          ...          ...             ...           ...         ...      ...      ...        ...          ...       ...                   ...          ...          ...       ...                  ...\n",
       "                   ...                  ...                   ...                ...        ...          ...          ...             ...           ...         ...      ...      ...        ...          ...       ...                   ...          ...          ...       ...                  ...\n",
       "Dask Name: getitem, 4 tasks"
      ]
     },
     "execution_count": 83,
     "metadata": {},
     "output_type": "execute_result"
    }
   ],
   "source": [
    "ddf.persist()"
   ]
  },
  {
   "cell_type": "code",
   "execution_count": 94,
   "id": "c4e63997",
   "metadata": {},
   "outputs": [],
   "source": []
  },
  {
   "cell_type": "code",
   "execution_count": null,
   "id": "6a611297",
   "metadata": {},
   "outputs": [],
   "source": []
  },
  {
   "cell_type": "code",
   "execution_count": 92,
   "id": "09442e90",
   "metadata": {
    "scrolled": true
   },
   "outputs": [],
   "source": []
  },
  {
   "cell_type": "code",
   "execution_count": 93,
   "id": "8ca8bf87",
   "metadata": {},
   "outputs": [],
   "source": []
  },
  {
   "cell_type": "markdown",
   "id": "138732c8",
   "metadata": {},
   "source": [
    "# benchmarks"
   ]
  },
  {
   "cell_type": "code",
   "execution_count": null,
   "id": "e3a89dfe",
   "metadata": {},
   "outputs": [],
   "source": []
  },
  {
   "cell_type": "code",
   "execution_count": 105,
   "id": "b4926e9e",
   "metadata": {},
   "outputs": [
    {
     "name": "stdout",
     "output_type": "stream",
     "text": [
      "CPU times: user 9.57 ms, sys: 2.19 ms, total: 11.8 ms\n",
      "Wall time: 10.1 ms\n"
     ]
    }
   ],
   "source": [
    "%%time\n",
    "# read_file_parquet\n",
    "df = dd.read_parquet(\n",
    "    \"./tmp/\", \n",
    "    storage_options={\"anon\": True, 'use_ssl': True}\n",
    ")"
   ]
  },
  {
   "cell_type": "code",
   "execution_count": 106,
   "id": "dc55cc7e",
   "metadata": {},
   "outputs": [
    {
     "name": "stdout",
     "output_type": "stream",
     "text": [
      "CPU times: user 19 ms, sys: 13.7 ms, total: 32.7 ms\n",
      "Wall time: 25.5 ms\n"
     ]
    },
    {
     "data": {
      "text/plain": [
       "76518"
      ]
     },
     "execution_count": 106,
     "metadata": {},
     "output_type": "execute_result"
    }
   ],
   "source": [
    "%%time\n",
    "# count\n",
    "len(df)"
   ]
  },
  {
   "cell_type": "code",
   "execution_count": 107,
   "id": "602a9b5b",
   "metadata": {},
   "outputs": [
    {
     "name": "stdout",
     "output_type": "stream",
     "text": [
      "CPU times: user 99.3 ms, sys: 39.3 ms, total: 139 ms\n",
      "Wall time: 104 ms\n"
     ]
    },
    {
     "data": {
      "text/plain": [
       "76518"
      ]
     },
     "execution_count": 107,
     "metadata": {},
     "output_type": "execute_result"
    }
   ],
   "source": [
    "%%time\n",
    "# count_index_length\n",
    "len(df.index)"
   ]
  },
  {
   "cell_type": "code",
   "execution_count": 108,
   "id": "aa8dc3cc",
   "metadata": {},
   "outputs": [
    {
     "name": "stdout",
     "output_type": "stream",
     "text": [
      "CPU times: user 24.7 ms, sys: 6.83 ms, total: 31.5 ms\n",
      "Wall time: 25.3 ms\n"
     ]
    },
    {
     "data": {
      "text/plain": [
       "19.939777176612036"
      ]
     },
     "execution_count": 108,
     "metadata": {},
     "output_type": "execute_result"
    }
   ],
   "source": [
    "%%time\n",
    "# mean\n",
    "df.fare_amount.mean().compute()"
   ]
  },
  {
   "cell_type": "code",
   "execution_count": 109,
   "id": "b6224a30",
   "metadata": {},
   "outputs": [
    {
     "name": "stdout",
     "output_type": "stream",
     "text": [
      "CPU times: user 30.7 ms, sys: 9.6 ms, total: 40.3 ms\n",
      "Wall time: 31.9 ms\n"
     ]
    },
    {
     "data": {
      "text/plain": [
       "14.98424075460877"
      ]
     },
     "execution_count": 109,
     "metadata": {},
     "output_type": "execute_result"
    }
   ],
   "source": [
    "%%time\n",
    "# standard_deviation\n",
    "df.fare_amount.std().compute()"
   ]
  },
  {
   "cell_type": "code",
   "execution_count": 110,
   "id": "783d28c8",
   "metadata": {},
   "outputs": [
    {
     "name": "stdout",
     "output_type": "stream",
     "text": [
      "CPU times: user 29.7 ms, sys: 6.57 ms, total: 36.3 ms\n",
      "Wall time: 29.7 ms\n"
     ]
    },
    {
     "data": {
      "text/plain": [
       "21.44627656237748"
      ]
     },
     "execution_count": 110,
     "metadata": {},
     "output_type": "execute_result"
    }
   ],
   "source": [
    "%%time\n",
    "# mean_of_sum\n",
    "(df.fare_amount + df.tip_amount).mean().compute()"
   ]
  },
  {
   "cell_type": "code",
   "execution_count": 111,
   "id": "e2cfa3dd",
   "metadata": {},
   "outputs": [
    {
     "name": "stdout",
     "output_type": "stream",
     "text": [
      "CPU times: user 23.1 ms, sys: 7.47 ms, total: 30.6 ms\n",
      "Wall time: 23.4 ms\n"
     ]
    },
    {
     "data": {
      "text/plain": [
       "0         5.50\n",
       "1        12.81\n",
       "2         7.00\n",
       "3         8.00\n",
       "4       -52.00\n",
       "         ...  \n",
       "19125    17.01\n",
       "19126    30.02\n",
       "19127    15.64\n",
       "19128    53.42\n",
       "19129    24.12\n",
       "Length: 76518, dtype: float64"
      ]
     },
     "execution_count": 111,
     "metadata": {},
     "output_type": "execute_result"
    }
   ],
   "source": [
    "%%time\n",
    "# sum_columns\n",
    "(df.fare_amount + df.tip_amount).compute()"
   ]
  },
  {
   "cell_type": "code",
   "execution_count": 117,
   "id": "bb60ca3b",
   "metadata": {},
   "outputs": [
    {
     "name": "stdout",
     "output_type": "stream",
     "text": [
      "CPU times: user 25.1 ms, sys: 6.75 ms, total: 31.9 ms\n",
      "Wall time: 24.2 ms\n"
     ]
    },
    {
     "data": {
      "text/plain": [
       "34.512497963877784"
      ]
     },
     "execution_count": 117,
     "metadata": {},
     "output_type": "execute_result"
    }
   ],
   "source": [
    "%%time\n",
    "# mean_of_product\n",
    "(df.fare_amount * df.tip_amount).mean().compute()"
   ]
  },
  {
   "cell_type": "code",
   "execution_count": 118,
   "id": "54e8e139",
   "metadata": {},
   "outputs": [
    {
     "name": "stdout",
     "output_type": "stream",
     "text": [
      "CPU times: user 23.1 ms, sys: 6.72 ms, total: 29.8 ms\n",
      "Wall time: 25.3 ms\n"
     ]
    },
    {
     "data": {
      "text/plain": [
       "0          0.0000\n",
       "1         28.1000\n",
       "2          6.0000\n",
       "3          0.0000\n",
       "4         -0.0000\n",
       "           ...   \n",
       "19125      0.0000\n",
       "19126     74.9925\n",
       "19127     35.4475\n",
       "19128    139.3425\n",
       "19129     58.7675\n",
       "Length: 76518, dtype: float64"
      ]
     },
     "execution_count": 118,
     "metadata": {},
     "output_type": "execute_result"
    }
   ],
   "source": [
    "%%time\n",
    "# product_columns\n",
    "(df.fare_amount * df.tip_amount).compute()"
   ]
  },
  {
   "cell_type": "code",
   "execution_count": 119,
   "id": "2c93b278",
   "metadata": {},
   "outputs": [
    {
     "name": "stdout",
     "output_type": "stream",
     "text": [
      "CPU times: user 30.8 ms, sys: 9.41 ms, total: 40.2 ms\n",
      "Wall time: 35.1 ms\n"
     ]
    },
    {
     "data": {
      "text/plain": [
       "7.00      2252\n",
       "6.50      1942\n",
       "6.00      1898\n",
       "8.00      1809\n",
       "7.50      1709\n",
       "          ... \n",
       "27.73        1\n",
       "27.64        1\n",
       "27.56        1\n",
       "27.53        1\n",
       "284.00       1\n",
       "Name: fare_amount, Length: 3399, dtype: int64"
      ]
     },
     "execution_count": 119,
     "metadata": {},
     "output_type": "execute_result"
    }
   ],
   "source": [
    "%%time\n",
    "# value_counts\n",
    "df.fare_amount.value_counts().compute()"
   ]
  },
  {
   "cell_type": "code",
   "execution_count": 120,
   "id": "1bb91fe5",
   "metadata": {},
   "outputs": [
    {
     "ename": "AttributeError",
     "evalue": "'DataFrame' object has no attribute 'start_lon'",
     "output_type": "error",
     "traceback": [
      "\u001b[0;31m---------------------------------------------------------------------------\u001b[0m",
      "\u001b[0;31mAttributeError\u001b[0m                            Traceback (most recent call last)",
      "\u001b[0;32m<timed exec>\u001b[0m in \u001b[0;36m<module>\u001b[0;34m\u001b[0m\n",
      "\u001b[0;32m~/opt/anaconda3/lib/python3.9/site-packages/dask/dataframe/core.py\u001b[0m in \u001b[0;36m__getattr__\u001b[0;34m(self, key)\u001b[0m\n\u001b[1;32m   4148\u001b[0m             \u001b[0;32mreturn\u001b[0m \u001b[0mself\u001b[0m\u001b[0;34m[\u001b[0m\u001b[0mkey\u001b[0m\u001b[0;34m]\u001b[0m\u001b[0;34m\u001b[0m\u001b[0;34m\u001b[0m\u001b[0m\n\u001b[1;32m   4149\u001b[0m         \u001b[0;32melse\u001b[0m\u001b[0;34m:\u001b[0m\u001b[0;34m\u001b[0m\u001b[0;34m\u001b[0m\u001b[0m\n\u001b[0;32m-> 4150\u001b[0;31m             \u001b[0;32mraise\u001b[0m \u001b[0mAttributeError\u001b[0m\u001b[0;34m(\u001b[0m\u001b[0;34m\"'DataFrame' object has no attribute %r\"\u001b[0m \u001b[0;34m%\u001b[0m \u001b[0mkey\u001b[0m\u001b[0;34m)\u001b[0m\u001b[0;34m\u001b[0m\u001b[0;34m\u001b[0m\u001b[0m\n\u001b[0m\u001b[1;32m   4151\u001b[0m \u001b[0;34m\u001b[0m\u001b[0m\n\u001b[1;32m   4152\u001b[0m     \u001b[0;32mdef\u001b[0m \u001b[0m__dir__\u001b[0m\u001b[0;34m(\u001b[0m\u001b[0mself\u001b[0m\u001b[0;34m)\u001b[0m\u001b[0;34m:\u001b[0m\u001b[0;34m\u001b[0m\u001b[0;34m\u001b[0m\u001b[0m\n",
      "\u001b[0;31mAttributeError\u001b[0m: 'DataFrame' object has no attribute 'start_lon'"
     ]
    }
   ],
   "source": [
    "%%time\n",
    "# mean_of_complicated_arithmetic_operation\n",
    "theta_1 = df.start_lon\n",
    "phi_1 = df.start_lat\n",
    "theta_2 = df.end_lon\n",
    "phi_2 = df.end_lat\n",
    "temp = (np.sin((theta_2-theta_1)/2*np.pi/180)**2\n",
    "       + np.cos(theta_1*np.pi/180)*np.cos(theta_2*np.pi/180) * np.sin((phi_2-phi_1)/2*np.pi/180)**2)\n",
    "ret = 2 * np.arctan2(np.sqrt(temp), np.sqrt(1-temp))\n",
    "ret.mean().compute()"
   ]
  },
  {
   "cell_type": "code",
   "execution_count": 116,
   "id": "df9be504",
   "metadata": {},
   "outputs": [
    {
     "name": "stdout",
     "output_type": "stream",
     "text": [
      "CPU times: user 2 µs, sys: 1 µs, total: 3 µs\n",
      "Wall time: 6.2 µs\n"
     ]
    }
   ],
   "source": [
    "%%time\n",
    "# complicated_arithmetic_operation\n"
   ]
  },
  {
   "cell_type": "code",
   "execution_count": null,
   "id": "0bd8044a",
   "metadata": {},
   "outputs": [],
   "source": [
    "%%time\n",
    "# groupby_statistics\n"
   ]
  },
  {
   "cell_type": "code",
   "execution_count": null,
   "id": "a77dd8aa",
   "metadata": {},
   "outputs": [],
   "source": [
    "%%time\n",
    "# join_count\n"
   ]
  },
  {
   "cell_type": "code",
   "execution_count": null,
   "id": "1b836b80",
   "metadata": {},
   "outputs": [],
   "source": [
    "%%time\n",
    "# join_data\n"
   ]
  },
  {
   "cell_type": "code",
   "execution_count": null,
   "id": "044de66d",
   "metadata": {},
   "outputs": [],
   "source": []
  },
  {
   "cell_type": "code",
   "execution_count": null,
   "id": "e852fc33",
   "metadata": {},
   "outputs": [],
   "source": []
  },
  {
   "cell_type": "code",
   "execution_count": null,
   "id": "6763ea52",
   "metadata": {},
   "outputs": [],
   "source": []
  },
  {
   "cell_type": "code",
   "execution_count": 84,
   "id": "13e6d5fa",
   "metadata": {},
   "outputs": [],
   "source": [
    "# \"operations\" as defined by databricks."
   ]
  },
  {
   "cell_type": "code",
   "execution_count": 85,
   "id": "aad9a144",
   "metadata": {},
   "outputs": [],
   "source": [
    "# # complex arithmetic\n",
    "# np.sin ... np.cos ... np.arctan2"
   ]
  },
  {
   "cell_type": "code",
   "execution_count": 86,
   "id": "1b1cdcd0",
   "metadata": {},
   "outputs": [
    {
     "data": {
      "text/plain": [
       "37878"
      ]
     },
     "execution_count": 86,
     "metadata": {},
     "output_type": "execute_result"
    }
   ],
   "source": [
    "len(ddf)"
   ]
  },
  {
   "cell_type": "code",
   "execution_count": 87,
   "id": "e54ae653",
   "metadata": {},
   "outputs": [
    {
     "data": {
      "text/plain": [
       "37878"
      ]
     },
     "execution_count": 87,
     "metadata": {},
     "output_type": "execute_result"
    }
   ],
   "source": [
    "len(ddf.index)"
   ]
  },
  {
   "cell_type": "code",
   "execution_count": null,
   "id": "354a7605",
   "metadata": {},
   "outputs": [],
   "source": [
    "df.groupby(by='series_c').agg(... ['mean', 'std'] ...)"
   ]
  },
  {
   "cell_type": "code",
   "execution_count": null,
   "id": "1d1d3d2d",
   "metadata": {},
   "outputs": [],
   "source": [
    "# from databricks documentation."
   ]
  },
  {
   "cell_type": "code",
   "execution_count": null,
   "id": "d802c40b",
   "metadata": {},
   "outputs": [],
   "source": [
    "def operations(df):\n",
    "    # complex arithmetic\n",
    "    np.sin ... np.cos ... np.arctan2\n",
    "    # count\n",
    "    len(df)\n",
    "    # count index\n",
    "    len(df.index)\n",
    "    # groupby statistics\n",
    "    df.groupby(by='series_c').agg(... ['mean', 'std'] ...)\n",
    "    # join\n",
    "    merge(df1, df2)\n",
    "    # join count\n",
    "    len(merge(df1, df2))\n",
    "    # mean\n",
    "    df.series_a.mean()\n",
    "    # mean of complex arithmetic\n",
    "    (np.sin ... np.cos ... np.arctan2).mean()\n",
    "    # mean of series addition\n",
    "    (df.series_a + df.series_b).mean()\n",
    "    # mean of series multiplication\n",
    "    (df.series_a * df.series_b).mean()\n",
    "    # read file\n",
    "    read_parquet(...)\n",
    "    # series addition\n",
    "    df.series_a + df.series_b\n",
    "    # series multiplication\n",
    "    df.series_a * df.series_b\n",
    "    # standard derivation\n",
    "    df.series_a.std()\n",
    "    # value counts\n",
    "    df.series_a.value_counts()"
   ]
  },
  {
   "cell_type": "code",
   "execution_count": null,
   "id": "6ff8a6c8",
   "metadata": {},
   "outputs": [],
   "source": [
    "# Dask\n",
    "df = df[(df.tip_amt >= 1) & (df.tip_amt <= 5)]\n",
    "df = dask_client.persist(df)\n",
    "wait(df) # Make sure data is cached.\n",
    "operations(df)\n"
   ]
  },
  {
   "cell_type": "code",
   "execution_count": null,
   "id": "024a4779",
   "metadata": {},
   "outputs": [],
   "source": []
  },
  {
   "cell_type": "code",
   "execution_count": null,
   "id": "9b9f6c9d",
   "metadata": {},
   "outputs": [],
   "source": []
  }
 ],
 "metadata": {
  "kernelspec": {
   "display_name": "Python 3 (ipykernel)",
   "language": "python",
   "name": "python3"
  },
  "language_info": {
   "codemirror_mode": {
    "name": "ipython",
    "version": 3
   },
   "file_extension": ".py",
   "mimetype": "text/x-python",
   "name": "python",
   "nbconvert_exporter": "python",
   "pygments_lexer": "ipython3",
   "version": "3.9.7"
  }
 },
 "nbformat": 4,
 "nbformat_minor": 5
}
