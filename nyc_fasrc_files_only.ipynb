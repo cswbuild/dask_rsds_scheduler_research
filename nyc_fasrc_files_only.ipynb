{
 "cells": [
  {
   "cell_type": "markdown",
   "id": "94161fe2",
   "metadata": {},
   "source": [
    "# PIP INSTALL DEPENDENCIES - ONLY RUN THE FIRST TIME IN FASRC"
   ]
  },
  {
   "cell_type": "code",
   "execution_count": null,
   "id": "3d294c9b",
   "metadata": {},
   "outputs": [],
   "source": [
    "!pip install pyarrow"
   ]
  },
  {
   "cell_type": "code",
   "execution_count": null,
   "id": "7293d9f9",
   "metadata": {},
   "outputs": [],
   "source": [
    "!pip install git+https://github.com/gjoseph92/scheduler-profilers.git\n"
   ]
  },
  {
   "cell_type": "code",
   "execution_count": null,
   "id": "ff48047f",
   "metadata": {},
   "outputs": [],
   "source": [
    "!pip install git+https://github.com/mlkimmins/distributed.git@explore-worker-queue-2"
   ]
  },
  {
   "cell_type": "code",
   "execution_count": null,
   "id": "ecb44cd5",
   "metadata": {
    "scrolled": true
   },
   "outputs": [],
   "source": [
    "!pip install -r requirements.txt"
   ]
  },
  {
   "cell_type": "code",
   "execution_count": null,
   "id": "d3147df1",
   "metadata": {},
   "outputs": [],
   "source": [
    "!pip install py-spy "
   ]
  },
  {
   "cell_type": "markdown",
   "id": "df5f2b57",
   "metadata": {},
   "source": [
    "# MUST RESTART THE KERNEL FROM HERE"
   ]
  },
  {
   "cell_type": "code",
   "execution_count": null,
   "id": "6820030c",
   "metadata": {},
   "outputs": [],
   "source": []
  },
  {
   "cell_type": "code",
   "execution_count": null,
   "id": "4d8fe3b6",
   "metadata": {},
   "outputs": [],
   "source": []
  },
  {
   "cell_type": "markdown",
   "id": "c4cff520",
   "metadata": {},
   "source": [
    "Step 1: download and convert dataset from CSV to Parquet"
   ]
  },
  {
   "cell_type": "code",
   "execution_count": 1,
   "id": "d599ba3e",
   "metadata": {},
   "outputs": [],
   "source": [
    "from scheduler_profilers import pyspy_on_scheduler, viztrace_scheduler"
   ]
  },
  {
   "cell_type": "code",
   "execution_count": 2,
   "id": "a0bde071",
   "metadata": {},
   "outputs": [],
   "source": [
    "from dask.distributed import Client, LocalCluster\n",
    "import dask.distributed"
   ]
  },
  {
   "cell_type": "code",
   "execution_count": 3,
   "id": "a77e566e",
   "metadata": {},
   "outputs": [
    {
     "name": "stdout",
     "output_type": "stream",
     "text": [
      "dask distributed version: 2022.3.0+44.gcc96a43d\n"
     ]
    }
   ],
   "source": [
    "print('dask distributed version: %s' % dask.distributed.__version__)"
   ]
  },
  {
   "cell_type": "code",
   "execution_count": null,
   "id": "413bb2ba",
   "metadata": {},
   "outputs": [],
   "source": []
  },
  {
   "cell_type": "code",
   "execution_count": 4,
   "id": "d3ffc5e5",
   "metadata": {},
   "outputs": [],
   "source": [
    "import pandas as pd\n",
    "import pyarrow as pa\n",
    "import pyarrow.parquet as pq"
   ]
  },
  {
   "cell_type": "code",
   "execution_count": 5,
   "id": "2f183f6d",
   "metadata": {},
   "outputs": [],
   "source": [
    "import dask.dataframe as dd\n",
    "import pandas as pd\n",
    "import numpy as np\n",
    "from dask.distributed import Client, LocalCluster\n",
    "import dask\n",
    "from dask.distributed import get_task_stream"
   ]
  },
  {
   "cell_type": "code",
   "execution_count": 6,
   "id": "d99d2540",
   "metadata": {},
   "outputs": [],
   "source": [
    "import time"
   ]
  },
  {
   "cell_type": "code",
   "execution_count": 7,
   "id": "507c0db9",
   "metadata": {},
   "outputs": [
    {
     "name": "stdout",
     "output_type": "stream",
     "text": [
      "pandas version: 1.3.2\n",
      "numpy version: 1.19.5\n",
      "dask version: 2022.04.0\n"
     ]
    }
   ],
   "source": [
    "print('pandas version: %s' % pd.__version__)\n",
    "print('numpy version: %s' % np.__version__)\n",
    "print('dask version: %s' % dask.__version__)"
   ]
  },
  {
   "cell_type": "code",
   "execution_count": 8,
   "id": "af2316be",
   "metadata": {},
   "outputs": [
    {
     "name": "stdout",
     "output_type": "stream",
     "text": [
      "dask distributed version: 2022.3.0+44.gcc96a43d\n"
     ]
    }
   ],
   "source": [
    "print('dask distributed version: %s' % dask.distributed.__version__)"
   ]
  },
  {
   "cell_type": "markdown",
   "id": "61e2b761",
   "metadata": {},
   "source": [
    "https://docs.databricks.com/_static/notebooks/koalas-benchmark-distributed-execution.html?_ga=2.216403934.95291449.1648935555-599276868.1645477063"
   ]
  },
  {
   "cell_type": "code",
   "execution_count": null,
   "id": "d7122ef5",
   "metadata": {},
   "outputs": [],
   "source": [
    "filename = \"taxi_dataset_2009-13.txt\""
   ]
  },
  {
   "cell_type": "code",
   "execution_count": null,
   "id": "1621fe95",
   "metadata": {},
   "outputs": [],
   "source": [
    "with open(filename) as file:\n",
    "    csv_files = [line.rstrip() for line in file]\n",
    "# only choose yellow taxis\n",
    "yellow = list(filter(lambda x: \"yellow\" in x, csv_files))"
   ]
  },
  {
   "cell_type": "code",
   "execution_count": null,
   "id": "24e01ad8",
   "metadata": {},
   "outputs": [],
   "source": [
    "import re\n",
    "pattern = '/[^\\/]*\\.csv$/gm'\n",
    "\n",
    "for csv_url in yellow:\n",
    "#     get the filename only so I can sort by month / year\n",
    "    csv_name = re.findall(r\"[^\\/]*\\.csv$\",csv_url)\n",
    "    df = dd.read_csv(csv_url,dtype={'tolls_amount': 'float64'})\n",
    "\n",
    "    df = df.repartition(npartitions=4)\n",
    "    df.to_parquet(f'./tmp/trip_data_{csv_name}', write_index=False)\n"
   ]
  },
  {
   "cell_type": "code",
   "execution_count": null,
   "id": "50492a32",
   "metadata": {},
   "outputs": [],
   "source": []
  },
  {
   "cell_type": "markdown",
   "id": "377a7e5a",
   "metadata": {},
   "source": [
    "Read in parquet to dask"
   ]
  },
  {
   "cell_type": "code",
   "execution_count": null,
   "id": "2965a651",
   "metadata": {},
   "outputs": [],
   "source": []
  },
  {
   "cell_type": "code",
   "execution_count": null,
   "id": "b99424fc",
   "metadata": {},
   "outputs": [],
   "source": []
  }
 ],
 "metadata": {
  "kernelspec": {
   "display_name": "Python 3 (ipykernel)",
   "language": "python",
   "name": "python3"
  },
  "language_info": {
   "codemirror_mode": {
    "name": "ipython",
    "version": 3
   },
   "file_extension": ".py",
   "mimetype": "text/x-python",
   "name": "python",
   "nbconvert_exporter": "python",
   "pygments_lexer": "ipython3",
   "version": "3.8.12"
  }
 },
 "nbformat": 4,
 "nbformat_minor": 5
}
