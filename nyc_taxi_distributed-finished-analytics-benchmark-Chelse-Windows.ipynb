{
 "cells": [
  {
   "cell_type": "markdown",
   "id": "94161fe2",
   "metadata": {},
   "source": [
    "Step 1: download and convert dataset from CSV to Parquet"
   ]
  },
  {
   "cell_type": "code",
   "execution_count": 1,
   "id": "d3ffc5e5",
   "metadata": {},
   "outputs": [],
   "source": [
    "import pandas as pd\n",
    "import pyarrow as pa\n",
    "import pyarrow.parquet as pq"
   ]
  },
  {
   "cell_type": "code",
   "execution_count": 2,
   "id": "2f183f6d",
   "metadata": {},
   "outputs": [],
   "source": [
    "import dask.dataframe as dd\n",
    "import pandas as pd\n",
    "import numpy as np\n",
    "from dask.distributed import Client, LocalCluster\n",
    "import dask\n",
    "from dask.distributed import get_task_stream"
   ]
  },
  {
   "cell_type": "code",
   "execution_count": 3,
   "id": "d99d2540",
   "metadata": {},
   "outputs": [],
   "source": [
    "import time"
   ]
  },
  {
   "cell_type": "code",
   "execution_count": 4,
   "id": "507c0db9",
   "metadata": {},
   "outputs": [
    {
     "name": "stdout",
     "output_type": "stream",
     "text": [
      "pandas version: 1.4.2\n",
      "numpy version: 1.22.3\n",
      "dask version: 2022.05.0\n"
     ]
    }
   ],
   "source": [
    "print('pandas version: %s' % pd.__version__)\n",
    "print('numpy version: %s' % np.__version__)\n",
    "print('dask version: %s' % dask.__version__)"
   ]
  },
  {
   "cell_type": "markdown",
   "id": "61e2b761",
   "metadata": {},
   "source": [
    "https://docs.databricks.com/_static/notebooks/koalas-benchmark-distributed-execution.html?_ga=2.216403934.95291449.1648935555-599276868.1645477063"
   ]
  },
  {
   "cell_type": "code",
   "execution_count": 5,
   "id": "d7122ef5",
   "metadata": {},
   "outputs": [],
   "source": [
    "filename = \"taxi_dataset.txt\""
   ]
  },
  {
   "cell_type": "code",
   "execution_count": 6,
   "id": "1621fe95",
   "metadata": {},
   "outputs": [],
   "source": [
    "with open(filename) as file:\n",
    "    csv_files = [line.rstrip() for line in file]\n",
    "# only choose yellow taxis\n",
    "yellow = list(filter(lambda x: \"yellow\" in x, csv_files))"
   ]
  },
  {
   "cell_type": "code",
   "execution_count": null,
   "id": "f414529f",
   "metadata": {},
   "outputs": [],
   "source": []
  },
  {
   "cell_type": "code",
   "execution_count": 7,
   "id": "7a4ecb40",
   "metadata": {
    "scrolled": true
   },
   "outputs": [],
   "source": [
    "# make the list small for now\n",
    "yellow = ['https://s3.amazonaws.com/nyc-tlc/trip+data/yellow_tripdata_2013-11.csv']"
   ]
  },
  {
   "cell_type": "code",
   "execution_count": 8,
   "id": "7836d2a7",
   "metadata": {},
   "outputs": [
    {
     "data": {
      "text/plain": [
       "['https://s3.amazonaws.com/nyc-tlc/trip+data/yellow_tripdata_2013-11.csv']"
      ]
     },
     "execution_count": 8,
     "metadata": {},
     "output_type": "execute_result"
    }
   ],
   "source": [
    "yellow"
   ]
  },
  {
   "cell_type": "code",
   "execution_count": 11,
   "id": "24e01ad8",
   "metadata": {},
   "outputs": [
    {
     "name": "stdout",
     "output_type": "stream",
     "text": [
      "https://s3.amazonaws.com/nyc-tlc/trip+data/yellow_tripdata_2013-11.csv\n"
     ]
    }
   ],
   "source": [
    "import re\n",
    "pattern = '/[^\\/]*\\.csv$/gm'\n",
    "\n",
    "while len(yellow) > 0:\n",
    "    try:\n",
    "        csv_url = yellow.pop()\n",
    "        print(csv_url)\n",
    "    #     get the filename only so I can sort by month / year\n",
    "        csv_name = re.findall(r\"[^\\/]*\\.csv$\",csv_url)[0]\n",
    "        df = dd.read_csv(csv_url,dtype={'tolls_amount': 'float64',\n",
    "                                       'tip_amount': 'float64',\n",
    "                                        'Tip_Amt': 'float64',\n",
    "                                       'Tolls_Amt': 'float64',\n",
    "                                        'surcharge': 'float64',\n",
    "                                        'store_and_fwd_flag': 'object'\n",
    "                                       })\n",
    "\n",
    "        df = df.repartition(npartitions=4)\n",
    "        df.to_parquet(f'./tmp/trip_data_{csv_name}',\n",
    "                      compression=\"gzip\", \n",
    "                      engine=\"pyarrow\")\n",
    "    except Exception as e:\n",
    "        print(f\"failed, {csv_url}\")\n",
    "        print(e)\n"
   ]
  },
  {
   "cell_type": "code",
   "execution_count": null,
   "id": "50492a32",
   "metadata": {},
   "outputs": [],
   "source": []
  },
  {
   "cell_type": "markdown",
   "id": "377a7e5a",
   "metadata": {},
   "source": [
    "Read in parquet to dask"
   ]
  },
  {
   "cell_type": "code",
   "execution_count": 7,
   "id": "2965a651",
   "metadata": {},
   "outputs": [
    {
     "data": {
      "text/plain": [
       "151"
      ]
     },
     "execution_count": 7,
     "metadata": {},
     "output_type": "execute_result"
    }
   ],
   "source": [
    "#first rerun open filename as file block above, then this block for accurate length\n",
    "len(yellow)"
   ]
  },
  {
   "cell_type": "code",
   "execution_count": 16,
   "id": "b99424fc",
   "metadata": {},
   "outputs": [],
   "source": [
    "#client.close()"
   ]
  },
  {
   "cell_type": "code",
   "execution_count": 8,
   "id": "9e6e7929",
   "metadata": {
    "scrolled": true
   },
   "outputs": [],
   "source": [
    "from dask.distributed import get_task_stream\n",
    "\n",
    "#client = Client()"
   ]
  },
  {
   "cell_type": "code",
   "execution_count": 9,
   "id": "b5588aca",
   "metadata": {
    "scrolled": true
   },
   "outputs": [],
   "source": [
    "cluster = LocalCluster(n_workers=4,\n",
    "                      threads_per_worker=1,\n",
    "                      memory_limit='4GB')\n",
    "client = Client(cluster)"
   ]
  },
  {
   "cell_type": "code",
   "execution_count": 15,
   "id": "d0a9f44e",
   "metadata": {
    "scrolled": true
   },
   "outputs": [],
   "source": []
  },
  {
   "cell_type": "code",
   "execution_count": null,
   "id": "5bfc0a06",
   "metadata": {},
   "outputs": [],
   "source": []
  },
  {
   "cell_type": "code",
   "execution_count": null,
   "id": "d4a4a4d5",
   "metadata": {},
   "outputs": [],
   "source": []
  },
  {
   "cell_type": "code",
   "execution_count": null,
   "id": "e88df266",
   "metadata": {},
   "outputs": [],
   "source": []
  },
  {
   "cell_type": "code",
   "execution_count": null,
   "id": "7d9605b0",
   "metadata": {},
   "outputs": [],
   "source": []
  },
  {
   "cell_type": "markdown",
   "id": "9f53d078",
   "metadata": {},
   "source": [
    "# set up testbench"
   ]
  },
  {
   "cell_type": "code",
   "execution_count": 10,
   "id": "22c304b0",
   "metadata": {},
   "outputs": [],
   "source": [
    "def benchmark(f, df, benchmarks, task_name, **kwargs):\n",
    "    \"\"\"Benchmark the given function against the given DataFrame.\n",
    "    \n",
    "    Parameters\n",
    "    ----------\n",
    "    f: function to benchmark\n",
    "    df: data frame\n",
    "    benchmarks: container for benchmark results\n",
    "    name: task name\n",
    "    \n",
    "    Returns\n",
    "    -------\n",
    "    Duration (in seconds) of the given operation\n",
    "    \"\"\"\n",
    "    ret_benchmark_vals = {}\n",
    "    with get_task_stream(plot='save', filename=\"task-stream.html\") as ts:\n",
    "        start_time = time.time()\n",
    "        ret = f(df, **kwargs)\n",
    "        ret_benchmark_vals['raw_duration'] = time.time() - start_time\n",
    "        ret_benchmark_vals['history'] = ts.data\n",
    "    benchmarks[task_name] = ret_benchmark_vals\n",
    "    print(f\"{task_name} took: {benchmarks[task_name].get('raw_duration')} seconds\")\n",
    "    return benchmarks[task_name].get(\"raw_duration\")"
   ]
  },
  {
   "cell_type": "code",
   "execution_count": null,
   "id": "70d1cb08",
   "metadata": {},
   "outputs": [],
   "source": []
  },
  {
   "cell_type": "code",
   "execution_count": 11,
   "id": "907bf317",
   "metadata": {},
   "outputs": [],
   "source": [
    "import collections\n",
    "dask_benchmarks = collections.defaultdict(dict)\n",
    "# benchmarks = {\"task1\" : {\"stat1\": val, \"stat2\": val}}"
   ]
  },
  {
   "cell_type": "code",
   "execution_count": null,
   "id": "bcce67f6",
   "metadata": {},
   "outputs": [],
   "source": []
  },
  {
   "cell_type": "code",
   "execution_count": null,
   "id": "363b7c47",
   "metadata": {},
   "outputs": [],
   "source": []
  },
  {
   "cell_type": "markdown",
   "id": "fcd56729",
   "metadata": {},
   "source": [
    "# Define benchmark tasks"
   ]
  },
  {
   "cell_type": "code",
   "execution_count": 12,
   "id": "27f29793",
   "metadata": {},
   "outputs": [],
   "source": [
    "all_tasks = []"
   ]
  },
  {
   "cell_type": "code",
   "execution_count": 13,
   "id": "99183ef3",
   "metadata": {},
   "outputs": [],
   "source": [
    "# sum, then means = simple mapreduce\n",
    "def read_to_basic_ETL(df = None):\n",
    "    df = dd.read_parquet(\n",
    "    \"./tmp/\", \n",
    "    storage_options={\"anon\": True, 'use_ssl': True})    \n",
    "    return (df.fare_amount + df.tip_amount).mean().compute()\n",
    "all_tasks.append(read_to_basic_ETL)"
   ]
  },
  {
   "cell_type": "code",
   "execution_count": 14,
   "id": "ef763a5a",
   "metadata": {},
   "outputs": [],
   "source": [
    "# counts of values seen = simple map, groupby, reduce\n",
    "def count_values(df):\n",
    "    return df.fare_amount.value_counts().compute()\n",
    "all_tasks.append(count_values)"
   ]
  },
  {
   "cell_type": "code",
   "execution_count": 15,
   "id": "0afd10b4",
   "metadata": {},
   "outputs": [],
   "source": [
    "# cpu heavy arithmetic : mapreduce\n",
    "def complicated_arithmetic_operation(df):\n",
    "    theta_1 = df.pickup_longitude\n",
    "    phi_1 = df.pickup_latitude\n",
    "    theta_2 = df.dropoff_longitude\n",
    "    phi_2 = df.dropoff_latitude\n",
    "    temp = (np.sin((theta_2-theta_1)/2*np.pi/180)**2\n",
    "           + np.cos(theta_1*np.pi/180)*np.cos(theta_2*np.pi/180) * np.sin((phi_2-phi_1)/2*np.pi/180)**2)\n",
    "    ret = 2 * np.arctan2(np.sqrt(temp), np.sqrt(1-temp))\n",
    "    return ret.compute()\n",
    "all_tasks.append(complicated_arithmetic_operation)"
   ]
  },
  {
   "cell_type": "code",
   "execution_count": 16,
   "id": "5ddd348d",
   "metadata": {},
   "outputs": [],
   "source": [
    "def groupby_statistics(df):\n",
    "    return df.groupby(by='passenger_count').agg(\n",
    "      {\n",
    "        'total_amount': ['mean', 'std'], \n",
    "        'tip_amount': ['mean', 'std']\n",
    "      }\n",
    "    ).compute()\n",
    "all_tasks.append(groupby_statistics)"
   ]
  },
  {
   "cell_type": "code",
   "execution_count": 17,
   "id": "b36266c2",
   "metadata": {},
   "outputs": [],
   "source": [
    "# join two datasets\n",
    "def join_data(df):\n",
    "    return dd.merge(df, df, left_index=True, right_index=True).compute()\n",
    "all_tasks.append(join_data)"
   ]
  },
  {
   "cell_type": "code",
   "execution_count": 18,
   "id": "38bcee78",
   "metadata": {},
   "outputs": [
    {
     "data": {
      "text/plain": [
       "[<function __main__.read_to_basic_ETL(df=None)>,\n",
       " <function __main__.count_values(df)>,\n",
       " <function __main__.complicated_arithmetic_operation(df)>,\n",
       " <function __main__.groupby_statistics(df)>,\n",
       " <function __main__.join_data(df)>]"
      ]
     },
     "execution_count": 18,
     "metadata": {},
     "output_type": "execute_result"
    }
   ],
   "source": [
    "all_tasks"
   ]
  },
  {
   "cell_type": "code",
   "execution_count": null,
   "id": "b856a9ba",
   "metadata": {},
   "outputs": [],
   "source": []
  },
  {
   "cell_type": "code",
   "execution_count": null,
   "id": "d3369b20",
   "metadata": {},
   "outputs": [],
   "source": []
  },
  {
   "cell_type": "markdown",
   "id": "146f7c89",
   "metadata": {},
   "source": [
    "# run the tasks"
   ]
  },
  {
   "cell_type": "code",
   "execution_count": 19,
   "id": "7a8efdb8",
   "metadata": {},
   "outputs": [],
   "source": [
    "df = dd.read_parquet(\n",
    "    \"./tmp/\", \n",
    "    storage_options={\"anon\": True, 'use_ssl': True})"
   ]
  },
  {
   "cell_type": "code",
   "execution_count": 20,
   "id": "2c4cae69",
   "metadata": {
    "scrolled": false
   },
   "outputs": [],
   "source": [
    "# for task in all_tasks:\n",
    "#     benchmark(task, df=df, benchmarks = dask_benchmarks, task_name = task.__name__)"
   ]
  },
  {
   "cell_type": "code",
   "execution_count": null,
   "id": "6448e6b0",
   "metadata": {},
   "outputs": [],
   "source": []
  },
  {
   "cell_type": "code",
   "execution_count": 25,
   "id": "2b38963f",
   "metadata": {
    "scrolled": true
   },
   "outputs": [
    {
     "name": "stdout",
     "output_type": "stream",
     "text": [
      "read_to_basic_ETL took: 1.5093305110931396 seconds\n",
      "count_values took: 0.5255937576293945 seconds\n",
      "complicated_arithmetic_operation took: 3.2453343868255615 seconds\n",
      "groupby_statistics took: 13.304431915283203 seconds\n"
     ]
    },
    {
     "ename": "KeyboardInterrupt",
     "evalue": "",
     "output_type": "error",
     "traceback": [
      "\u001b[1;31m---------------------------------------------------------------------------\u001b[0m",
      "\u001b[1;31mKeyboardInterrupt\u001b[0m                         Traceback (most recent call last)",
      "Input \u001b[1;32mIn [25]\u001b[0m, in \u001b[0;36m<cell line: 1>\u001b[1;34m()\u001b[0m\n\u001b[1;32m----> 1\u001b[0m [benchmark(task, df\u001b[38;5;241m=\u001b[39mdf, benchmarks \u001b[38;5;241m=\u001b[39m dask_benchmarks, task_name \u001b[38;5;241m=\u001b[39m task\u001b[38;5;241m.\u001b[39m\u001b[38;5;18m__name__\u001b[39m) \u001b[38;5;28;01mfor\u001b[39;00m task \u001b[38;5;129;01min\u001b[39;00m all_tasks]\n",
      "Input \u001b[1;32mIn [25]\u001b[0m, in \u001b[0;36m<listcomp>\u001b[1;34m(.0)\u001b[0m\n\u001b[1;32m----> 1\u001b[0m [\u001b[43mbenchmark\u001b[49m\u001b[43m(\u001b[49m\u001b[43mtask\u001b[49m\u001b[43m,\u001b[49m\u001b[43m \u001b[49m\u001b[43mdf\u001b[49m\u001b[38;5;241;43m=\u001b[39;49m\u001b[43mdf\u001b[49m\u001b[43m,\u001b[49m\u001b[43m \u001b[49m\u001b[43mbenchmarks\u001b[49m\u001b[43m \u001b[49m\u001b[38;5;241;43m=\u001b[39;49m\u001b[43m \u001b[49m\u001b[43mdask_benchmarks\u001b[49m\u001b[43m,\u001b[49m\u001b[43m \u001b[49m\u001b[43mtask_name\u001b[49m\u001b[43m \u001b[49m\u001b[38;5;241;43m=\u001b[39;49m\u001b[43m \u001b[49m\u001b[43mtask\u001b[49m\u001b[38;5;241;43m.\u001b[39;49m\u001b[38;5;18;43m__name__\u001b[39;49m\u001b[43m)\u001b[49m \u001b[38;5;28;01mfor\u001b[39;00m task \u001b[38;5;129;01min\u001b[39;00m all_tasks]\n",
      "Input \u001b[1;32mIn [10]\u001b[0m, in \u001b[0;36mbenchmark\u001b[1;34m(f, df, benchmarks, task_name, **kwargs)\u001b[0m\n\u001b[0;32m     16\u001b[0m \u001b[38;5;28;01mwith\u001b[39;00m get_task_stream(plot\u001b[38;5;241m=\u001b[39m\u001b[38;5;124m'\u001b[39m\u001b[38;5;124msave\u001b[39m\u001b[38;5;124m'\u001b[39m, filename\u001b[38;5;241m=\u001b[39m\u001b[38;5;124m\"\u001b[39m\u001b[38;5;124mtask-stream.html\u001b[39m\u001b[38;5;124m\"\u001b[39m) \u001b[38;5;28;01mas\u001b[39;00m ts:\n\u001b[0;32m     17\u001b[0m     start_time \u001b[38;5;241m=\u001b[39m time\u001b[38;5;241m.\u001b[39mtime()\n\u001b[1;32m---> 18\u001b[0m     ret \u001b[38;5;241m=\u001b[39m f(df, \u001b[38;5;241m*\u001b[39m\u001b[38;5;241m*\u001b[39mkwargs)\n\u001b[0;32m     19\u001b[0m     ret_benchmark_vals[\u001b[38;5;124m'\u001b[39m\u001b[38;5;124mraw_duration\u001b[39m\u001b[38;5;124m'\u001b[39m] \u001b[38;5;241m=\u001b[39m time\u001b[38;5;241m.\u001b[39mtime() \u001b[38;5;241m-\u001b[39m start_time\n\u001b[0;32m     20\u001b[0m     ret_benchmark_vals[\u001b[38;5;124m'\u001b[39m\u001b[38;5;124mhistory\u001b[39m\u001b[38;5;124m'\u001b[39m] \u001b[38;5;241m=\u001b[39m ts\u001b[38;5;241m.\u001b[39mdata\n",
      "Input \u001b[1;32mIn [17]\u001b[0m, in \u001b[0;36mjoin_data\u001b[1;34m(df)\u001b[0m\n\u001b[0;32m      2\u001b[0m \u001b[38;5;28;01mdef\u001b[39;00m \u001b[38;5;21mjoin_data\u001b[39m(df):\n\u001b[1;32m----> 3\u001b[0m     \u001b[38;5;28;01mreturn\u001b[39;00m \u001b[43mdd\u001b[49m\u001b[38;5;241;43m.\u001b[39;49m\u001b[43mmerge\u001b[49m\u001b[43m(\u001b[49m\u001b[43mdf\u001b[49m\u001b[43m,\u001b[49m\u001b[43m \u001b[49m\u001b[43mdf\u001b[49m\u001b[43m,\u001b[49m\u001b[43m \u001b[49m\u001b[43mleft_index\u001b[49m\u001b[38;5;241;43m=\u001b[39;49m\u001b[38;5;28;43;01mTrue\u001b[39;49;00m\u001b[43m,\u001b[49m\u001b[43m \u001b[49m\u001b[43mright_index\u001b[49m\u001b[38;5;241;43m=\u001b[39;49m\u001b[38;5;28;43;01mTrue\u001b[39;49;00m\u001b[43m)\u001b[49m\u001b[38;5;241;43m.\u001b[39;49m\u001b[43mcompute\u001b[49m\u001b[43m(\u001b[49m\u001b[43m)\u001b[49m\n",
      "File \u001b[1;32m~\\AppData\\Local\\Programs\\Python\\Python310\\lib\\site-packages\\dask\\base.py:292\u001b[0m, in \u001b[0;36mDaskMethodsMixin.compute\u001b[1;34m(self, **kwargs)\u001b[0m\n\u001b[0;32m    268\u001b[0m \u001b[38;5;28;01mdef\u001b[39;00m \u001b[38;5;21mcompute\u001b[39m(\u001b[38;5;28mself\u001b[39m, \u001b[38;5;241m*\u001b[39m\u001b[38;5;241m*\u001b[39mkwargs):\n\u001b[0;32m    269\u001b[0m     \u001b[38;5;124;03m\"\"\"Compute this dask collection\u001b[39;00m\n\u001b[0;32m    270\u001b[0m \n\u001b[0;32m    271\u001b[0m \u001b[38;5;124;03m    This turns a lazy Dask collection into its in-memory equivalent.\u001b[39;00m\n\u001b[1;32m   (...)\u001b[0m\n\u001b[0;32m    290\u001b[0m \u001b[38;5;124;03m    dask.base.compute\u001b[39;00m\n\u001b[0;32m    291\u001b[0m \u001b[38;5;124;03m    \"\"\"\u001b[39;00m\n\u001b[1;32m--> 292\u001b[0m     (result,) \u001b[38;5;241m=\u001b[39m compute(\u001b[38;5;28mself\u001b[39m, traverse\u001b[38;5;241m=\u001b[39m\u001b[38;5;28;01mFalse\u001b[39;00m, \u001b[38;5;241m*\u001b[39m\u001b[38;5;241m*\u001b[39mkwargs)\n\u001b[0;32m    293\u001b[0m     \u001b[38;5;28;01mreturn\u001b[39;00m result\n",
      "File \u001b[1;32m~\\AppData\\Local\\Programs\\Python\\Python310\\lib\\site-packages\\dask\\base.py:575\u001b[0m, in \u001b[0;36mcompute\u001b[1;34m(traverse, optimize_graph, scheduler, get, *args, **kwargs)\u001b[0m\n\u001b[0;32m    572\u001b[0m     keys\u001b[38;5;241m.\u001b[39mappend(x\u001b[38;5;241m.\u001b[39m__dask_keys__())\n\u001b[0;32m    573\u001b[0m     postcomputes\u001b[38;5;241m.\u001b[39mappend(x\u001b[38;5;241m.\u001b[39m__dask_postcompute__())\n\u001b[1;32m--> 575\u001b[0m results \u001b[38;5;241m=\u001b[39m schedule(dsk, keys, \u001b[38;5;241m*\u001b[39m\u001b[38;5;241m*\u001b[39mkwargs)\n\u001b[0;32m    576\u001b[0m \u001b[38;5;28;01mreturn\u001b[39;00m repack([f(r, \u001b[38;5;241m*\u001b[39ma) \u001b[38;5;28;01mfor\u001b[39;00m r, (f, a) \u001b[38;5;129;01min\u001b[39;00m \u001b[38;5;28mzip\u001b[39m(results, postcomputes)])\n",
      "File \u001b[1;32m~\\AppData\\Local\\Programs\\Python\\Python310\\lib\\site-packages\\distributed\\client.py:3004\u001b[0m, in \u001b[0;36mClient.get\u001b[1;34m(self, dsk, keys, workers, allow_other_workers, resources, sync, asynchronous, direct, retries, priority, fifo_timeout, actors, **kwargs)\u001b[0m\n\u001b[0;32m   3002\u001b[0m         should_rejoin \u001b[38;5;241m=\u001b[39m \u001b[38;5;28;01mFalse\u001b[39;00m\n\u001b[0;32m   3003\u001b[0m \u001b[38;5;28;01mtry\u001b[39;00m:\n\u001b[1;32m-> 3004\u001b[0m     results \u001b[38;5;241m=\u001b[39m \u001b[38;5;28;43mself\u001b[39;49m\u001b[38;5;241;43m.\u001b[39;49m\u001b[43mgather\u001b[49m\u001b[43m(\u001b[49m\u001b[43mpacked\u001b[49m\u001b[43m,\u001b[49m\u001b[43m \u001b[49m\u001b[43masynchronous\u001b[49m\u001b[38;5;241;43m=\u001b[39;49m\u001b[43masynchronous\u001b[49m\u001b[43m,\u001b[49m\u001b[43m \u001b[49m\u001b[43mdirect\u001b[49m\u001b[38;5;241;43m=\u001b[39;49m\u001b[43mdirect\u001b[49m\u001b[43m)\u001b[49m\n\u001b[0;32m   3005\u001b[0m \u001b[38;5;28;01mfinally\u001b[39;00m:\n\u001b[0;32m   3006\u001b[0m     \u001b[38;5;28;01mfor\u001b[39;00m f \u001b[38;5;129;01min\u001b[39;00m futures\u001b[38;5;241m.\u001b[39mvalues():\n",
      "File \u001b[1;32m~\\AppData\\Local\\Programs\\Python\\Python310\\lib\\site-packages\\distributed\\client.py:2178\u001b[0m, in \u001b[0;36mClient.gather\u001b[1;34m(self, futures, errors, direct, asynchronous)\u001b[0m\n\u001b[0;32m   2176\u001b[0m \u001b[38;5;28;01melse\u001b[39;00m:\n\u001b[0;32m   2177\u001b[0m     local_worker \u001b[38;5;241m=\u001b[39m \u001b[38;5;28;01mNone\u001b[39;00m\n\u001b[1;32m-> 2178\u001b[0m \u001b[38;5;28;01mreturn\u001b[39;00m \u001b[38;5;28;43mself\u001b[39;49m\u001b[38;5;241;43m.\u001b[39;49m\u001b[43msync\u001b[49m\u001b[43m(\u001b[49m\n\u001b[0;32m   2179\u001b[0m \u001b[43m    \u001b[49m\u001b[38;5;28;43mself\u001b[39;49m\u001b[38;5;241;43m.\u001b[39;49m\u001b[43m_gather\u001b[49m\u001b[43m,\u001b[49m\n\u001b[0;32m   2180\u001b[0m \u001b[43m    \u001b[49m\u001b[43mfutures\u001b[49m\u001b[43m,\u001b[49m\n\u001b[0;32m   2181\u001b[0m \u001b[43m    \u001b[49m\u001b[43merrors\u001b[49m\u001b[38;5;241;43m=\u001b[39;49m\u001b[43merrors\u001b[49m\u001b[43m,\u001b[49m\n\u001b[0;32m   2182\u001b[0m \u001b[43m    \u001b[49m\u001b[43mdirect\u001b[49m\u001b[38;5;241;43m=\u001b[39;49m\u001b[43mdirect\u001b[49m\u001b[43m,\u001b[49m\n\u001b[0;32m   2183\u001b[0m \u001b[43m    \u001b[49m\u001b[43mlocal_worker\u001b[49m\u001b[38;5;241;43m=\u001b[39;49m\u001b[43mlocal_worker\u001b[49m\u001b[43m,\u001b[49m\n\u001b[0;32m   2184\u001b[0m \u001b[43m    \u001b[49m\u001b[43masynchronous\u001b[49m\u001b[38;5;241;43m=\u001b[39;49m\u001b[43masynchronous\u001b[49m\u001b[43m,\u001b[49m\n\u001b[0;32m   2185\u001b[0m \u001b[43m\u001b[49m\u001b[43m)\u001b[49m\n",
      "File \u001b[1;32m~\\AppData\\Local\\Programs\\Python\\Python310\\lib\\site-packages\\distributed\\utils.py:318\u001b[0m, in \u001b[0;36mSyncMethodMixin.sync\u001b[1;34m(self, func, asynchronous, callback_timeout, *args, **kwargs)\u001b[0m\n\u001b[0;32m    316\u001b[0m     \u001b[38;5;28;01mreturn\u001b[39;00m future\n\u001b[0;32m    317\u001b[0m \u001b[38;5;28;01melse\u001b[39;00m:\n\u001b[1;32m--> 318\u001b[0m     \u001b[38;5;28;01mreturn\u001b[39;00m sync(\n\u001b[0;32m    319\u001b[0m         \u001b[38;5;28mself\u001b[39m\u001b[38;5;241m.\u001b[39mloop, func, \u001b[38;5;241m*\u001b[39margs, callback_timeout\u001b[38;5;241m=\u001b[39mcallback_timeout, \u001b[38;5;241m*\u001b[39m\u001b[38;5;241m*\u001b[39mkwargs\n\u001b[0;32m    320\u001b[0m     )\n",
      "File \u001b[1;32m~\\AppData\\Local\\Programs\\Python\\Python310\\lib\\site-packages\\distributed\\utils.py:381\u001b[0m, in \u001b[0;36msync\u001b[1;34m(loop, func, callback_timeout, *args, **kwargs)\u001b[0m\n\u001b[0;32m    379\u001b[0m \u001b[38;5;28;01melse\u001b[39;00m:\n\u001b[0;32m    380\u001b[0m     \u001b[38;5;28;01mwhile\u001b[39;00m \u001b[38;5;129;01mnot\u001b[39;00m e\u001b[38;5;241m.\u001b[39mis_set():\n\u001b[1;32m--> 381\u001b[0m         \u001b[43mwait\u001b[49m\u001b[43m(\u001b[49m\u001b[38;5;241;43m10\u001b[39;49m\u001b[43m)\u001b[49m\n\u001b[0;32m    383\u001b[0m \u001b[38;5;28;01mif\u001b[39;00m error:\n\u001b[0;32m    384\u001b[0m     typ, exc, tb \u001b[38;5;241m=\u001b[39m error\n",
      "File \u001b[1;32m~\\AppData\\Local\\Programs\\Python\\Python310\\lib\\site-packages\\distributed\\utils.py:370\u001b[0m, in \u001b[0;36msync.<locals>.wait\u001b[1;34m(timeout)\u001b[0m\n\u001b[0;32m    368\u001b[0m \u001b[38;5;28;01mdef\u001b[39;00m \u001b[38;5;21mwait\u001b[39m(timeout):\n\u001b[0;32m    369\u001b[0m     \u001b[38;5;28;01mtry\u001b[39;00m:\n\u001b[1;32m--> 370\u001b[0m         \u001b[38;5;28;01mreturn\u001b[39;00m \u001b[43me\u001b[49m\u001b[38;5;241;43m.\u001b[39;49m\u001b[43mwait\u001b[49m\u001b[43m(\u001b[49m\u001b[43mtimeout\u001b[49m\u001b[43m)\u001b[49m\n\u001b[0;32m    371\u001b[0m     \u001b[38;5;28;01mexcept\u001b[39;00m \u001b[38;5;167;01mKeyboardInterrupt\u001b[39;00m:\n\u001b[0;32m    372\u001b[0m         loop\u001b[38;5;241m.\u001b[39madd_callback(cancel)\n",
      "File \u001b[1;32m~\\AppData\\Local\\Programs\\Python\\Python310\\lib\\threading.py:600\u001b[0m, in \u001b[0;36mEvent.wait\u001b[1;34m(self, timeout)\u001b[0m\n\u001b[0;32m    598\u001b[0m signaled \u001b[38;5;241m=\u001b[39m \u001b[38;5;28mself\u001b[39m\u001b[38;5;241m.\u001b[39m_flag\n\u001b[0;32m    599\u001b[0m \u001b[38;5;28;01mif\u001b[39;00m \u001b[38;5;129;01mnot\u001b[39;00m signaled:\n\u001b[1;32m--> 600\u001b[0m     signaled \u001b[38;5;241m=\u001b[39m \u001b[38;5;28;43mself\u001b[39;49m\u001b[38;5;241;43m.\u001b[39;49m\u001b[43m_cond\u001b[49m\u001b[38;5;241;43m.\u001b[39;49m\u001b[43mwait\u001b[49m\u001b[43m(\u001b[49m\u001b[43mtimeout\u001b[49m\u001b[43m)\u001b[49m\n\u001b[0;32m    601\u001b[0m \u001b[38;5;28;01mreturn\u001b[39;00m signaled\n",
      "File \u001b[1;32m~\\AppData\\Local\\Programs\\Python\\Python310\\lib\\threading.py:324\u001b[0m, in \u001b[0;36mCondition.wait\u001b[1;34m(self, timeout)\u001b[0m\n\u001b[0;32m    322\u001b[0m \u001b[38;5;28;01melse\u001b[39;00m:\n\u001b[0;32m    323\u001b[0m     \u001b[38;5;28;01mif\u001b[39;00m timeout \u001b[38;5;241m>\u001b[39m \u001b[38;5;241m0\u001b[39m:\n\u001b[1;32m--> 324\u001b[0m         gotit \u001b[38;5;241m=\u001b[39m \u001b[43mwaiter\u001b[49m\u001b[38;5;241;43m.\u001b[39;49m\u001b[43macquire\u001b[49m\u001b[43m(\u001b[49m\u001b[38;5;28;43;01mTrue\u001b[39;49;00m\u001b[43m,\u001b[49m\u001b[43m \u001b[49m\u001b[43mtimeout\u001b[49m\u001b[43m)\u001b[49m\n\u001b[0;32m    325\u001b[0m     \u001b[38;5;28;01melse\u001b[39;00m:\n\u001b[0;32m    326\u001b[0m         gotit \u001b[38;5;241m=\u001b[39m waiter\u001b[38;5;241m.\u001b[39macquire(\u001b[38;5;28;01mFalse\u001b[39;00m)\n",
      "\u001b[1;31mKeyboardInterrupt\u001b[0m: "
     ]
    }
   ],
   "source": [
    "[benchmark(task, df=df, benchmarks = dask_benchmarks, task_name = task.__name__) for task in all_tasks]"
   ]
  },
  {
   "cell_type": "code",
   "execution_count": null,
   "id": "1c3e1c9c",
   "metadata": {},
   "outputs": [],
   "source": []
  },
  {
   "cell_type": "code",
   "execution_count": 23,
   "id": "110d5327",
   "metadata": {},
   "outputs": [],
   "source": [
    "#client.close()"
   ]
  },
  {
   "cell_type": "markdown",
   "id": "4568e84b",
   "metadata": {},
   "source": [
    "# history groking"
   ]
  },
  {
   "cell_type": "code",
   "execution_count": 26,
   "id": "fc5c511d",
   "metadata": {},
   "outputs": [],
   "source": [
    "# add the analyzed dataframes\n",
    "\n",
    "for task_name, output_values in dask_benchmarks.items():\n",
    "    dask_hx = output_values.get(\"history\")\n",
    "    hx_df = pd.DataFrame (dask_hx, columns = ['worker','status','nbytes', 'thread', 'type', 'typename', 'metadata', 'startstops', 'key'])\n",
    "    hx_ddf = dd.from_pandas(hx_df, npartitions=1)\n",
    "    exploded_df = hx_ddf.explode(\"startstops\")\n",
    "    exploded_df['action'] = exploded_df['startstops'].apply(lambda x: x['action'], meta = (\"action\", str))\n",
    "    exploded_df['start'] = exploded_df['startstops'].apply(lambda x: x['start'], meta = (\"start\", np.float64))\n",
    "    exploded_df['end'] = exploded_df['startstops'].apply(lambda x: x['stop'], meta = (\"stop\", np.float64))\n",
    "    exploded_df['action_duration'] = exploded_df['end'] - exploded_df['start']\n",
    "    exploded_df_only_agg_fields = exploded_df[['worker', 'action', 'action_duration']]\n",
    "    time_per_worker_and_action = exploded_df_only_agg_fields.groupby(['worker','action']).agg(\"sum\")\n",
    "    nbytes_per_worker = hx_ddf[['worker', 'nbytes']].groupby([\"worker\"]).agg(\"sum\")\n",
    "    output_values[\"time_per_worker_and_action\"] = time_per_worker_and_action.compute()\n",
    "    output_values[\"nbytes_per_worker\"] = nbytes_per_worker.compute()"
   ]
  },
  {
   "cell_type": "code",
   "execution_count": 27,
   "id": "79a15a70",
   "metadata": {},
   "outputs": [],
   "source": [
    "#client.close()"
   ]
  },
  {
   "cell_type": "code",
   "execution_count": 48,
   "id": "a9009dc7",
   "metadata": {},
   "outputs": [
    {
     "data": {
      "text/html": [
       "<div>\n",
       "<style scoped>\n",
       "    .dataframe tbody tr th:only-of-type {\n",
       "        vertical-align: middle;\n",
       "    }\n",
       "\n",
       "    .dataframe tbody tr th {\n",
       "        vertical-align: top;\n",
       "    }\n",
       "\n",
       "    .dataframe thead th {\n",
       "        text-align: right;\n",
       "    }\n",
       "</style>\n",
       "<table border=\"1\" class=\"dataframe\">\n",
       "  <thead>\n",
       "    <tr style=\"text-align: right;\">\n",
       "      <th></th>\n",
       "      <th></th>\n",
       "      <th>action_duration</th>\n",
       "    </tr>\n",
       "    <tr>\n",
       "      <th>worker</th>\n",
       "      <th>action</th>\n",
       "      <th></th>\n",
       "    </tr>\n",
       "  </thead>\n",
       "  <tbody>\n",
       "    <tr>\n",
       "      <th rowspan=\"3\" valign=\"top\">tcp://127.0.0.1:56243</th>\n",
       "      <th>compute</th>\n",
       "      <td>0.603825</td>\n",
       "    </tr>\n",
       "    <tr>\n",
       "      <th>deserialize</th>\n",
       "      <td>0.324824</td>\n",
       "    </tr>\n",
       "    <tr>\n",
       "      <th>transfer</th>\n",
       "      <td>0.022714</td>\n",
       "    </tr>\n",
       "    <tr>\n",
       "      <th rowspan=\"3\" valign=\"top\">tcp://127.0.0.1:56246</th>\n",
       "      <th>compute</th>\n",
       "      <td>0.604824</td>\n",
       "    </tr>\n",
       "    <tr>\n",
       "      <th>deserialize</th>\n",
       "      <td>0.300908</td>\n",
       "    </tr>\n",
       "    <tr>\n",
       "      <th>transfer</th>\n",
       "      <td>0.023110</td>\n",
       "    </tr>\n",
       "    <tr>\n",
       "      <th rowspan=\"2\" valign=\"top\">tcp://127.0.0.1:56249</th>\n",
       "      <th>compute</th>\n",
       "      <td>0.611411</td>\n",
       "    </tr>\n",
       "    <tr>\n",
       "      <th>deserialize</th>\n",
       "      <td>0.300650</td>\n",
       "    </tr>\n",
       "    <tr>\n",
       "      <th rowspan=\"2\" valign=\"top\">tcp://127.0.0.1:56253</th>\n",
       "      <th>compute</th>\n",
       "      <td>0.671207</td>\n",
       "    </tr>\n",
       "    <tr>\n",
       "      <th>deserialize</th>\n",
       "      <td>0.294801</td>\n",
       "    </tr>\n",
       "  </tbody>\n",
       "</table>\n",
       "</div>"
      ],
      "text/plain": [
       "                                   action_duration\n",
       "worker                action                      \n",
       "tcp://127.0.0.1:56243 compute             0.603825\n",
       "                      deserialize         0.324824\n",
       "                      transfer            0.022714\n",
       "tcp://127.0.0.1:56246 compute             0.604824\n",
       "                      deserialize         0.300908\n",
       "                      transfer            0.023110\n",
       "tcp://127.0.0.1:56249 compute             0.611411\n",
       "                      deserialize         0.300650\n",
       "tcp://127.0.0.1:56253 compute             0.671207\n",
       "                      deserialize         0.294801"
      ]
     },
     "execution_count": 48,
     "metadata": {},
     "output_type": "execute_result"
    }
   ],
   "source": [
    "# access the analyzed dataframes like so:\n",
    "dask_benchmarks['read_to_basic_ETL'][\"time_per_worker_and_action\"]"
   ]
  },
  {
   "cell_type": "code",
   "execution_count": 49,
   "id": "e500b644",
   "metadata": {},
   "outputs": [
    {
     "data": {
      "text/html": [
       "<div>\n",
       "<style scoped>\n",
       "    .dataframe tbody tr th:only-of-type {\n",
       "        vertical-align: middle;\n",
       "    }\n",
       "\n",
       "    .dataframe tbody tr th {\n",
       "        vertical-align: top;\n",
       "    }\n",
       "\n",
       "    .dataframe thead th {\n",
       "        text-align: right;\n",
       "    }\n",
       "</style>\n",
       "<table border=\"1\" class=\"dataframe\">\n",
       "  <thead>\n",
       "    <tr style=\"text-align: right;\">\n",
       "      <th></th>\n",
       "      <th>nbytes</th>\n",
       "    </tr>\n",
       "    <tr>\n",
       "      <th>worker</th>\n",
       "      <th></th>\n",
       "    </tr>\n",
       "  </thead>\n",
       "  <tbody>\n",
       "    <tr>\n",
       "      <th>tcp://127.0.0.1:56243</th>\n",
       "      <td>55600448</td>\n",
       "    </tr>\n",
       "    <tr>\n",
       "      <th>tcp://127.0.0.1:56246</th>\n",
       "      <td>56012688</td>\n",
       "    </tr>\n",
       "    <tr>\n",
       "      <th>tcp://127.0.0.1:56249</th>\n",
       "      <td>56012624</td>\n",
       "    </tr>\n",
       "    <tr>\n",
       "      <th>tcp://127.0.0.1:56253</th>\n",
       "      <td>62599088</td>\n",
       "    </tr>\n",
       "  </tbody>\n",
       "</table>\n",
       "</div>"
      ],
      "text/plain": [
       "                         nbytes\n",
       "worker                         \n",
       "tcp://127.0.0.1:56243  55600448\n",
       "tcp://127.0.0.1:56246  56012688\n",
       "tcp://127.0.0.1:56249  56012624\n",
       "tcp://127.0.0.1:56253  62599088"
      ]
     },
     "execution_count": 49,
     "metadata": {},
     "output_type": "execute_result"
    }
   ],
   "source": [
    "dask_benchmarks['read_to_basic_ETL'][\"nbytes_per_worker\"]"
   ]
  },
  {
   "cell_type": "code",
   "execution_count": 50,
   "id": "b6462dc3",
   "metadata": {},
   "outputs": [
    {
     "data": {
      "text/html": [
       "<div>\n",
       "<style scoped>\n",
       "    .dataframe tbody tr th:only-of-type {\n",
       "        vertical-align: middle;\n",
       "    }\n",
       "\n",
       "    .dataframe tbody tr th {\n",
       "        vertical-align: top;\n",
       "    }\n",
       "\n",
       "    .dataframe thead th {\n",
       "        text-align: right;\n",
       "    }\n",
       "</style>\n",
       "<table border=\"1\" class=\"dataframe\">\n",
       "  <thead>\n",
       "    <tr style=\"text-align: right;\">\n",
       "      <th></th>\n",
       "      <th></th>\n",
       "      <th>action_duration</th>\n",
       "    </tr>\n",
       "    <tr>\n",
       "      <th>worker</th>\n",
       "      <th>action</th>\n",
       "      <th></th>\n",
       "    </tr>\n",
       "  </thead>\n",
       "  <tbody>\n",
       "    <tr>\n",
       "      <th rowspan=\"2\" valign=\"top\">tcp://127.0.0.1:56243</th>\n",
       "      <th>compute</th>\n",
       "      <td>0.445477</td>\n",
       "    </tr>\n",
       "    <tr>\n",
       "      <th>transfer</th>\n",
       "      <td>0.007983</td>\n",
       "    </tr>\n",
       "    <tr>\n",
       "      <th>tcp://127.0.0.1:56246</th>\n",
       "      <th>compute</th>\n",
       "      <td>0.373273</td>\n",
       "    </tr>\n",
       "    <tr>\n",
       "      <th>tcp://127.0.0.1:56249</th>\n",
       "      <th>compute</th>\n",
       "      <td>0.396725</td>\n",
       "    </tr>\n",
       "    <tr>\n",
       "      <th>tcp://127.0.0.1:56253</th>\n",
       "      <th>compute</th>\n",
       "      <td>0.435246</td>\n",
       "    </tr>\n",
       "  </tbody>\n",
       "</table>\n",
       "</div>"
      ],
      "text/plain": [
       "                                action_duration\n",
       "worker                action                   \n",
       "tcp://127.0.0.1:56243 compute          0.445477\n",
       "                      transfer         0.007983\n",
       "tcp://127.0.0.1:56246 compute          0.373273\n",
       "tcp://127.0.0.1:56249 compute          0.396725\n",
       "tcp://127.0.0.1:56253 compute          0.435246"
      ]
     },
     "execution_count": 50,
     "metadata": {},
     "output_type": "execute_result"
    }
   ],
   "source": [
    "dask_benchmarks['count_values'][\"time_per_worker_and_action\"]"
   ]
  },
  {
   "cell_type": "code",
   "execution_count": 51,
   "id": "f498c025",
   "metadata": {},
   "outputs": [
    {
     "data": {
      "text/html": [
       "<div>\n",
       "<style scoped>\n",
       "    .dataframe tbody tr th:only-of-type {\n",
       "        vertical-align: middle;\n",
       "    }\n",
       "\n",
       "    .dataframe tbody tr th {\n",
       "        vertical-align: top;\n",
       "    }\n",
       "\n",
       "    .dataframe thead th {\n",
       "        text-align: right;\n",
       "    }\n",
       "</style>\n",
       "<table border=\"1\" class=\"dataframe\">\n",
       "  <thead>\n",
       "    <tr style=\"text-align: right;\">\n",
       "      <th></th>\n",
       "      <th>nbytes</th>\n",
       "    </tr>\n",
       "    <tr>\n",
       "      <th>worker</th>\n",
       "      <th></th>\n",
       "    </tr>\n",
       "  </thead>\n",
       "  <tbody>\n",
       "    <tr>\n",
       "      <th>tcp://127.0.0.1:56243</th>\n",
       "      <td>55176</td>\n",
       "    </tr>\n",
       "    <tr>\n",
       "      <th>tcp://127.0.0.1:56246</th>\n",
       "      <td>27280</td>\n",
       "    </tr>\n",
       "    <tr>\n",
       "      <th>tcp://127.0.0.1:56249</th>\n",
       "      <td>28432</td>\n",
       "    </tr>\n",
       "    <tr>\n",
       "      <th>tcp://127.0.0.1:56253</th>\n",
       "      <td>28608</td>\n",
       "    </tr>\n",
       "  </tbody>\n",
       "</table>\n",
       "</div>"
      ],
      "text/plain": [
       "                       nbytes\n",
       "worker                       \n",
       "tcp://127.0.0.1:56243   55176\n",
       "tcp://127.0.0.1:56246   27280\n",
       "tcp://127.0.0.1:56249   28432\n",
       "tcp://127.0.0.1:56253   28608"
      ]
     },
     "execution_count": 51,
     "metadata": {},
     "output_type": "execute_result"
    }
   ],
   "source": [
    "dask_benchmarks['count_values'][\"nbytes_per_worker\"]"
   ]
  },
  {
   "cell_type": "code",
   "execution_count": 52,
   "id": "32db663e",
   "metadata": {},
   "outputs": [
    {
     "data": {
      "text/html": [
       "<div>\n",
       "<style scoped>\n",
       "    .dataframe tbody tr th:only-of-type {\n",
       "        vertical-align: middle;\n",
       "    }\n",
       "\n",
       "    .dataframe tbody tr th {\n",
       "        vertical-align: top;\n",
       "    }\n",
       "\n",
       "    .dataframe thead th {\n",
       "        text-align: right;\n",
       "    }\n",
       "</style>\n",
       "<table border=\"1\" class=\"dataframe\">\n",
       "  <thead>\n",
       "    <tr style=\"text-align: right;\">\n",
       "      <th></th>\n",
       "      <th></th>\n",
       "      <th>action_duration</th>\n",
       "    </tr>\n",
       "    <tr>\n",
       "      <th>worker</th>\n",
       "      <th>action</th>\n",
       "      <th></th>\n",
       "    </tr>\n",
       "  </thead>\n",
       "  <tbody>\n",
       "    <tr>\n",
       "      <th>tcp://127.0.0.1:56243</th>\n",
       "      <th>compute</th>\n",
       "      <td>2.195702</td>\n",
       "    </tr>\n",
       "    <tr>\n",
       "      <th>tcp://127.0.0.1:56246</th>\n",
       "      <th>compute</th>\n",
       "      <td>2.258475</td>\n",
       "    </tr>\n",
       "    <tr>\n",
       "      <th>tcp://127.0.0.1:56249</th>\n",
       "      <th>compute</th>\n",
       "      <td>2.413339</td>\n",
       "    </tr>\n",
       "    <tr>\n",
       "      <th>tcp://127.0.0.1:56253</th>\n",
       "      <th>compute</th>\n",
       "      <td>2.591246</td>\n",
       "    </tr>\n",
       "  </tbody>\n",
       "</table>\n",
       "</div>"
      ],
      "text/plain": [
       "                               action_duration\n",
       "worker                action                  \n",
       "tcp://127.0.0.1:56243 compute         2.195702\n",
       "tcp://127.0.0.1:56246 compute         2.258475\n",
       "tcp://127.0.0.1:56249 compute         2.413339\n",
       "tcp://127.0.0.1:56253 compute         2.591246"
      ]
     },
     "execution_count": 52,
     "metadata": {},
     "output_type": "execute_result"
    }
   ],
   "source": [
    "dask_benchmarks['complicated_arithmetic_operation'][\"time_per_worker_and_action\"]"
   ]
  },
  {
   "cell_type": "code",
   "execution_count": 53,
   "id": "e6a1a3e8",
   "metadata": {},
   "outputs": [
    {
     "data": {
      "text/html": [
       "<div>\n",
       "<style scoped>\n",
       "    .dataframe tbody tr th:only-of-type {\n",
       "        vertical-align: middle;\n",
       "    }\n",
       "\n",
       "    .dataframe tbody tr th {\n",
       "        vertical-align: top;\n",
       "    }\n",
       "\n",
       "    .dataframe thead th {\n",
       "        text-align: right;\n",
       "    }\n",
       "</style>\n",
       "<table border=\"1\" class=\"dataframe\">\n",
       "  <thead>\n",
       "    <tr style=\"text-align: right;\">\n",
       "      <th></th>\n",
       "      <th>nbytes</th>\n",
       "    </tr>\n",
       "    <tr>\n",
       "      <th>worker</th>\n",
       "      <th></th>\n",
       "    </tr>\n",
       "  </thead>\n",
       "  <tbody>\n",
       "    <tr>\n",
       "      <th>tcp://127.0.0.1:56243</th>\n",
       "      <td>55600288</td>\n",
       "    </tr>\n",
       "    <tr>\n",
       "      <th>tcp://127.0.0.1:56246</th>\n",
       "      <td>56012496</td>\n",
       "    </tr>\n",
       "    <tr>\n",
       "      <th>tcp://127.0.0.1:56249</th>\n",
       "      <td>56012496</td>\n",
       "    </tr>\n",
       "    <tr>\n",
       "      <th>tcp://127.0.0.1:56253</th>\n",
       "      <td>62598960</td>\n",
       "    </tr>\n",
       "  </tbody>\n",
       "</table>\n",
       "</div>"
      ],
      "text/plain": [
       "                         nbytes\n",
       "worker                         \n",
       "tcp://127.0.0.1:56243  55600288\n",
       "tcp://127.0.0.1:56246  56012496\n",
       "tcp://127.0.0.1:56249  56012496\n",
       "tcp://127.0.0.1:56253  62598960"
      ]
     },
     "execution_count": 53,
     "metadata": {},
     "output_type": "execute_result"
    }
   ],
   "source": [
    "dask_benchmarks['complicated_arithmetic_operation'][\"nbytes_per_worker\"]"
   ]
  },
  {
   "cell_type": "code",
   "execution_count": 54,
   "id": "2631171c",
   "metadata": {
    "scrolled": false
   },
   "outputs": [
    {
     "data": {
      "text/html": [
       "<div>\n",
       "<style scoped>\n",
       "    .dataframe tbody tr th:only-of-type {\n",
       "        vertical-align: middle;\n",
       "    }\n",
       "\n",
       "    .dataframe tbody tr th {\n",
       "        vertical-align: top;\n",
       "    }\n",
       "\n",
       "    .dataframe thead th {\n",
       "        text-align: right;\n",
       "    }\n",
       "</style>\n",
       "<table border=\"1\" class=\"dataframe\">\n",
       "  <thead>\n",
       "    <tr style=\"text-align: right;\">\n",
       "      <th></th>\n",
       "      <th></th>\n",
       "      <th>action_duration</th>\n",
       "    </tr>\n",
       "    <tr>\n",
       "      <th>worker</th>\n",
       "      <th>action</th>\n",
       "      <th></th>\n",
       "    </tr>\n",
       "  </thead>\n",
       "  <tbody>\n",
       "    <tr>\n",
       "      <th rowspan=\"2\" valign=\"top\">tcp://127.0.0.1:56243</th>\n",
       "      <th>compute</th>\n",
       "      <td>8.300264</td>\n",
       "    </tr>\n",
       "    <tr>\n",
       "      <th>transfer</th>\n",
       "      <td>0.013252</td>\n",
       "    </tr>\n",
       "    <tr>\n",
       "      <th>tcp://127.0.0.1:56246</th>\n",
       "      <th>compute</th>\n",
       "      <td>10.458080</td>\n",
       "    </tr>\n",
       "    <tr>\n",
       "      <th>tcp://127.0.0.1:56249</th>\n",
       "      <th>compute</th>\n",
       "      <td>13.187732</td>\n",
       "    </tr>\n",
       "    <tr>\n",
       "      <th>tcp://127.0.0.1:56253</th>\n",
       "      <th>compute</th>\n",
       "      <td>10.340395</td>\n",
       "    </tr>\n",
       "  </tbody>\n",
       "</table>\n",
       "</div>"
      ],
      "text/plain": [
       "                                action_duration\n",
       "worker                action                   \n",
       "tcp://127.0.0.1:56243 compute          8.300264\n",
       "                      transfer         0.013252\n",
       "tcp://127.0.0.1:56246 compute         10.458080\n",
       "tcp://127.0.0.1:56249 compute         13.187732\n",
       "tcp://127.0.0.1:56253 compute         10.340395"
      ]
     },
     "execution_count": 54,
     "metadata": {},
     "output_type": "execute_result"
    }
   ],
   "source": [
    "dask_benchmarks['groupby_statistics'][\"time_per_worker_and_action\"]"
   ]
  },
  {
   "cell_type": "code",
   "execution_count": 55,
   "id": "f05dcd66",
   "metadata": {},
   "outputs": [
    {
     "data": {
      "text/html": [
       "<div>\n",
       "<style scoped>\n",
       "    .dataframe tbody tr th:only-of-type {\n",
       "        vertical-align: middle;\n",
       "    }\n",
       "\n",
       "    .dataframe tbody tr th {\n",
       "        vertical-align: top;\n",
       "    }\n",
       "\n",
       "    .dataframe thead th {\n",
       "        text-align: right;\n",
       "    }\n",
       "</style>\n",
       "<table border=\"1\" class=\"dataframe\">\n",
       "  <thead>\n",
       "    <tr style=\"text-align: right;\">\n",
       "      <th></th>\n",
       "      <th>nbytes</th>\n",
       "    </tr>\n",
       "    <tr>\n",
       "      <th>worker</th>\n",
       "      <th></th>\n",
       "    </tr>\n",
       "  </thead>\n",
       "  <tbody>\n",
       "    <tr>\n",
       "      <th>tcp://127.0.0.1:56243</th>\n",
       "      <td>7672</td>\n",
       "    </tr>\n",
       "    <tr>\n",
       "      <th>tcp://127.0.0.1:56246</th>\n",
       "      <td>5120</td>\n",
       "    </tr>\n",
       "    <tr>\n",
       "      <th>tcp://127.0.0.1:56249</th>\n",
       "      <td>5120</td>\n",
       "    </tr>\n",
       "    <tr>\n",
       "      <th>tcp://127.0.0.1:56253</th>\n",
       "      <td>5120</td>\n",
       "    </tr>\n",
       "  </tbody>\n",
       "</table>\n",
       "</div>"
      ],
      "text/plain": [
       "                       nbytes\n",
       "worker                       \n",
       "tcp://127.0.0.1:56243    7672\n",
       "tcp://127.0.0.1:56246    5120\n",
       "tcp://127.0.0.1:56249    5120\n",
       "tcp://127.0.0.1:56253    5120"
      ]
     },
     "execution_count": 55,
     "metadata": {},
     "output_type": "execute_result"
    }
   ],
   "source": [
    "dask_benchmarks['groupby_statistics'][\"nbytes_per_worker\"]"
   ]
  },
  {
   "cell_type": "code",
   "execution_count": null,
   "id": "00f8fc96",
   "metadata": {},
   "outputs": [],
   "source": []
  },
  {
   "cell_type": "code",
   "execution_count": null,
   "id": "b40a7029",
   "metadata": {},
   "outputs": [],
   "source": []
  },
  {
   "cell_type": "code",
   "execution_count": null,
   "id": "d950c392",
   "metadata": {},
   "outputs": [],
   "source": []
  },
  {
   "cell_type": "code",
   "execution_count": null,
   "id": "7e797676",
   "metadata": {},
   "outputs": [],
   "source": []
  },
  {
   "cell_type": "code",
   "execution_count": null,
   "id": "2c03e717",
   "metadata": {},
   "outputs": [],
   "source": []
  },
  {
   "cell_type": "code",
   "execution_count": null,
   "id": "98e7e586",
   "metadata": {},
   "outputs": [],
   "source": []
  },
  {
   "cell_type": "code",
   "execution_count": null,
   "id": "77b10fe4",
   "metadata": {},
   "outputs": [],
   "source": []
  },
  {
   "cell_type": "code",
   "execution_count": null,
   "id": "247cd719",
   "metadata": {},
   "outputs": [],
   "source": []
  },
  {
   "cell_type": "code",
   "execution_count": null,
   "id": "56edcfe1",
   "metadata": {},
   "outputs": [],
   "source": []
  },
  {
   "cell_type": "code",
   "execution_count": null,
   "id": "ad16f83e",
   "metadata": {},
   "outputs": [],
   "source": []
  },
  {
   "cell_type": "markdown",
   "id": "0769b880",
   "metadata": {},
   "source": [
    "# try to do something fancy with the history"
   ]
  },
  {
   "cell_type": "code",
   "execution_count": 56,
   "id": "f52602a3",
   "metadata": {},
   "outputs": [],
   "source": [
    "hx = dask_benchmarks.get(\"read_to_basic_ETL\").get(\"history\")"
   ]
  },
  {
   "cell_type": "code",
   "execution_count": null,
   "id": "70f75657",
   "metadata": {},
   "outputs": [],
   "source": []
  },
  {
   "cell_type": "markdown",
   "id": "6434f904",
   "metadata": {},
   "source": [
    "use dask to do dask :D"
   ]
  },
  {
   "cell_type": "code",
   "execution_count": 57,
   "id": "cd73e2e5",
   "metadata": {},
   "outputs": [],
   "source": [
    "import pandas as pd\n",
    "pd.set_option('display.max_colwidth', None)"
   ]
  },
  {
   "cell_type": "code",
   "execution_count": 58,
   "id": "5f7103ab",
   "metadata": {},
   "outputs": [],
   "source": [
    "hx_df = pd.DataFrame (hx, columns = ['worker','status','nbytes', 'thread', 'type', 'typename', 'metadata', 'startstops', 'key'])"
   ]
  },
  {
   "cell_type": "code",
   "execution_count": 59,
   "id": "525ce657",
   "metadata": {
    "scrolled": true
   },
   "outputs": [],
   "source": [
    "hx_ddf = dd.from_pandas(hx_df, npartitions=1)"
   ]
  },
  {
   "cell_type": "code",
   "execution_count": 60,
   "id": "8bcf2eff",
   "metadata": {
    "scrolled": true
   },
   "outputs": [
    {
     "data": {
      "text/html": [
       "<div>\n",
       "<style scoped>\n",
       "    .dataframe tbody tr th:only-of-type {\n",
       "        vertical-align: middle;\n",
       "    }\n",
       "\n",
       "    .dataframe tbody tr th {\n",
       "        vertical-align: top;\n",
       "    }\n",
       "\n",
       "    .dataframe thead th {\n",
       "        text-align: right;\n",
       "    }\n",
       "</style>\n",
       "<table border=\"1\" class=\"dataframe\">\n",
       "  <thead>\n",
       "    <tr style=\"text-align: right;\">\n",
       "      <th></th>\n",
       "      <th>worker</th>\n",
       "      <th>status</th>\n",
       "      <th>nbytes</th>\n",
       "      <th>thread</th>\n",
       "      <th>type</th>\n",
       "      <th>typename</th>\n",
       "      <th>metadata</th>\n",
       "      <th>startstops</th>\n",
       "      <th>key</th>\n",
       "    </tr>\n",
       "  </thead>\n",
       "  <tbody>\n",
       "    <tr>\n",
       "      <th>0</th>\n",
       "      <td>tcp://127.0.0.1:56246</td>\n",
       "      <td>OK</td>\n",
       "      <td>27997016</td>\n",
       "      <td>27104</td>\n",
       "      <td>b'\\x80\\x04\\x95!\\x00\\x00\\x00\\x00\\x00\\x00\\x00\\x8c\\x12pandas.core.series\\x94\\x8c\\x06Series\\x94\\x93\\x94.'</td>\n",
       "      <td>pandas.core.series.Series</td>\n",
       "      <td>{}</td>\n",
       "      <td>({'action': 'deserialize', 'start': 1652304657.666907, 'stop': 1652304657.967815}, {'action': 'compute', 'start': 1652304657.968235, 'stop': 1652304658.1867692})</td>\n",
       "      <td>('add-d716864db68e7bc4b58dd46d6a77eb1c', 2)</td>\n",
       "    </tr>\n",
       "    <tr>\n",
       "      <th>1</th>\n",
       "      <td>tcp://127.0.0.1:56243</td>\n",
       "      <td>OK</td>\n",
       "      <td>27800144</td>\n",
       "      <td>26052</td>\n",
       "      <td>b'\\x80\\x04\\x95!\\x00\\x00\\x00\\x00\\x00\\x00\\x00\\x8c\\x12pandas.core.series\\x94\\x8c\\x06Series\\x94\\x93\\x94.'</td>\n",
       "      <td>pandas.core.series.Series</td>\n",
       "      <td>{}</td>\n",
       "      <td>({'action': 'deserialize', 'start': 1652304657.6671968, 'stop': 1652304657.9920208}, {'action': 'compute', 'start': 1652304657.9918344, 'stop': 1652304658.1957502})</td>\n",
       "      <td>('add-d716864db68e7bc4b58dd46d6a77eb1c', 0)</td>\n",
       "    </tr>\n",
       "    <tr>\n",
       "      <th>2</th>\n",
       "      <td>tcp://127.0.0.1:56249</td>\n",
       "      <td>OK</td>\n",
       "      <td>28015480</td>\n",
       "      <td>26148</td>\n",
       "      <td>b'\\x80\\x04\\x95!\\x00\\x00\\x00\\x00\\x00\\x00\\x00\\x8c\\x12pandas.core.series\\x94\\x8c\\x06Series\\x94\\x93\\x94.'</td>\n",
       "      <td>pandas.core.series.Series</td>\n",
       "      <td>{}</td>\n",
       "      <td>({'action': 'deserialize', 'start': 1652304657.6668663, 'stop': 1652304657.9675162}, {'action': 'compute', 'start': 1652304657.9722996, 'stop': 1652304658.218315})</td>\n",
       "      <td>('add-d716864db68e7bc4b58dd46d6a77eb1c', 1)</td>\n",
       "    </tr>\n",
       "    <tr>\n",
       "      <th>3</th>\n",
       "      <td>tcp://127.0.0.1:56253</td>\n",
       "      <td>OK</td>\n",
       "      <td>31299480</td>\n",
       "      <td>6972</td>\n",
       "      <td>b'\\x80\\x04\\x95!\\x00\\x00\\x00\\x00\\x00\\x00\\x00\\x8c\\x12pandas.core.series\\x94\\x8c\\x06Series\\x94\\x93\\x94.'</td>\n",
       "      <td>pandas.core.series.Series</td>\n",
       "      <td>{}</td>\n",
       "      <td>({'action': 'deserialize', 'start': 1652304657.6727228, 'stop': 1652304657.9675233}, {'action': 'compute', 'start': 1652304657.9688478, 'stop': 1652304658.2466178})</td>\n",
       "      <td>('add-d716864db68e7bc4b58dd46d6a77eb1c', 3)</td>\n",
       "    </tr>\n",
       "    <tr>\n",
       "      <th>4</th>\n",
       "      <td>tcp://127.0.0.1:56249</td>\n",
       "      <td>OK</td>\n",
       "      <td>27997016</td>\n",
       "      <td>26148</td>\n",
       "      <td>b'\\x80\\x04\\x95!\\x00\\x00\\x00\\x00\\x00\\x00\\x00\\x8c\\x12pandas.core.series\\x94\\x8c\\x06Series\\x94\\x93\\x94.'</td>\n",
       "      <td>pandas.core.series.Series</td>\n",
       "      <td>{}</td>\n",
       "      <td>({'action': 'compute', 'start': 1652304658.21627, 'stop': 1652304658.5319226},)</td>\n",
       "      <td>('add-d716864db68e7bc4b58dd46d6a77eb1c', 6)</td>\n",
       "    </tr>\n",
       "    <tr>\n",
       "      <th>5</th>\n",
       "      <td>tcp://127.0.0.1:56246</td>\n",
       "      <td>OK</td>\n",
       "      <td>28015480</td>\n",
       "      <td>27104</td>\n",
       "      <td>b'\\x80\\x04\\x95!\\x00\\x00\\x00\\x00\\x00\\x00\\x00\\x8c\\x12pandas.core.series\\x94\\x8c\\x06Series\\x94\\x93\\x94.'</td>\n",
       "      <td>pandas.core.series.Series</td>\n",
       "      <td>{}</td>\n",
       "      <td>({'action': 'compute', 'start': 1652304658.195911, 'stop': 1652304658.5345247},)</td>\n",
       "      <td>('add-d716864db68e7bc4b58dd46d6a77eb1c', 5)</td>\n",
       "    </tr>\n",
       "    <tr>\n",
       "      <th>6</th>\n",
       "      <td>tcp://127.0.0.1:56246</td>\n",
       "      <td>OK</td>\n",
       "      <td>32</td>\n",
       "      <td>27104</td>\n",
       "      <td>b'\\x80\\x04\\x95\\x13\\x00\\x00\\x00\\x00\\x00\\x00\\x00\\x8c\\x05numpy\\x94\\x8c\\x05int64\\x94\\x93\\x94.'</td>\n",
       "      <td>numpy.int64</td>\n",
       "      <td>{}</td>\n",
       "      <td>({'action': 'compute', 'start': 1652304658.5452201, 'stop': 1652304658.5576632},)</td>\n",
       "      <td>('series-count-chunk-0c5ca3d77478f555ae1be3d12e00edc6-838892189725e30078715bd8555c08d1', 2)</td>\n",
       "    </tr>\n",
       "    <tr>\n",
       "      <th>7</th>\n",
       "      <td>tcp://127.0.0.1:56243</td>\n",
       "      <td>OK</td>\n",
       "      <td>27800144</td>\n",
       "      <td>26052</td>\n",
       "      <td>b'\\x80\\x04\\x95!\\x00\\x00\\x00\\x00\\x00\\x00\\x00\\x8c\\x12pandas.core.series\\x94\\x8c\\x06Series\\x94\\x93\\x94.'</td>\n",
       "      <td>pandas.core.series.Series</td>\n",
       "      <td>{}</td>\n",
       "      <td>({'action': 'compute', 'start': 1652304658.207799, 'stop': 1652304658.5605364},)</td>\n",
       "      <td>('add-d716864db68e7bc4b58dd46d6a77eb1c', 4)</td>\n",
       "    </tr>\n",
       "    <tr>\n",
       "      <th>8</th>\n",
       "      <td>tcp://127.0.0.1:56243</td>\n",
       "      <td>OK</td>\n",
       "      <td>32</td>\n",
       "      <td>26052</td>\n",
       "      <td>b'\\x80\\x04\\x95\\x13\\x00\\x00\\x00\\x00\\x00\\x00\\x00\\x8c\\x05numpy\\x94\\x8c\\x05int64\\x94\\x93\\x94.'</td>\n",
       "      <td>numpy.int64</td>\n",
       "      <td>{}</td>\n",
       "      <td>({'action': 'compute', 'start': 1652304658.5608912, 'stop': 1652304658.5700924},)</td>\n",
       "      <td>('series-count-chunk-0c5ca3d77478f555ae1be3d12e00edc6-838892189725e30078715bd8555c08d1', 0)</td>\n",
       "    </tr>\n",
       "    <tr>\n",
       "      <th>9</th>\n",
       "      <td>tcp://127.0.0.1:56246</td>\n",
       "      <td>OK</td>\n",
       "      <td>32</td>\n",
       "      <td>27104</td>\n",
       "      <td>b'\\x80\\x04\\x95\\x15\\x00\\x00\\x00\\x00\\x00\\x00\\x00\\x8c\\x05numpy\\x94\\x8c\\x07float64\\x94\\x93\\x94.'</td>\n",
       "      <td>numpy.float64</td>\n",
       "      <td>{}</td>\n",
       "      <td>({'action': 'compute', 'start': 1652304658.5598354, 'stop': 1652304658.570451},)</td>\n",
       "      <td>('series-sum-chunk-25935b77d571448ff443f276a179f31f-59220bbfba86fa5b47b80df5a5587a70', 2)</td>\n",
       "    </tr>\n",
       "    <tr>\n",
       "      <th>10</th>\n",
       "      <td>tcp://127.0.0.1:56246</td>\n",
       "      <td>OK</td>\n",
       "      <td>32</td>\n",
       "      <td>27104</td>\n",
       "      <td>b'\\x80\\x04\\x95\\x13\\x00\\x00\\x00\\x00\\x00\\x00\\x00\\x8c\\x05numpy\\x94\\x8c\\x05int64\\x94\\x93\\x94.'</td>\n",
       "      <td>numpy.int64</td>\n",
       "      <td>{}</td>\n",
       "      <td>({'action': 'compute', 'start': 1652304658.5713856, 'stop': 1652304658.581962},)</td>\n",
       "      <td>('series-count-chunk-0c5ca3d77478f555ae1be3d12e00edc6-838892189725e30078715bd8555c08d1', 5)</td>\n",
       "    </tr>\n",
       "    <tr>\n",
       "      <th>11</th>\n",
       "      <td>tcp://127.0.0.1:56243</td>\n",
       "      <td>OK</td>\n",
       "      <td>32</td>\n",
       "      <td>26052</td>\n",
       "      <td>b'\\x80\\x04\\x95\\x15\\x00\\x00\\x00\\x00\\x00\\x00\\x00\\x8c\\x05numpy\\x94\\x8c\\x07float64\\x94\\x93\\x94.'</td>\n",
       "      <td>numpy.float64</td>\n",
       "      <td>{}</td>\n",
       "      <td>({'action': 'compute', 'start': 1652304658.5713575, 'stop': 1652304658.5826163},)</td>\n",
       "      <td>('series-sum-chunk-25935b77d571448ff443f276a179f31f-59220bbfba86fa5b47b80df5a5587a70', 0)</td>\n",
       "    </tr>\n",
       "    <tr>\n",
       "      <th>12</th>\n",
       "      <td>tcp://127.0.0.1:56249</td>\n",
       "      <td>OK</td>\n",
       "      <td>32</td>\n",
       "      <td>26148</td>\n",
       "      <td>b'\\x80\\x04\\x95\\x13\\x00\\x00\\x00\\x00\\x00\\x00\\x00\\x8c\\x05numpy\\x94\\x8c\\x05int64\\x94\\x93\\x94.'</td>\n",
       "      <td>numpy.int64</td>\n",
       "      <td>{}</td>\n",
       "      <td>({'action': 'compute', 'start': 1652304658.5334916, 'stop': 1652304658.5460706},)</td>\n",
       "      <td>('series-count-chunk-0c5ca3d77478f555ae1be3d12e00edc6-838892189725e30078715bd8555c08d1', 1)</td>\n",
       "    </tr>\n",
       "    <tr>\n",
       "      <th>13</th>\n",
       "      <td>tcp://127.0.0.1:56243</td>\n",
       "      <td>OK</td>\n",
       "      <td>32</td>\n",
       "      <td>26052</td>\n",
       "      <td>b'\\x80\\x04\\x95\\x13\\x00\\x00\\x00\\x00\\x00\\x00\\x00\\x8c\\x05numpy\\x94\\x8c\\x05int64\\x94\\x93\\x94.'</td>\n",
       "      <td>numpy.int64</td>\n",
       "      <td>{}</td>\n",
       "      <td>({'action': 'compute', 'start': 1652304658.5850418, 'stop': 1652304658.595649},)</td>\n",
       "      <td>('series-count-chunk-0c5ca3d77478f555ae1be3d12e00edc6-838892189725e30078715bd8555c08d1', 4)</td>\n",
       "    </tr>\n",
       "    <tr>\n",
       "      <th>14</th>\n",
       "      <td>tcp://127.0.0.1:56249</td>\n",
       "      <td>OK</td>\n",
       "      <td>32</td>\n",
       "      <td>26148</td>\n",
       "      <td>b'\\x80\\x04\\x95\\x15\\x00\\x00\\x00\\x00\\x00\\x00\\x00\\x8c\\x05numpy\\x94\\x8c\\x07float64\\x94\\x93\\x94.'</td>\n",
       "      <td>numpy.float64</td>\n",
       "      <td>{}</td>\n",
       "      <td>({'action': 'compute', 'start': 1652304658.585661, 'stop': 1652304658.5954053},)</td>\n",
       "      <td>('series-sum-chunk-25935b77d571448ff443f276a179f31f-59220bbfba86fa5b47b80df5a5587a70', 1)</td>\n",
       "    </tr>\n",
       "    <tr>\n",
       "      <th>15</th>\n",
       "      <td>tcp://127.0.0.1:56253</td>\n",
       "      <td>OK</td>\n",
       "      <td>31299480</td>\n",
       "      <td>6972</td>\n",
       "      <td>b'\\x80\\x04\\x95!\\x00\\x00\\x00\\x00\\x00\\x00\\x00\\x8c\\x12pandas.core.series\\x94\\x8c\\x06Series\\x94\\x93\\x94.'</td>\n",
       "      <td>pandas.core.series.Series</td>\n",
       "      <td>{}</td>\n",
       "      <td>({'action': 'compute', 'start': 1652304658.0898476, 'stop': 1652304658.43816},)</td>\n",
       "      <td>('add-d716864db68e7bc4b58dd46d6a77eb1c', 7)</td>\n",
       "    </tr>\n",
       "    <tr>\n",
       "      <th>16</th>\n",
       "      <td>tcp://127.0.0.1:56246</td>\n",
       "      <td>OK</td>\n",
       "      <td>32</td>\n",
       "      <td>27104</td>\n",
       "      <td>b'\\x80\\x04\\x95\\x15\\x00\\x00\\x00\\x00\\x00\\x00\\x00\\x8c\\x05numpy\\x94\\x8c\\x07float64\\x94\\x93\\x94.'</td>\n",
       "      <td>numpy.float64</td>\n",
       "      <td>{}</td>\n",
       "      <td>({'action': 'compute', 'start': 1652304658.5833437, 'stop': 1652304658.5966341},)</td>\n",
       "      <td>('series-sum-chunk-25935b77d571448ff443f276a179f31f-59220bbfba86fa5b47b80df5a5587a70', 5)</td>\n",
       "    </tr>\n",
       "    <tr>\n",
       "      <th>17</th>\n",
       "      <td>tcp://127.0.0.1:56243</td>\n",
       "      <td>OK</td>\n",
       "      <td>32</td>\n",
       "      <td>26052</td>\n",
       "      <td>b'\\x80\\x04\\x95\\x15\\x00\\x00\\x00\\x00\\x00\\x00\\x00\\x8c\\x05numpy\\x94\\x8c\\x07float64\\x94\\x93\\x94.'</td>\n",
       "      <td>numpy.float64</td>\n",
       "      <td>{}</td>\n",
       "      <td>({'action': 'compute', 'start': 1652304658.596556, 'stop': 1652304658.6123667},)</td>\n",
       "      <td>('series-sum-chunk-25935b77d571448ff443f276a179f31f-59220bbfba86fa5b47b80df5a5587a70', 4)</td>\n",
       "    </tr>\n",
       "    <tr>\n",
       "      <th>18</th>\n",
       "      <td>tcp://127.0.0.1:56253</td>\n",
       "      <td>OK</td>\n",
       "      <td>32</td>\n",
       "      <td>6972</td>\n",
       "      <td>b'\\x80\\x04\\x95\\x13\\x00\\x00\\x00\\x00\\x00\\x00\\x00\\x8c\\x05numpy\\x94\\x8c\\x05int64\\x94\\x93\\x94.'</td>\n",
       "      <td>numpy.int64</td>\n",
       "      <td>{}</td>\n",
       "      <td>({'action': 'compute', 'start': 1652304658.5984683, 'stop': 1652304658.6110234},)</td>\n",
       "      <td>('series-count-chunk-0c5ca3d77478f555ae1be3d12e00edc6-838892189725e30078715bd8555c08d1', 3)</td>\n",
       "    </tr>\n",
       "    <tr>\n",
       "      <th>19</th>\n",
       "      <td>tcp://127.0.0.1:56249</td>\n",
       "      <td>OK</td>\n",
       "      <td>32</td>\n",
       "      <td>26148</td>\n",
       "      <td>b'\\x80\\x04\\x95\\x13\\x00\\x00\\x00\\x00\\x00\\x00\\x00\\x8c\\x05numpy\\x94\\x8c\\x05int64\\x94\\x93\\x94.'</td>\n",
       "      <td>numpy.int64</td>\n",
       "      <td>{}</td>\n",
       "      <td>({'action': 'compute', 'start': 1652304658.59628, 'stop': 1652304658.6120503},)</td>\n",
       "      <td>('series-count-chunk-0c5ca3d77478f555ae1be3d12e00edc6-838892189725e30078715bd8555c08d1', 6)</td>\n",
       "    </tr>\n",
       "  </tbody>\n",
       "</table>\n",
       "</div>"
      ],
      "text/plain": [
       "                   worker status    nbytes  thread  \\\n",
       "0   tcp://127.0.0.1:56246     OK  27997016   27104   \n",
       "1   tcp://127.0.0.1:56243     OK  27800144   26052   \n",
       "2   tcp://127.0.0.1:56249     OK  28015480   26148   \n",
       "3   tcp://127.0.0.1:56253     OK  31299480    6972   \n",
       "4   tcp://127.0.0.1:56249     OK  27997016   26148   \n",
       "5   tcp://127.0.0.1:56246     OK  28015480   27104   \n",
       "6   tcp://127.0.0.1:56246     OK        32   27104   \n",
       "7   tcp://127.0.0.1:56243     OK  27800144   26052   \n",
       "8   tcp://127.0.0.1:56243     OK        32   26052   \n",
       "9   tcp://127.0.0.1:56246     OK        32   27104   \n",
       "10  tcp://127.0.0.1:56246     OK        32   27104   \n",
       "11  tcp://127.0.0.1:56243     OK        32   26052   \n",
       "12  tcp://127.0.0.1:56249     OK        32   26148   \n",
       "13  tcp://127.0.0.1:56243     OK        32   26052   \n",
       "14  tcp://127.0.0.1:56249     OK        32   26148   \n",
       "15  tcp://127.0.0.1:56253     OK  31299480    6972   \n",
       "16  tcp://127.0.0.1:56246     OK        32   27104   \n",
       "17  tcp://127.0.0.1:56243     OK        32   26052   \n",
       "18  tcp://127.0.0.1:56253     OK        32    6972   \n",
       "19  tcp://127.0.0.1:56249     OK        32   26148   \n",
       "\n",
       "                                                                                                     type  \\\n",
       "0   b'\\x80\\x04\\x95!\\x00\\x00\\x00\\x00\\x00\\x00\\x00\\x8c\\x12pandas.core.series\\x94\\x8c\\x06Series\\x94\\x93\\x94.'   \n",
       "1   b'\\x80\\x04\\x95!\\x00\\x00\\x00\\x00\\x00\\x00\\x00\\x8c\\x12pandas.core.series\\x94\\x8c\\x06Series\\x94\\x93\\x94.'   \n",
       "2   b'\\x80\\x04\\x95!\\x00\\x00\\x00\\x00\\x00\\x00\\x00\\x8c\\x12pandas.core.series\\x94\\x8c\\x06Series\\x94\\x93\\x94.'   \n",
       "3   b'\\x80\\x04\\x95!\\x00\\x00\\x00\\x00\\x00\\x00\\x00\\x8c\\x12pandas.core.series\\x94\\x8c\\x06Series\\x94\\x93\\x94.'   \n",
       "4   b'\\x80\\x04\\x95!\\x00\\x00\\x00\\x00\\x00\\x00\\x00\\x8c\\x12pandas.core.series\\x94\\x8c\\x06Series\\x94\\x93\\x94.'   \n",
       "5   b'\\x80\\x04\\x95!\\x00\\x00\\x00\\x00\\x00\\x00\\x00\\x8c\\x12pandas.core.series\\x94\\x8c\\x06Series\\x94\\x93\\x94.'   \n",
       "6              b'\\x80\\x04\\x95\\x13\\x00\\x00\\x00\\x00\\x00\\x00\\x00\\x8c\\x05numpy\\x94\\x8c\\x05int64\\x94\\x93\\x94.'   \n",
       "7   b'\\x80\\x04\\x95!\\x00\\x00\\x00\\x00\\x00\\x00\\x00\\x8c\\x12pandas.core.series\\x94\\x8c\\x06Series\\x94\\x93\\x94.'   \n",
       "8              b'\\x80\\x04\\x95\\x13\\x00\\x00\\x00\\x00\\x00\\x00\\x00\\x8c\\x05numpy\\x94\\x8c\\x05int64\\x94\\x93\\x94.'   \n",
       "9            b'\\x80\\x04\\x95\\x15\\x00\\x00\\x00\\x00\\x00\\x00\\x00\\x8c\\x05numpy\\x94\\x8c\\x07float64\\x94\\x93\\x94.'   \n",
       "10             b'\\x80\\x04\\x95\\x13\\x00\\x00\\x00\\x00\\x00\\x00\\x00\\x8c\\x05numpy\\x94\\x8c\\x05int64\\x94\\x93\\x94.'   \n",
       "11           b'\\x80\\x04\\x95\\x15\\x00\\x00\\x00\\x00\\x00\\x00\\x00\\x8c\\x05numpy\\x94\\x8c\\x07float64\\x94\\x93\\x94.'   \n",
       "12             b'\\x80\\x04\\x95\\x13\\x00\\x00\\x00\\x00\\x00\\x00\\x00\\x8c\\x05numpy\\x94\\x8c\\x05int64\\x94\\x93\\x94.'   \n",
       "13             b'\\x80\\x04\\x95\\x13\\x00\\x00\\x00\\x00\\x00\\x00\\x00\\x8c\\x05numpy\\x94\\x8c\\x05int64\\x94\\x93\\x94.'   \n",
       "14           b'\\x80\\x04\\x95\\x15\\x00\\x00\\x00\\x00\\x00\\x00\\x00\\x8c\\x05numpy\\x94\\x8c\\x07float64\\x94\\x93\\x94.'   \n",
       "15  b'\\x80\\x04\\x95!\\x00\\x00\\x00\\x00\\x00\\x00\\x00\\x8c\\x12pandas.core.series\\x94\\x8c\\x06Series\\x94\\x93\\x94.'   \n",
       "16           b'\\x80\\x04\\x95\\x15\\x00\\x00\\x00\\x00\\x00\\x00\\x00\\x8c\\x05numpy\\x94\\x8c\\x07float64\\x94\\x93\\x94.'   \n",
       "17           b'\\x80\\x04\\x95\\x15\\x00\\x00\\x00\\x00\\x00\\x00\\x00\\x8c\\x05numpy\\x94\\x8c\\x07float64\\x94\\x93\\x94.'   \n",
       "18             b'\\x80\\x04\\x95\\x13\\x00\\x00\\x00\\x00\\x00\\x00\\x00\\x8c\\x05numpy\\x94\\x8c\\x05int64\\x94\\x93\\x94.'   \n",
       "19             b'\\x80\\x04\\x95\\x13\\x00\\x00\\x00\\x00\\x00\\x00\\x00\\x8c\\x05numpy\\x94\\x8c\\x05int64\\x94\\x93\\x94.'   \n",
       "\n",
       "                     typename metadata  \\\n",
       "0   pandas.core.series.Series       {}   \n",
       "1   pandas.core.series.Series       {}   \n",
       "2   pandas.core.series.Series       {}   \n",
       "3   pandas.core.series.Series       {}   \n",
       "4   pandas.core.series.Series       {}   \n",
       "5   pandas.core.series.Series       {}   \n",
       "6                 numpy.int64       {}   \n",
       "7   pandas.core.series.Series       {}   \n",
       "8                 numpy.int64       {}   \n",
       "9               numpy.float64       {}   \n",
       "10                numpy.int64       {}   \n",
       "11              numpy.float64       {}   \n",
       "12                numpy.int64       {}   \n",
       "13                numpy.int64       {}   \n",
       "14              numpy.float64       {}   \n",
       "15  pandas.core.series.Series       {}   \n",
       "16              numpy.float64       {}   \n",
       "17              numpy.float64       {}   \n",
       "18                numpy.int64       {}   \n",
       "19                numpy.int64       {}   \n",
       "\n",
       "                                                                                                                                                              startstops  \\\n",
       "0      ({'action': 'deserialize', 'start': 1652304657.666907, 'stop': 1652304657.967815}, {'action': 'compute', 'start': 1652304657.968235, 'stop': 1652304658.1867692})   \n",
       "1   ({'action': 'deserialize', 'start': 1652304657.6671968, 'stop': 1652304657.9920208}, {'action': 'compute', 'start': 1652304657.9918344, 'stop': 1652304658.1957502})   \n",
       "2    ({'action': 'deserialize', 'start': 1652304657.6668663, 'stop': 1652304657.9675162}, {'action': 'compute', 'start': 1652304657.9722996, 'stop': 1652304658.218315})   \n",
       "3   ({'action': 'deserialize', 'start': 1652304657.6727228, 'stop': 1652304657.9675233}, {'action': 'compute', 'start': 1652304657.9688478, 'stop': 1652304658.2466178})   \n",
       "4                                                                                        ({'action': 'compute', 'start': 1652304658.21627, 'stop': 1652304658.5319226},)   \n",
       "5                                                                                       ({'action': 'compute', 'start': 1652304658.195911, 'stop': 1652304658.5345247},)   \n",
       "6                                                                                      ({'action': 'compute', 'start': 1652304658.5452201, 'stop': 1652304658.5576632},)   \n",
       "7                                                                                       ({'action': 'compute', 'start': 1652304658.207799, 'stop': 1652304658.5605364},)   \n",
       "8                                                                                      ({'action': 'compute', 'start': 1652304658.5608912, 'stop': 1652304658.5700924},)   \n",
       "9                                                                                       ({'action': 'compute', 'start': 1652304658.5598354, 'stop': 1652304658.570451},)   \n",
       "10                                                                                      ({'action': 'compute', 'start': 1652304658.5713856, 'stop': 1652304658.581962},)   \n",
       "11                                                                                     ({'action': 'compute', 'start': 1652304658.5713575, 'stop': 1652304658.5826163},)   \n",
       "12                                                                                     ({'action': 'compute', 'start': 1652304658.5334916, 'stop': 1652304658.5460706},)   \n",
       "13                                                                                      ({'action': 'compute', 'start': 1652304658.5850418, 'stop': 1652304658.595649},)   \n",
       "14                                                                                      ({'action': 'compute', 'start': 1652304658.585661, 'stop': 1652304658.5954053},)   \n",
       "15                                                                                       ({'action': 'compute', 'start': 1652304658.0898476, 'stop': 1652304658.43816},)   \n",
       "16                                                                                     ({'action': 'compute', 'start': 1652304658.5833437, 'stop': 1652304658.5966341},)   \n",
       "17                                                                                      ({'action': 'compute', 'start': 1652304658.596556, 'stop': 1652304658.6123667},)   \n",
       "18                                                                                     ({'action': 'compute', 'start': 1652304658.5984683, 'stop': 1652304658.6110234},)   \n",
       "19                                                                                       ({'action': 'compute', 'start': 1652304658.59628, 'stop': 1652304658.6120503},)   \n",
       "\n",
       "                                                                                            key  \n",
       "0                                                   ('add-d716864db68e7bc4b58dd46d6a77eb1c', 2)  \n",
       "1                                                   ('add-d716864db68e7bc4b58dd46d6a77eb1c', 0)  \n",
       "2                                                   ('add-d716864db68e7bc4b58dd46d6a77eb1c', 1)  \n",
       "3                                                   ('add-d716864db68e7bc4b58dd46d6a77eb1c', 3)  \n",
       "4                                                   ('add-d716864db68e7bc4b58dd46d6a77eb1c', 6)  \n",
       "5                                                   ('add-d716864db68e7bc4b58dd46d6a77eb1c', 5)  \n",
       "6   ('series-count-chunk-0c5ca3d77478f555ae1be3d12e00edc6-838892189725e30078715bd8555c08d1', 2)  \n",
       "7                                                   ('add-d716864db68e7bc4b58dd46d6a77eb1c', 4)  \n",
       "8   ('series-count-chunk-0c5ca3d77478f555ae1be3d12e00edc6-838892189725e30078715bd8555c08d1', 0)  \n",
       "9     ('series-sum-chunk-25935b77d571448ff443f276a179f31f-59220bbfba86fa5b47b80df5a5587a70', 2)  \n",
       "10  ('series-count-chunk-0c5ca3d77478f555ae1be3d12e00edc6-838892189725e30078715bd8555c08d1', 5)  \n",
       "11    ('series-sum-chunk-25935b77d571448ff443f276a179f31f-59220bbfba86fa5b47b80df5a5587a70', 0)  \n",
       "12  ('series-count-chunk-0c5ca3d77478f555ae1be3d12e00edc6-838892189725e30078715bd8555c08d1', 1)  \n",
       "13  ('series-count-chunk-0c5ca3d77478f555ae1be3d12e00edc6-838892189725e30078715bd8555c08d1', 4)  \n",
       "14    ('series-sum-chunk-25935b77d571448ff443f276a179f31f-59220bbfba86fa5b47b80df5a5587a70', 1)  \n",
       "15                                                  ('add-d716864db68e7bc4b58dd46d6a77eb1c', 7)  \n",
       "16    ('series-sum-chunk-25935b77d571448ff443f276a179f31f-59220bbfba86fa5b47b80df5a5587a70', 5)  \n",
       "17    ('series-sum-chunk-25935b77d571448ff443f276a179f31f-59220bbfba86fa5b47b80df5a5587a70', 4)  \n",
       "18  ('series-count-chunk-0c5ca3d77478f555ae1be3d12e00edc6-838892189725e30078715bd8555c08d1', 3)  \n",
       "19  ('series-count-chunk-0c5ca3d77478f555ae1be3d12e00edc6-838892189725e30078715bd8555c08d1', 6)  "
      ]
     },
     "execution_count": 60,
     "metadata": {},
     "output_type": "execute_result"
    }
   ],
   "source": [
    "# the startstops are nested. we need to unnest this for action stuff only. but use nested for all other\n",
    "hx_ddf.head(20)"
   ]
  },
  {
   "cell_type": "code",
   "execution_count": 61,
   "id": "a3fa65e7",
   "metadata": {},
   "outputs": [],
   "source": [
    "# the startstops are nested. we need to unnest this for action stuff only.\n",
    "exploded_df = hx_ddf.explode(\"startstops\")"
   ]
  },
  {
   "cell_type": "code",
   "execution_count": 62,
   "id": "b3014241",
   "metadata": {},
   "outputs": [],
   "source": [
    "# AAAAGH THIS TOOK FOREVER TO FIGURE OUT O_O\n",
    "exploded_df['action'] = exploded_df['startstops'].apply(lambda x: x['action'], meta = (\"action\", str))\n",
    "exploded_df['start'] = exploded_df['startstops'].apply(lambda x: x['start'], meta = (\"start\", np.float64))\n",
    "exploded_df['end'] = exploded_df['startstops'].apply(lambda x: x['stop'], meta = (\"stop\", np.float64))\n",
    "exploded_df['action_duration'] = exploded_df['end'] - exploded_df['start']"
   ]
  },
  {
   "cell_type": "code",
   "execution_count": null,
   "id": "218adad1",
   "metadata": {},
   "outputs": [],
   "source": []
  },
  {
   "cell_type": "code",
   "execution_count": 63,
   "id": "897336a0",
   "metadata": {},
   "outputs": [],
   "source": [
    "exploded_df_only_agg_fields = exploded_df[['worker', 'action', 'action_duration']]"
   ]
  },
  {
   "cell_type": "code",
   "execution_count": 64,
   "id": "5b5c4ff6",
   "metadata": {
    "scrolled": true
   },
   "outputs": [],
   "source": [
    "time_per_worker_and_action = exploded_df_only_agg_fields.groupby(['worker','action']).agg(\"sum\")"
   ]
  },
  {
   "cell_type": "markdown",
   "id": "a19881f1",
   "metadata": {},
   "source": [
    "This is final for time_per_worker_and_action"
   ]
  },
  {
   "cell_type": "code",
   "execution_count": 65,
   "id": "437b65e7",
   "metadata": {},
   "outputs": [
    {
     "data": {
      "text/html": [
       "<div>\n",
       "<style scoped>\n",
       "    .dataframe tbody tr th:only-of-type {\n",
       "        vertical-align: middle;\n",
       "    }\n",
       "\n",
       "    .dataframe tbody tr th {\n",
       "        vertical-align: top;\n",
       "    }\n",
       "\n",
       "    .dataframe thead th {\n",
       "        text-align: right;\n",
       "    }\n",
       "</style>\n",
       "<table border=\"1\" class=\"dataframe\">\n",
       "  <thead>\n",
       "    <tr style=\"text-align: right;\">\n",
       "      <th></th>\n",
       "      <th></th>\n",
       "      <th>action_duration</th>\n",
       "    </tr>\n",
       "    <tr>\n",
       "      <th>worker</th>\n",
       "      <th>action</th>\n",
       "      <th></th>\n",
       "    </tr>\n",
       "  </thead>\n",
       "  <tbody>\n",
       "    <tr>\n",
       "      <th rowspan=\"3\" valign=\"top\">tcp://127.0.0.1:56243</th>\n",
       "      <th>compute</th>\n",
       "      <td>0.603825</td>\n",
       "    </tr>\n",
       "    <tr>\n",
       "      <th>deserialize</th>\n",
       "      <td>0.324824</td>\n",
       "    </tr>\n",
       "    <tr>\n",
       "      <th>transfer</th>\n",
       "      <td>0.022714</td>\n",
       "    </tr>\n",
       "    <tr>\n",
       "      <th rowspan=\"3\" valign=\"top\">tcp://127.0.0.1:56246</th>\n",
       "      <th>compute</th>\n",
       "      <td>0.604824</td>\n",
       "    </tr>\n",
       "    <tr>\n",
       "      <th>deserialize</th>\n",
       "      <td>0.300908</td>\n",
       "    </tr>\n",
       "    <tr>\n",
       "      <th>transfer</th>\n",
       "      <td>0.023110</td>\n",
       "    </tr>\n",
       "    <tr>\n",
       "      <th rowspan=\"2\" valign=\"top\">tcp://127.0.0.1:56249</th>\n",
       "      <th>compute</th>\n",
       "      <td>0.611411</td>\n",
       "    </tr>\n",
       "    <tr>\n",
       "      <th>deserialize</th>\n",
       "      <td>0.300650</td>\n",
       "    </tr>\n",
       "    <tr>\n",
       "      <th rowspan=\"2\" valign=\"top\">tcp://127.0.0.1:56253</th>\n",
       "      <th>compute</th>\n",
       "      <td>0.671207</td>\n",
       "    </tr>\n",
       "    <tr>\n",
       "      <th>deserialize</th>\n",
       "      <td>0.294801</td>\n",
       "    </tr>\n",
       "  </tbody>\n",
       "</table>\n",
       "</div>"
      ],
      "text/plain": [
       "                                   action_duration\n",
       "worker                action                      \n",
       "tcp://127.0.0.1:56243 compute             0.603825\n",
       "                      deserialize         0.324824\n",
       "                      transfer            0.022714\n",
       "tcp://127.0.0.1:56246 compute             0.604824\n",
       "                      deserialize         0.300908\n",
       "                      transfer            0.023110\n",
       "tcp://127.0.0.1:56249 compute             0.611411\n",
       "                      deserialize         0.300650\n",
       "tcp://127.0.0.1:56253 compute             0.671207\n",
       "                      deserialize         0.294801"
      ]
     },
     "execution_count": 65,
     "metadata": {},
     "output_type": "execute_result"
    }
   ],
   "source": [
    "time_per_worker_and_action.head(20)"
   ]
  },
  {
   "cell_type": "code",
   "execution_count": null,
   "id": "83ea606b",
   "metadata": {},
   "outputs": [],
   "source": []
  },
  {
   "cell_type": "code",
   "execution_count": 66,
   "id": "b6c30d5a",
   "metadata": {},
   "outputs": [],
   "source": [
    "# now get nbytes per worker"
   ]
  },
  {
   "cell_type": "code",
   "execution_count": 67,
   "id": "57d169f5",
   "metadata": {},
   "outputs": [],
   "source": [
    "nbytes_per_worker = hx_ddf[['worker', 'nbytes']].groupby([\"worker\"]).agg(\"sum\")"
   ]
  },
  {
   "cell_type": "code",
   "execution_count": 68,
   "id": "dbcc10d8",
   "metadata": {},
   "outputs": [
    {
     "data": {
      "text/html": [
       "<div>\n",
       "<style scoped>\n",
       "    .dataframe tbody tr th:only-of-type {\n",
       "        vertical-align: middle;\n",
       "    }\n",
       "\n",
       "    .dataframe tbody tr th {\n",
       "        vertical-align: top;\n",
       "    }\n",
       "\n",
       "    .dataframe thead th {\n",
       "        text-align: right;\n",
       "    }\n",
       "</style>\n",
       "<table border=\"1\" class=\"dataframe\">\n",
       "  <thead>\n",
       "    <tr style=\"text-align: right;\">\n",
       "      <th></th>\n",
       "      <th>nbytes</th>\n",
       "    </tr>\n",
       "    <tr>\n",
       "      <th>worker</th>\n",
       "      <th></th>\n",
       "    </tr>\n",
       "  </thead>\n",
       "  <tbody>\n",
       "    <tr>\n",
       "      <th>tcp://127.0.0.1:56243</th>\n",
       "      <td>55600448</td>\n",
       "    </tr>\n",
       "    <tr>\n",
       "      <th>tcp://127.0.0.1:56246</th>\n",
       "      <td>56012688</td>\n",
       "    </tr>\n",
       "    <tr>\n",
       "      <th>tcp://127.0.0.1:56249</th>\n",
       "      <td>56012624</td>\n",
       "    </tr>\n",
       "    <tr>\n",
       "      <th>tcp://127.0.0.1:56253</th>\n",
       "      <td>62599088</td>\n",
       "    </tr>\n",
       "  </tbody>\n",
       "</table>\n",
       "</div>"
      ],
      "text/plain": [
       "                         nbytes\n",
       "worker                         \n",
       "tcp://127.0.0.1:56243  55600448\n",
       "tcp://127.0.0.1:56246  56012688\n",
       "tcp://127.0.0.1:56249  56012624\n",
       "tcp://127.0.0.1:56253  62599088"
      ]
     },
     "execution_count": 68,
     "metadata": {},
     "output_type": "execute_result"
    }
   ],
   "source": [
    "nbytes_per_worker.head(20)"
   ]
  },
  {
   "cell_type": "code",
   "execution_count": null,
   "id": "8b0af02b",
   "metadata": {},
   "outputs": [],
   "source": []
  },
  {
   "cell_type": "code",
   "execution_count": null,
   "id": "6403d345",
   "metadata": {},
   "outputs": [],
   "source": []
  },
  {
   "cell_type": "code",
   "execution_count": null,
   "id": "17b64f75",
   "metadata": {},
   "outputs": [],
   "source": []
  },
  {
   "cell_type": "code",
   "execution_count": null,
   "id": "e2a2f9a3",
   "metadata": {},
   "outputs": [],
   "source": []
  },
  {
   "cell_type": "code",
   "execution_count": null,
   "id": "570810e1",
   "metadata": {},
   "outputs": [],
   "source": []
  },
  {
   "cell_type": "code",
   "execution_count": null,
   "id": "ce49b40e",
   "metadata": {},
   "outputs": [],
   "source": []
  },
  {
   "cell_type": "code",
   "execution_count": null,
   "id": "c836c440",
   "metadata": {},
   "outputs": [],
   "source": []
  },
  {
   "cell_type": "code",
   "execution_count": null,
   "id": "f60f6497",
   "metadata": {},
   "outputs": [],
   "source": []
  },
  {
   "cell_type": "code",
   "execution_count": null,
   "id": "ee589442",
   "metadata": {},
   "outputs": [],
   "source": []
  },
  {
   "cell_type": "code",
   "execution_count": null,
   "id": "b8afdca2",
   "metadata": {},
   "outputs": [],
   "source": []
  },
  {
   "cell_type": "code",
   "execution_count": null,
   "id": "d4e203df",
   "metadata": {},
   "outputs": [],
   "source": []
  },
  {
   "cell_type": "code",
   "execution_count": null,
   "id": "5d56324e",
   "metadata": {},
   "outputs": [],
   "source": []
  },
  {
   "cell_type": "code",
   "execution_count": null,
   "id": "84b82044",
   "metadata": {},
   "outputs": [],
   "source": []
  },
  {
   "cell_type": "code",
   "execution_count": null,
   "id": "b4ec917f",
   "metadata": {},
   "outputs": [],
   "source": []
  },
  {
   "cell_type": "code",
   "execution_count": null,
   "id": "c393f350",
   "metadata": {},
   "outputs": [],
   "source": []
  },
  {
   "cell_type": "code",
   "execution_count": null,
   "id": "b0367df4",
   "metadata": {},
   "outputs": [],
   "source": []
  },
  {
   "cell_type": "code",
   "execution_count": null,
   "id": "b15b2c58",
   "metadata": {},
   "outputs": [],
   "source": []
  },
  {
   "cell_type": "code",
   "execution_count": null,
   "id": "b6bcdbba",
   "metadata": {},
   "outputs": [],
   "source": []
  },
  {
   "cell_type": "code",
   "execution_count": 163,
   "id": "e3dbd566",
   "metadata": {},
   "outputs": [],
   "source": []
  },
  {
   "cell_type": "code",
   "execution_count": 162,
   "id": "9b877d34",
   "metadata": {},
   "outputs": [],
   "source": []
  },
  {
   "cell_type": "code",
   "execution_count": null,
   "id": "fd9165d9",
   "metadata": {},
   "outputs": [],
   "source": []
  },
  {
   "cell_type": "code",
   "execution_count": null,
   "id": "1f101d96",
   "metadata": {
    "scrolled": true
   },
   "outputs": [],
   "source": []
  },
  {
   "cell_type": "code",
   "execution_count": null,
   "id": "9665fbca",
   "metadata": {},
   "outputs": [],
   "source": []
  },
  {
   "cell_type": "code",
   "execution_count": null,
   "id": "3077f469",
   "metadata": {},
   "outputs": [],
   "source": []
  },
  {
   "cell_type": "code",
   "execution_count": null,
   "id": "d5ec290b",
   "metadata": {},
   "outputs": [],
   "source": []
  },
  {
   "cell_type": "code",
   "execution_count": null,
   "id": "f3e9fd52",
   "metadata": {},
   "outputs": [],
   "source": []
  },
  {
   "cell_type": "code",
   "execution_count": null,
   "id": "e9ba657a",
   "metadata": {},
   "outputs": [],
   "source": []
  },
  {
   "cell_type": "code",
   "execution_count": null,
   "id": "0645dc6c",
   "metadata": {},
   "outputs": [],
   "source": []
  },
  {
   "cell_type": "code",
   "execution_count": null,
   "id": "a2893f89",
   "metadata": {},
   "outputs": [],
   "source": []
  },
  {
   "cell_type": "code",
   "execution_count": null,
   "id": "e0a44504",
   "metadata": {},
   "outputs": [],
   "source": []
  },
  {
   "cell_type": "code",
   "execution_count": null,
   "id": "3574e9ea",
   "metadata": {},
   "outputs": [],
   "source": []
  },
  {
   "cell_type": "code",
   "execution_count": null,
   "id": "cac58118",
   "metadata": {},
   "outputs": [],
   "source": []
  },
  {
   "cell_type": "code",
   "execution_count": null,
   "id": "cc373ee3",
   "metadata": {},
   "outputs": [],
   "source": []
  },
  {
   "cell_type": "code",
   "execution_count": null,
   "id": "e60b866a",
   "metadata": {},
   "outputs": [],
   "source": []
  },
  {
   "cell_type": "code",
   "execution_count": null,
   "id": "ba8d3cb4",
   "metadata": {},
   "outputs": [],
   "source": []
  },
  {
   "cell_type": "code",
   "execution_count": null,
   "id": "1e12fe4c",
   "metadata": {},
   "outputs": [],
   "source": []
  },
  {
   "cell_type": "code",
   "execution_count": null,
   "id": "e4f2deb9",
   "metadata": {},
   "outputs": [],
   "source": []
  },
  {
   "cell_type": "code",
   "execution_count": null,
   "id": "fca6466d",
   "metadata": {},
   "outputs": [],
   "source": []
  },
  {
   "cell_type": "code",
   "execution_count": null,
   "id": "85c4e6ad",
   "metadata": {},
   "outputs": [],
   "source": []
  },
  {
   "cell_type": "code",
   "execution_count": null,
   "id": "ca1cbe82",
   "metadata": {},
   "outputs": [],
   "source": []
  },
  {
   "cell_type": "code",
   "execution_count": null,
   "id": "16f244e6",
   "metadata": {},
   "outputs": [],
   "source": []
  },
  {
   "cell_type": "code",
   "execution_count": null,
   "id": "2f39a4c9",
   "metadata": {},
   "outputs": [],
   "source": []
  },
  {
   "cell_type": "code",
   "execution_count": null,
   "id": "3e24b8d9",
   "metadata": {},
   "outputs": [],
   "source": []
  },
  {
   "cell_type": "code",
   "execution_count": null,
   "id": "e28ccf1a",
   "metadata": {},
   "outputs": [],
   "source": []
  },
  {
   "cell_type": "code",
   "execution_count": null,
   "id": "9f20426f",
   "metadata": {},
   "outputs": [],
   "source": []
  },
  {
   "cell_type": "code",
   "execution_count": null,
   "id": "53bb0086",
   "metadata": {},
   "outputs": [],
   "source": []
  },
  {
   "cell_type": "code",
   "execution_count": null,
   "id": "7729c70e",
   "metadata": {},
   "outputs": [],
   "source": []
  },
  {
   "cell_type": "code",
   "execution_count": null,
   "id": "ebc2bcec",
   "metadata": {},
   "outputs": [],
   "source": []
  },
  {
   "cell_type": "code",
   "execution_count": 130,
   "id": "d5dcc1ce",
   "metadata": {},
   "outputs": [],
   "source": []
  },
  {
   "cell_type": "code",
   "execution_count": null,
   "id": "900aee59",
   "metadata": {},
   "outputs": [],
   "source": []
  },
  {
   "cell_type": "code",
   "execution_count": null,
   "id": "571b2e16",
   "metadata": {},
   "outputs": [],
   "source": []
  },
  {
   "cell_type": "code",
   "execution_count": null,
   "id": "ab242d0c",
   "metadata": {},
   "outputs": [],
   "source": []
  },
  {
   "cell_type": "code",
   "execution_count": null,
   "id": "870c4c6c",
   "metadata": {},
   "outputs": [],
   "source": []
  },
  {
   "cell_type": "code",
   "execution_count": null,
   "id": "dd052eda",
   "metadata": {},
   "outputs": [],
   "source": []
  },
  {
   "cell_type": "code",
   "execution_count": null,
   "id": "b64a9528",
   "metadata": {},
   "outputs": [],
   "source": []
  },
  {
   "cell_type": "code",
   "execution_count": null,
   "id": "daf6940e",
   "metadata": {},
   "outputs": [],
   "source": []
  },
  {
   "cell_type": "code",
   "execution_count": null,
   "id": "12bcd73e",
   "metadata": {},
   "outputs": [],
   "source": []
  },
  {
   "cell_type": "code",
   "execution_count": null,
   "id": "f0fc6694",
   "metadata": {},
   "outputs": [],
   "source": []
  },
  {
   "cell_type": "code",
   "execution_count": null,
   "id": "d02b93dd",
   "metadata": {},
   "outputs": [],
   "source": []
  },
  {
   "cell_type": "code",
   "execution_count": null,
   "id": "8435011d",
   "metadata": {},
   "outputs": [],
   "source": []
  },
  {
   "cell_type": "code",
   "execution_count": null,
   "id": "90576eed",
   "metadata": {},
   "outputs": [],
   "source": []
  },
  {
   "cell_type": "code",
   "execution_count": null,
   "id": "fdfbf4f1",
   "metadata": {},
   "outputs": [],
   "source": []
  },
  {
   "cell_type": "code",
   "execution_count": null,
   "id": "bc7de6e3",
   "metadata": {},
   "outputs": [],
   "source": []
  },
  {
   "cell_type": "code",
   "execution_count": null,
   "id": "a6c4b32f",
   "metadata": {},
   "outputs": [],
   "source": []
  },
  {
   "cell_type": "code",
   "execution_count": null,
   "id": "177836aa",
   "metadata": {},
   "outputs": [],
   "source": []
  },
  {
   "cell_type": "code",
   "execution_count": null,
   "id": "55b3ba19",
   "metadata": {},
   "outputs": [],
   "source": []
  },
  {
   "cell_type": "code",
   "execution_count": null,
   "id": "3d6d4dbc",
   "metadata": {},
   "outputs": [],
   "source": []
  },
  {
   "cell_type": "code",
   "execution_count": null,
   "id": "3fe7fec7",
   "metadata": {},
   "outputs": [],
   "source": []
  },
  {
   "cell_type": "code",
   "execution_count": null,
   "id": "465d97e6",
   "metadata": {},
   "outputs": [],
   "source": []
  },
  {
   "cell_type": "code",
   "execution_count": 69,
   "id": "9cc21e8b",
   "metadata": {},
   "outputs": [],
   "source": [
    "dfx = dd.read_parquet(\n",
    "    \"./tmp/trip_data_['yellow_tripdata_2013-11.csv']\", \n",
    "    storage_options={\"anon\": True, 'use_ssl': True})"
   ]
  },
  {
   "cell_type": "code",
   "execution_count": 70,
   "id": "50ca125c",
   "metadata": {},
   "outputs": [
    {
     "data": {
      "text/html": [
       "<div>\n",
       "<style scoped>\n",
       "    .dataframe tbody tr th:only-of-type {\n",
       "        vertical-align: middle;\n",
       "    }\n",
       "\n",
       "    .dataframe tbody tr th {\n",
       "        vertical-align: top;\n",
       "    }\n",
       "\n",
       "    .dataframe thead th {\n",
       "        text-align: right;\n",
       "    }\n",
       "</style>\n",
       "<table border=\"1\" class=\"dataframe\">\n",
       "  <thead>\n",
       "    <tr style=\"text-align: right;\">\n",
       "      <th></th>\n",
       "      <th>vendor_id</th>\n",
       "      <th>pickup_datetime</th>\n",
       "      <th>dropoff_datetime</th>\n",
       "      <th>passenger_count</th>\n",
       "      <th>trip_distance</th>\n",
       "      <th>pickup_longitude</th>\n",
       "      <th>pickup_latitude</th>\n",
       "      <th>rate_code</th>\n",
       "      <th>store_and_fwd_flag</th>\n",
       "      <th>dropoff_longitude</th>\n",
       "      <th>dropoff_latitude</th>\n",
       "      <th>payment_type</th>\n",
       "      <th>fare_amount</th>\n",
       "      <th>surcharge</th>\n",
       "      <th>mta_tax</th>\n",
       "      <th>tip_amount</th>\n",
       "      <th>tolls_amount</th>\n",
       "      <th>total_amount</th>\n",
       "    </tr>\n",
       "  </thead>\n",
       "  <tbody>\n",
       "    <tr>\n",
       "      <th>0</th>\n",
       "      <td>CMT</td>\n",
       "      <td>2013-11-25 15:53:33</td>\n",
       "      <td>2013-11-25 16:00:51</td>\n",
       "      <td>1</td>\n",
       "      <td>0.6</td>\n",
       "      <td>-73.978104</td>\n",
       "      <td>40.752966</td>\n",
       "      <td>1</td>\n",
       "      <td>N</td>\n",
       "      <td>-73.985756</td>\n",
       "      <td>40.762685</td>\n",
       "      <td>CRD</td>\n",
       "      <td>6.0</td>\n",
       "      <td>1.0</td>\n",
       "      <td>0.5</td>\n",
       "      <td>1.00</td>\n",
       "      <td>0.0</td>\n",
       "      <td>8.50</td>\n",
       "    </tr>\n",
       "    <tr>\n",
       "      <th>1</th>\n",
       "      <td>CMT</td>\n",
       "      <td>2013-11-25 15:24:41</td>\n",
       "      <td>2013-11-25 15:30:18</td>\n",
       "      <td>1</td>\n",
       "      <td>0.5</td>\n",
       "      <td>-73.982313</td>\n",
       "      <td>40.764827</td>\n",
       "      <td>1</td>\n",
       "      <td>N</td>\n",
       "      <td>-73.982129</td>\n",
       "      <td>40.758889</td>\n",
       "      <td>CRD</td>\n",
       "      <td>5.5</td>\n",
       "      <td>0.0</td>\n",
       "      <td>0.5</td>\n",
       "      <td>3.00</td>\n",
       "      <td>0.0</td>\n",
       "      <td>9.00</td>\n",
       "    </tr>\n",
       "    <tr>\n",
       "      <th>2</th>\n",
       "      <td>CMT</td>\n",
       "      <td>2013-11-25 09:43:42</td>\n",
       "      <td>2013-11-25 10:02:57</td>\n",
       "      <td>1</td>\n",
       "      <td>3.3</td>\n",
       "      <td>-73.982013</td>\n",
       "      <td>40.762507</td>\n",
       "      <td>1</td>\n",
       "      <td>N</td>\n",
       "      <td>-74.006854</td>\n",
       "      <td>40.719582</td>\n",
       "      <td>CRD</td>\n",
       "      <td>15.0</td>\n",
       "      <td>0.0</td>\n",
       "      <td>0.5</td>\n",
       "      <td>2.00</td>\n",
       "      <td>0.0</td>\n",
       "      <td>17.50</td>\n",
       "    </tr>\n",
       "    <tr>\n",
       "      <th>3</th>\n",
       "      <td>CMT</td>\n",
       "      <td>2013-11-25 06:49:58</td>\n",
       "      <td>2013-11-25 07:04:22</td>\n",
       "      <td>1</td>\n",
       "      <td>3.8</td>\n",
       "      <td>-73.976005</td>\n",
       "      <td>40.744481</td>\n",
       "      <td>1</td>\n",
       "      <td>N</td>\n",
       "      <td>-74.016063</td>\n",
       "      <td>40.717298</td>\n",
       "      <td>CRD</td>\n",
       "      <td>14.0</td>\n",
       "      <td>0.0</td>\n",
       "      <td>0.5</td>\n",
       "      <td>2.90</td>\n",
       "      <td>0.0</td>\n",
       "      <td>17.40</td>\n",
       "    </tr>\n",
       "    <tr>\n",
       "      <th>4</th>\n",
       "      <td>CMT</td>\n",
       "      <td>2013-11-25 10:02:12</td>\n",
       "      <td>2013-11-25 10:17:15</td>\n",
       "      <td>1</td>\n",
       "      <td>2.2</td>\n",
       "      <td>-73.952625</td>\n",
       "      <td>40.780962</td>\n",
       "      <td>1</td>\n",
       "      <td>N</td>\n",
       "      <td>-73.981630</td>\n",
       "      <td>40.777978</td>\n",
       "      <td>CRD</td>\n",
       "      <td>12.0</td>\n",
       "      <td>0.0</td>\n",
       "      <td>0.5</td>\n",
       "      <td>2.00</td>\n",
       "      <td>0.0</td>\n",
       "      <td>14.50</td>\n",
       "    </tr>\n",
       "    <tr>\n",
       "      <th>5</th>\n",
       "      <td>CMT</td>\n",
       "      <td>2013-11-25 15:18:07</td>\n",
       "      <td>2013-11-25 15:33:25</td>\n",
       "      <td>1</td>\n",
       "      <td>1.0</td>\n",
       "      <td>-73.992423</td>\n",
       "      <td>40.749517</td>\n",
       "      <td>1</td>\n",
       "      <td>N</td>\n",
       "      <td>-73.988160</td>\n",
       "      <td>40.746557</td>\n",
       "      <td>CRD</td>\n",
       "      <td>10.0</td>\n",
       "      <td>0.0</td>\n",
       "      <td>0.5</td>\n",
       "      <td>2.22</td>\n",
       "      <td>0.0</td>\n",
       "      <td>12.72</td>\n",
       "    </tr>\n",
       "    <tr>\n",
       "      <th>6</th>\n",
       "      <td>CMT</td>\n",
       "      <td>2013-11-25 21:20:50</td>\n",
       "      <td>2013-11-25 21:26:22</td>\n",
       "      <td>1</td>\n",
       "      <td>1.1</td>\n",
       "      <td>-73.946371</td>\n",
       "      <td>40.775369</td>\n",
       "      <td>1</td>\n",
       "      <td>N</td>\n",
       "      <td>-73.953090</td>\n",
       "      <td>40.785103</td>\n",
       "      <td>CRD</td>\n",
       "      <td>6.5</td>\n",
       "      <td>0.5</td>\n",
       "      <td>0.5</td>\n",
       "      <td>1.50</td>\n",
       "      <td>0.0</td>\n",
       "      <td>9.00</td>\n",
       "    </tr>\n",
       "    <tr>\n",
       "      <th>7</th>\n",
       "      <td>CMT</td>\n",
       "      <td>2013-11-25 07:00:55</td>\n",
       "      <td>2013-11-25 07:04:37</td>\n",
       "      <td>1</td>\n",
       "      <td>1.2</td>\n",
       "      <td>-73.983357</td>\n",
       "      <td>40.767193</td>\n",
       "      <td>1</td>\n",
       "      <td>N</td>\n",
       "      <td>-73.978394</td>\n",
       "      <td>40.755580</td>\n",
       "      <td>CRD</td>\n",
       "      <td>5.5</td>\n",
       "      <td>0.0</td>\n",
       "      <td>0.5</td>\n",
       "      <td>1.00</td>\n",
       "      <td>0.0</td>\n",
       "      <td>7.00</td>\n",
       "    </tr>\n",
       "    <tr>\n",
       "      <th>8</th>\n",
       "      <td>CMT</td>\n",
       "      <td>2013-11-25 05:34:37</td>\n",
       "      <td>2013-11-25 05:48:15</td>\n",
       "      <td>1</td>\n",
       "      <td>3.6</td>\n",
       "      <td>-73.971555</td>\n",
       "      <td>40.794548</td>\n",
       "      <td>1</td>\n",
       "      <td>N</td>\n",
       "      <td>-73.975399</td>\n",
       "      <td>40.755404</td>\n",
       "      <td>CRD</td>\n",
       "      <td>14.5</td>\n",
       "      <td>0.5</td>\n",
       "      <td>0.5</td>\n",
       "      <td>1.00</td>\n",
       "      <td>0.0</td>\n",
       "      <td>16.50</td>\n",
       "    </tr>\n",
       "    <tr>\n",
       "      <th>9</th>\n",
       "      <td>CMT</td>\n",
       "      <td>2013-11-25 08:31:21</td>\n",
       "      <td>2013-11-25 08:55:05</td>\n",
       "      <td>1</td>\n",
       "      <td>5.9</td>\n",
       "      <td>-73.947640</td>\n",
       "      <td>40.830465</td>\n",
       "      <td>1</td>\n",
       "      <td>N</td>\n",
       "      <td>-73.972323</td>\n",
       "      <td>40.763320</td>\n",
       "      <td>CRD</td>\n",
       "      <td>21.0</td>\n",
       "      <td>0.0</td>\n",
       "      <td>0.5</td>\n",
       "      <td>3.00</td>\n",
       "      <td>0.0</td>\n",
       "      <td>24.50</td>\n",
       "    </tr>\n",
       "  </tbody>\n",
       "</table>\n",
       "</div>"
      ],
      "text/plain": [
       "  vendor_id      pickup_datetime     dropoff_datetime  passenger_count  \\\n",
       "0       CMT  2013-11-25 15:53:33  2013-11-25 16:00:51                1   \n",
       "1       CMT  2013-11-25 15:24:41  2013-11-25 15:30:18                1   \n",
       "2       CMT  2013-11-25 09:43:42  2013-11-25 10:02:57                1   \n",
       "3       CMT  2013-11-25 06:49:58  2013-11-25 07:04:22                1   \n",
       "4       CMT  2013-11-25 10:02:12  2013-11-25 10:17:15                1   \n",
       "5       CMT  2013-11-25 15:18:07  2013-11-25 15:33:25                1   \n",
       "6       CMT  2013-11-25 21:20:50  2013-11-25 21:26:22                1   \n",
       "7       CMT  2013-11-25 07:00:55  2013-11-25 07:04:37                1   \n",
       "8       CMT  2013-11-25 05:34:37  2013-11-25 05:48:15                1   \n",
       "9       CMT  2013-11-25 08:31:21  2013-11-25 08:55:05                1   \n",
       "\n",
       "   trip_distance  pickup_longitude  pickup_latitude  rate_code  \\\n",
       "0            0.6        -73.978104        40.752966          1   \n",
       "1            0.5        -73.982313        40.764827          1   \n",
       "2            3.3        -73.982013        40.762507          1   \n",
       "3            3.8        -73.976005        40.744481          1   \n",
       "4            2.2        -73.952625        40.780962          1   \n",
       "5            1.0        -73.992423        40.749517          1   \n",
       "6            1.1        -73.946371        40.775369          1   \n",
       "7            1.2        -73.983357        40.767193          1   \n",
       "8            3.6        -73.971555        40.794548          1   \n",
       "9            5.9        -73.947640        40.830465          1   \n",
       "\n",
       "  store_and_fwd_flag  dropoff_longitude  dropoff_latitude payment_type  \\\n",
       "0                  N         -73.985756         40.762685          CRD   \n",
       "1                  N         -73.982129         40.758889          CRD   \n",
       "2                  N         -74.006854         40.719582          CRD   \n",
       "3                  N         -74.016063         40.717298          CRD   \n",
       "4                  N         -73.981630         40.777978          CRD   \n",
       "5                  N         -73.988160         40.746557          CRD   \n",
       "6                  N         -73.953090         40.785103          CRD   \n",
       "7                  N         -73.978394         40.755580          CRD   \n",
       "8                  N         -73.975399         40.755404          CRD   \n",
       "9                  N         -73.972323         40.763320          CRD   \n",
       "\n",
       "   fare_amount  surcharge  mta_tax  tip_amount  tolls_amount  total_amount  \n",
       "0          6.0        1.0      0.5        1.00           0.0          8.50  \n",
       "1          5.5        0.0      0.5        3.00           0.0          9.00  \n",
       "2         15.0        0.0      0.5        2.00           0.0         17.50  \n",
       "3         14.0        0.0      0.5        2.90           0.0         17.40  \n",
       "4         12.0        0.0      0.5        2.00           0.0         14.50  \n",
       "5         10.0        0.0      0.5        2.22           0.0         12.72  \n",
       "6          6.5        0.5      0.5        1.50           0.0          9.00  \n",
       "7          5.5        0.0      0.5        1.00           0.0          7.00  \n",
       "8         14.5        0.5      0.5        1.00           0.0         16.50  \n",
       "9         21.0        0.0      0.5        3.00           0.0         24.50  "
      ]
     },
     "execution_count": 70,
     "metadata": {},
     "output_type": "execute_result"
    }
   ],
   "source": [
    "dfx.head(10)"
   ]
  },
  {
   "cell_type": "code",
   "execution_count": null,
   "id": "43f62c07",
   "metadata": {},
   "outputs": [],
   "source": []
  }
 ],
 "metadata": {
  "kernelspec": {
   "display_name": "Python 3 (ipykernel)",
   "language": "python",
   "name": "python3"
  },
  "language_info": {
   "codemirror_mode": {
    "name": "ipython",
    "version": 3
   },
   "file_extension": ".py",
   "mimetype": "text/x-python",
   "name": "python",
   "nbconvert_exporter": "python",
   "pygments_lexer": "ipython3",
   "version": "3.10.4"
  }
 },
 "nbformat": 4,
 "nbformat_minor": 5
}
